{
 "cells": [
  {
   "cell_type": "code",
   "execution_count": 1,
   "id": "shaped-singing",
   "metadata": {},
   "outputs": [],
   "source": [
    "import os\n",
    "import pandas as pd\n",
    "import shutil\n"
   ]
  },
  {
   "cell_type": "code",
   "execution_count": 2,
   "id": "verified-fault",
   "metadata": {},
   "outputs": [
    {
     "data": {
      "text/plain": [
       "['new', 'total.pkl']"
      ]
     },
     "execution_count": 2,
     "metadata": {},
     "output_type": "execute_result"
    }
   ],
   "source": [
    "os.listdir('../data')"
   ]
  },
  {
   "cell_type": "code",
   "execution_count": 4,
   "id": "cosmetic-founder",
   "metadata": {},
   "outputs": [
    {
     "data": {
      "text/plain": [
       "35179"
      ]
     },
     "execution_count": 4,
     "metadata": {},
     "output_type": "execute_result"
    }
   ],
   "source": [
    "total = []\n",
    "def append_unique(path, total):\n",
    "    l = os.listdir(path)\n",
    "    for el in l:\n",
    "#         if el not in total:\n",
    "        total.append(f'{path}/{el}')\n",
    "    return total \n",
    "\n",
    "total = append_unique('../data/2017', total)\n",
    "total = append_unique('../data/2018', total)\n",
    "total = append_unique('../data/1', total)\n",
    "total = append_unique('../data/2', total)\n",
    "total = append_unique('../data/3', total)\n",
    "total = append_unique('../data/4', total)\n",
    "total = append_unique('../data/5', total)\n",
    "len(total)"
   ]
  },
  {
   "cell_type": "code",
   "execution_count": 8,
   "id": "computational-basement",
   "metadata": {},
   "outputs": [
    {
     "data": {
      "application/vnd.jupyter.widget-view+json": {
       "model_id": "2b887eb46fac47808c0c3f47323f73ea",
       "version_major": 2,
       "version_minor": 0
      },
      "text/plain": [
       "HBox(children=(FloatProgress(value=0.0, max=35179.0), HTML(value='')))"
      ]
     },
     "metadata": {},
     "output_type": "display_data"
    },
    {
     "name": "stdout",
     "output_type": "stream",
     "text": [
      "\n"
     ]
    }
   ],
   "source": [
    "from tqdm.auto import tqdm\n",
    "\n",
    "for src in tqdm(total):\n",
    "    try:\n",
    "        foldername = src.split('/')[-1]\n",
    "        dst = f'../data/total/{foldername}'\n",
    "        if os.path.exists(dst):\n",
    "            shutil.rmtree(dst)\n",
    "        shutil.move(src, dst)\n",
    "    except Exception as exp:\n",
    "        print(exp)"
   ]
  },
  {
   "cell_type": "code",
   "execution_count": 9,
   "id": "organic-expense",
   "metadata": {},
   "outputs": [
    {
     "data": {
      "text/plain": [
       "35179"
      ]
     },
     "execution_count": 9,
     "metadata": {},
     "output_type": "execute_result"
    }
   ],
   "source": [
    "len(os.listdir('../data/total/'))"
   ]
  },
  {
   "cell_type": "code",
   "execution_count": null,
   "id": "frank-boulder",
   "metadata": {},
   "outputs": [],
   "source": []
  },
  {
   "cell_type": "code",
   "execution_count": null,
   "id": "actual-hunger",
   "metadata": {},
   "outputs": [],
   "source": []
  },
  {
   "cell_type": "code",
   "execution_count": null,
   "id": "heated-kelly",
   "metadata": {},
   "outputs": [],
   "source": []
  }
 ],
 "metadata": {
  "kernelspec": {
   "display_name": "Python 3",
   "language": "python",
   "name": "python3"
  },
  "language_info": {
   "codemirror_mode": {
    "name": "ipython",
    "version": 3
   },
   "file_extension": ".py",
   "mimetype": "text/x-python",
   "name": "python",
   "nbconvert_exporter": "python",
   "pygments_lexer": "ipython3",
   "version": "3.7.9"
  }
 },
 "nbformat": 4,
 "nbformat_minor": 5
}
