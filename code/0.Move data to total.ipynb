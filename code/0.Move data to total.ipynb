{
 "cells": [
  {
   "cell_type": "code",
   "execution_count": 73,
   "id": "shaped-singing",
   "metadata": {},
   "outputs": [],
   "source": [
    "import os\n",
    "import pandas as pd\n",
    "import shutil\n"
   ]
  },
  {
   "cell_type": "code",
   "execution_count": 74,
   "id": "verified-fault",
   "metadata": {},
   "outputs": [
    {
     "data": {
      "text/plain": [
       "['результат с фото.rar',\n",
       " 'total',\n",
       " 'Результаты 19-20.rar',\n",
       " 'результат с фото',\n",
       " 'Результаты 19-20',\n",
       " 'результаты 07.19-31.03 - с фото',\n",
       " 'результаты 07.19-31.03 - с фото.rar']"
      ]
     },
     "execution_count": 74,
     "metadata": {},
     "output_type": "execute_result"
    }
   ],
   "source": [
    "os.listdir('../data')"
   ]
  },
  {
   "cell_type": "code",
   "execution_count": 75,
   "id": "cosmetic-founder",
   "metadata": {},
   "outputs": [
    {
     "data": {
      "text/plain": [
       "12301"
      ]
     },
     "execution_count": 75,
     "metadata": {},
     "output_type": "execute_result"
    }
   ],
   "source": [
    "total = []\n",
    "def append_unique(path, total):\n",
    "    l = os.listdir(path)\n",
    "    for el in l:\n",
    "        if el not in total:\n",
    "            total.append(f'{path}/{el}')\n",
    "    return total \n",
    "\n",
    "total = append_unique('../data/результат с фото', total)\n",
    "total = append_unique('../data/Результаты 19-20', total)\n",
    "total = append_unique('../data/результаты 07.19-31.03 - с фото/октябрь-декабрь', total)\n",
    "total = append_unique('../data/результаты 07.19-31.03 - с фото/январь-март', total)\n",
    "total = append_unique('../data/результаты 07.19-31.03 - с фото/июль-сентябрь', total)\n",
    "len(total)"
   ]
  },
  {
   "cell_type": "code",
   "execution_count": 76,
   "id": "computational-basement",
   "metadata": {},
   "outputs": [
    {
     "name": "stdout",
     "output_type": "stream",
     "text": [
      "Destination path '../data/total/63719-42001_d4af422a-d362-11e7-80e7-000c293676f4/63719-42001_d4af422a-d362-11e7-80e7-000c293676f4' already exists\n",
      "Destination path '../data/total/61819-41014_6f6490ff-e59a-11e9-997d-00155d2d0507/61819-41014_6f6490ff-e59a-11e9-997d-00155d2d0507' already exists\n",
      "Destination path '../data/total/63219-43005_f7c05e66-4330-11e6-9da2-f01fafe92f9d/63219-43005_f7c05e66-4330-11e6-9da2-f01fafe92f9d' already exists\n",
      "Destination path '../data/total/63919-42007_f3b1dfd3-ac80-11e9-997a-00155d2d0507/63919-42007_f3b1dfd3-ac80-11e9-997a-00155d2d0507' already exists\n",
      "Destination path '../data/total/63919-43016_0d93cf62-f019-11e9-997d-00155d2d0507/63919-43016_0d93cf62-f019-11e9-997d-00155d2d0507' already exists\n",
      "Destination path '../data/total/63719-42009_8a9d6154-e900-11e9-997d-00155d2d0507/63719-42009_8a9d6154-e900-11e9-997d-00155d2d0507' already exists\n",
      "Destination path '../data/total/62719-41026_b15560c5-e72d-11e9-997d-00155d2d0507/62719-41026_b15560c5-e72d-11e9-997d-00155d2d0507' already exists\n",
      "Destination path '../data/total/61419-43002_43596444-c96c-11e9-997d-00155d2d0507/61419-43002_43596444-c96c-11e9-997d-00155d2d0507' already exists\n",
      "Destination path '../data/total/63819-41004_c2030c0c-c1d8-11e2-8a80-d4ae52c6cb41/63819-41004_c2030c0c-c1d8-11e2-8a80-d4ae52c6cb41' already exists\n",
      "Destination path '../data/total/63819-41002_53c95f3d-d2bd-11e9-997d-00155d2d0507/63819-41002_53c95f3d-d2bd-11e9-997d-00155d2d0507' already exists\n",
      "Destination path '../data/total/62319-41014_fe6ed9c5-e7ec-11e9-997d-00155d2d0507/62319-41014_fe6ed9c5-e7ec-11e9-997d-00155d2d0507' already exists\n",
      "Destination path '../data/total/63719-42012_0caaa5d5-ebeb-11e9-997d-00155d2d0507/63719-42012_0caaa5d5-ebeb-11e9-997d-00155d2d0507' already exists\n",
      "Destination path '../data/total/62719-41012_c5b6f4de-7431-11e6-be7f-f01fafe92f9d/62719-41012_c5b6f4de-7431-11e6-be7f-f01fafe92f9d' already exists\n",
      "Destination path '../data/total/63719-42004_f0ec901a-ddbd-11e9-997d-00155d2d0507/63719-42004_f0ec901a-ddbd-11e9-997d-00155d2d0507' already exists\n",
      "Destination path '../data/total/61219-41022_4c386d49-e671-11e9-997d-00155d2d0507/61219-41022_4c386d49-e671-11e9-997d-00155d2d0507' already exists\n",
      "Destination path '../data/total/61119-43004_c2cd700b-ebe7-11e9-997d-00155d2d0507/61119-43004_c2cd700b-ebe7-11e9-997d-00155d2d0507' already exists\n",
      "Destination path '../data/total/63219-41007_9a831077-dad4-11e9-997d-00155d2d0507/63219-41007_9a831077-dad4-11e9-997d-00155d2d0507' already exists\n",
      "Destination path '../data/total/60619-41009_fdf355bd-c3a1-11e8-80f9-000c293676f4/60619-41009_fdf355bd-c3a1-11e8-80f9-000c293676f4' already exists\n",
      "Destination path '../data/total/61519-43014_3c64849d-e5c5-11e9-997d-00155d2d0507/61519-43014_3c64849d-e5c5-11e9-997d-00155d2d0507' already exists\n",
      "Destination path '../data/total/61819-42005_7215ad14-cf97-11e9-997d-00155d2d0507/61819-42005_7215ad14-cf97-11e9-997d-00155d2d0507' already exists\n",
      "Destination path '../data/total/63219-41002_287e1249-6440-11e8-80f4-000c293676f4/63219-41002_287e1249-6440-11e8-80f4-000c293676f4' already exists\n",
      "Destination path '../data/total/62419-42009_495cfdaf-eb31-11e9-997d-00155d2d0507/62419-42009_495cfdaf-eb31-11e9-997d-00155d2d0507' already exists\n",
      "Destination path '../data/total/63919-43011_87fc1e0a-ea82-11e9-997d-00155d2d0507/63919-43011_87fc1e0a-ea82-11e9-997d-00155d2d0507' already exists\n",
      "Destination path '../data/total/63119-42008_91c95992-94c5-11e9-997a-00155d2d0507/63119-42008_91c95992-94c5-11e9-997a-00155d2d0507' already exists\n",
      "Destination path '../data/total/63119-41014_6edc9e6d-b87f-11e6-80cd-000c293676f4/63119-41014_6edc9e6d-b87f-11e6-80cd-000c293676f4' already exists\n",
      "Destination path '../data/total/61219-42018_7b139fa8-7a91-11e8-80f6-000c293676f4/61219-42018_7b139fa8-7a91-11e8-80f6-000c293676f4' already exists\n",
      "Destination path '../data/total/60819-41007_5492fdc8-df51-11e9-997d-00155d2d0507/60819-41007_5492fdc8-df51-11e9-997d-00155d2d0507' already exists\n",
      "Destination path '../data/total/63919-42005_706b7f30-f938-11e8-8104-000c293676f4/63919-42005_706b7f30-f938-11e8-8104-000c293676f4' already exists\n",
      "Destination path '../data/total/61819-43007_9fd691fd-d840-11e9-997d-00155d2d0507/61819-43007_9fd691fd-d840-11e9-997d-00155d2d0507' already exists\n",
      "Destination path '../data/total/63919-41009_8e1051cb-c3a9-11e8-80f9-000c293676f4/63919-41009_8e1051cb-c3a9-11e8-80f9-000c293676f4' already exists\n",
      "Destination path '../data/total/61119-42010_2882599c-ec0c-11e9-997d-00155d2d0507/61119-42010_2882599c-ec0c-11e9-997d-00155d2d0507' already exists\n",
      "Destination path '../data/total/63719-43003_463d1c3f-1daa-11e6-9800-f01fafe92f9d/63719-43003_463d1c3f-1daa-11e6-9800-f01fafe92f9d' already exists\n",
      "Destination path '../data/total/61119-42009_073b5cfb-b620-11e7-80e6-000c293676f4/61119-42009_073b5cfb-b620-11e7-80e6-000c293676f4' already exists\n",
      "Destination path '../data/total/60619-43007_9f4ab26b-0759-11e9-9973-00155d2d0507/60619-43007_9f4ab26b-0759-11e9-9973-00155d2d0507' already exists\n",
      "Destination path '../data/total/62719-41010_c55f1962-f404-11e6-80e2-000c293676f4/62719-41010_c55f1962-f404-11e6-80e2-000c293676f4' already exists\n",
      "Destination path '../data/total/63719-42010_83e085a6-ebe5-11e9-997d-00155d2d0507/63719-42010_83e085a6-ebe5-11e9-997d-00155d2d0507' already exists\n",
      "Destination path '../data/total/61419-41015_8160f510-4b5f-11e9-9977-00155d2d0507/61419-41015_8160f510-4b5f-11e9-9977-00155d2d0507' already exists\n",
      "Destination path '../data/total/61219-41027_d52384cc-e747-11e9-997d-00155d2d0507/61219-41027_d52384cc-e747-11e9-997d-00155d2d0507' already exists\n",
      "Destination path '../data/total/61619-41015_8e2fc529-36ff-11e8-80f0-000c293676f4/61619-41015_8e2fc529-36ff-11e8-80f0-000c293676f4' already exists\n",
      "Destination path '../data/total/63919-43002_fb0e8b94-ee3d-11e9-997d-00155d2d0507/63919-43002_fb0e8b94-ee3d-11e9-997d-00155d2d0507' already exists\n",
      "Destination path '../data/total/61419-42017_de011349-ec00-11e9-997d-00155d2d0507/61419-42017_de011349-ec00-11e9-997d-00155d2d0507' already exists\n",
      "Destination path '../data/total/63419-41019_94c1e2b2-e830-11e9-997d-00155d2d0507/63419-41019_94c1e2b2-e830-11e9-997d-00155d2d0507' already exists\n",
      "Destination path '../data/total/63919-43010_2d86b669-82a7-11e9-997a-00155d2d0507/63919-43010_2d86b669-82a7-11e9-997a-00155d2d0507' already exists\n",
      "Destination path '../data/total/63219-41016_910736e6-784f-11e8-80f6-000c293676f4/63219-41016_910736e6-784f-11e8-80f6-000c293676f4' already exists\n",
      "Destination path '../data/total/61819-41024_a01a908a-e73e-11e9-997d-00155d2d0507/61819-41024_a01a908a-e73e-11e9-997d-00155d2d0507' already exists\n",
      "Destination path '../data/total/62319-42007_55491d74-cb0b-11e9-997d-00155d2d0507/62319-42007_55491d74-cb0b-11e9-997d-00155d2d0507' already exists\n",
      "Destination path '../data/total/61519-42010_37dc9cca-9718-11e8-80f6-000c293676f4/61519-42010_37dc9cca-9718-11e8-80f6-000c293676f4' already exists\n",
      "Destination path '../data/total/60619-43001_6feadda8-d554-11e9-997d-00155d2d0507/60619-43001_6feadda8-d554-11e9-997d-00155d2d0507' already exists\n",
      "Destination path '../data/total/63119-43008_49905036-f0b4-11e9-997d-00155d2d0507/63119-43008_49905036-f0b4-11e9-997d-00155d2d0507' already exists\n",
      "Destination path '../data/total/61419-42016_b008f84a-d5df-11e9-997d-00155d2d0507/61419-42016_b008f84a-d5df-11e9-997d-00155d2d0507' already exists\n",
      "Destination path '../data/total/63819-43011_eae6774e-5abc-11e5-8027-f01fafe92f9d/63819-43011_eae6774e-5abc-11e5-8027-f01fafe92f9d' already exists\n",
      "Destination path '../data/total/63719-43004_a298a4fd-249d-11e9-9975-00155d2d0507/63719-43004_a298a4fd-249d-11e9-9975-00155d2d0507' already exists\n",
      "Destination path '../data/total/60819-42008_a6ebe062-523e-11e9-9979-00155d2d0507/60819-42008_a6ebe062-523e-11e9-9979-00155d2d0507' already exists\n",
      "Destination path '../data/total/63919-43008_6ca18f28-e37f-11e9-997d-00155d2d0507/63919-43008_6ca18f28-e37f-11e9-997d-00155d2d0507' already exists\n",
      "Destination path '../data/total/61419-42013_01442a82-eb47-11e9-997d-00155d2d0507/61419-42013_01442a82-eb47-11e9-997d-00155d2d0507' already exists\n",
      "Destination path '../data/total/60619-42016_cae8cd2d-5d29-11e5-8027-f01fafe92f9d/60619-42016_cae8cd2d-5d29-11e5-8027-f01fafe92f9d' already exists\n",
      "Destination path '../data/total/63419-42008_512f88d0-0d87-11e4-a63a-f01fafe92f9d/63419-42008_512f88d0-0d87-11e4-a63a-f01fafe92f9d' already exists\n",
      "Destination path '../data/total/60619-43014_23b13039-e900-11e9-997d-00155d2d0507/60619-43014_23b13039-e900-11e9-997d-00155d2d0507' already exists\n",
      "Destination path '../data/total/63719-42003_b4039fdf-d2cb-11e9-997d-00155d2d0507/63719-42003_b4039fdf-d2cb-11e9-997d-00155d2d0507' already exists\n",
      "Destination path '../data/total/62719-42009_1fe65bdc-e9be-11e9-997d-00155d2d0507/62719-42009_1fe65bdc-e9be-11e9-997d-00155d2d0507' already exists\n",
      "Destination path '../data/total/60619-43003_47b55bc9-e1aa-11e9-997d-00155d2d0507/60619-43003_47b55bc9-e1aa-11e9-997d-00155d2d0507' already exists\n",
      "Destination path '../data/total/60819-41014_0d6ca63f-f4ce-11e6-80e2-000c293676f4/60819-41014_0d6ca63f-f4ce-11e6-80e2-000c293676f4' already exists\n",
      "Destination path '../data/total/63919-43015_698deb09-aa60-11e7-80e6-000c293676f4/63919-43015_698deb09-aa60-11e7-80e6-000c293676f4' already exists\n",
      "Destination path '../data/total/61519-41016_efe2b48f-e4f8-11e9-997d-00155d2d0507/61519-41016_efe2b48f-e4f8-11e9-997d-00155d2d0507' already exists\n",
      "Destination path '../data/total/63919-43007_692343ae-6b7e-11e2-a997-c8600054bcf5/63919-43007_692343ae-6b7e-11e2-a997-c8600054bcf5' already exists\n",
      "Destination path '../data/total/61319-43001_36f088a7-eefe-11e9-997d-00155d2d0507/61319-43001_36f088a7-eefe-11e9-997d-00155d2d0507' already exists\n",
      "Destination path '../data/total/61219-43002_9f4ab26b-0759-11e9-9973-00155d2d0507/61219-43002_9f4ab26b-0759-11e9-9973-00155d2d0507' already exists\n",
      "Destination path '../data/total/61619-42008_6a29b7c7-ea64-11e9-997d-00155d2d0507/61619-42008_6a29b7c7-ea64-11e9-997d-00155d2d0507' already exists\n",
      "Destination path '../data/total/61419-41031_eb0fd1d8-e69a-11e9-997d-00155d2d0507/61419-41031_eb0fd1d8-e69a-11e9-997d-00155d2d0507' already exists\n",
      "Destination path '../data/total/63919-41019_f4614593-e5e1-11e9-997d-00155d2d0507/63919-41019_f4614593-e5e1-11e9-997d-00155d2d0507' already exists\n",
      "Destination path '../data/total/63919-43014_454291b1-ef58-11e9-997d-00155d2d0507/63919-43014_454291b1-ef58-11e9-997d-00155d2d0507' already exists\n",
      "Destination path '../data/total/61519-42020_b0be2ea1-eb36-11e9-997d-00155d2d0507/61519-42020_b0be2ea1-eb36-11e9-997d-00155d2d0507' already exists\n",
      "Destination path '../data/total/61519-42001_51512aa4-d86c-11e9-997d-00155d2d0507/61519-42001_51512aa4-d86c-11e9-997d-00155d2d0507' already exists\n",
      "Destination path '../data/total/63419-42001_0119b06d-835a-11e9-997a-00155d2d0507/63419-42001_0119b06d-835a-11e9-997a-00155d2d0507' already exists\n",
      "Destination path '../data/total/62419-42007_0080cd40-ea4f-11e9-997d-00155d2d0507/62419-42007_0080cd40-ea4f-11e9-997d-00155d2d0507' already exists\n",
      "Destination path '../data/total/63919-41022_17052b13-e684-11e9-997d-00155d2d0507/63919-41022_17052b13-e684-11e9-997d-00155d2d0507' already exists\n",
      "Destination path '../data/total/63419-41009_89eb1681-7c78-11e9-9979-00155d2d0507/63419-41009_89eb1681-7c78-11e9-9979-00155d2d0507' already exists\n",
      "Destination path '../data/total/62319-41004_b46d5a35-d447-11e9-997d-00155d2d0507/62319-41004_b46d5a35-d447-11e9-997d-00155d2d0507' already exists\n",
      "Destination path '../data/total/61619-43004_b768c6e0-cc41-11e7-80e6-000c293676f4/61619-43004_b768c6e0-cc41-11e7-80e6-000c293676f4' already exists\n",
      "Destination path '../data/total/63419-42013_87a4eeb7-56ae-11e5-8027-f01fafe92f9d/63419-42013_87a4eeb7-56ae-11e5-8027-f01fafe92f9d' already exists\n",
      "Destination path '../data/total/61819-41026_b4f7a063-5239-11e9-9979-00155d2d0507/61819-41026_b4f7a063-5239-11e9-9979-00155d2d0507' already exists\n",
      "Destination path '../data/total/63919-42013_9bbb7778-c8cf-11e9-997d-00155d2d0507/63919-42013_9bbb7778-c8cf-11e9-997d-00155d2d0507' already exists\n",
      "Destination path '../data/total/62319-42001_a3d49659-e8b5-11e9-997d-00155d2d0507/62319-42001_a3d49659-e8b5-11e9-997d-00155d2d0507' already exists\n",
      "Destination path '../data/total/61819-43003_b4f7a063-5239-11e9-9979-00155d2d0507/61819-43003_b4f7a063-5239-11e9-9979-00155d2d0507' already exists\n",
      "Destination path '../data/total/63819-43006_a2b7eef2-ef0e-11e9-997d-00155d2d0507/63819-43006_a2b7eef2-ef0e-11e9-997d-00155d2d0507' already exists\n",
      "Destination path '../data/total/61419-41021_89e1ebd6-bf66-11e9-997b-00155d2d0507/61419-41021_89e1ebd6-bf66-11e9-997b-00155d2d0507' already exists\n",
      "Destination path '../data/total/63119-41009_6a93c972-8baf-11e8-80f6-000c293676f4/63119-41009_6a93c972-8baf-11e8-80f6-000c293676f4' already exists\n",
      "Destination path '../data/total/61519-41019_3c64849d-e5c5-11e9-997d-00155d2d0507/61519-41019_3c64849d-e5c5-11e9-997d-00155d2d0507' already exists\n",
      "Destination path '../data/total/63919-43005_4676b654-80fd-11e8-80f6-000c293676f4/63919-43005_4676b654-80fd-11e8-80f6-000c293676f4' already exists\n",
      "Destination path '../data/total/61919-43005_78561cdc-d390-11e9-997d-00155d2d0507/61919-43005_78561cdc-d390-11e9-997d-00155d2d0507' already exists\n",
      "Destination path '../data/total/61619-43006_a76dc13b-fefa-11e6-80e2-000c293676f4/61619-43006_a76dc13b-fefa-11e6-80e2-000c293676f4' already exists\n",
      "Destination path '../data/total/61819-41013_d97c1ad4-08cb-11e9-9973-00155d2d0507/61819-41013_d97c1ad4-08cb-11e9-9973-00155d2d0507' already exists\n",
      "Destination path '../data/total/61419-41018_5a576ac1-323c-11e9-9976-00155d2d0507/61419-41018_5a576ac1-323c-11e9-9976-00155d2d0507' already exists\n",
      "Destination path '../data/total/60819-41006_6d98c46f-bddc-11e9-997a-00155d2d0507/60819-41006_6d98c46f-bddc-11e9-997a-00155d2d0507' already exists\n",
      "Destination path '../data/total/63919-42004_5c5d123f-e99f-11e9-997d-00155d2d0507/63919-42004_5c5d123f-e99f-11e9-997d-00155d2d0507' already exists\n",
      "Destination path '../data/total/61219-43009_d32a85ea-27b4-11e6-9800-f01fafe92f9d/61219-43009_d32a85ea-27b4-11e6-9800-f01fafe92f9d' already exists\n",
      "Destination path '../data/total/61819-41016_09dc4962-e662-11e9-997d-00155d2d0507/61819-41016_09dc4962-e662-11e9-997d-00155d2d0507' already exists\n",
      "Destination path '../data/total/63919-42010_87fc1e0a-ea82-11e9-997d-00155d2d0507/63919-42010_87fc1e0a-ea82-11e9-997d-00155d2d0507' already exists\n",
      "Destination path '../data/total/63419-41013_175f63a1-e66c-11e9-997d-00155d2d0507/63419-41013_175f63a1-e66c-11e9-997d-00155d2d0507' already exists\n",
      "Destination path '../data/total/63919-43004_6a93c972-8baf-11e8-80f6-000c293676f4/63919-43004_6a93c972-8baf-11e8-80f6-000c293676f4' already exists\n",
      "Destination path '../data/total/61119-42001_0669af2e-d395-11e9-997d-00155d2d0507/61119-42001_0669af2e-d395-11e9-997d-00155d2d0507' already exists\n",
      "Destination path '../data/total/60619-42004_23b13039-e900-11e9-997d-00155d2d0507/60619-42004_23b13039-e900-11e9-997d-00155d2d0507' already exists\n",
      "Destination path '../data/total/61619-43012_6a29b7c7-ea64-11e9-997d-00155d2d0507/61619-43012_6a29b7c7-ea64-11e9-997d-00155d2d0507' already exists\n",
      "Destination path '../data/total/61519-42017_c3c0a62f-ea83-11e9-997d-00155d2d0507/61519-42017_c3c0a62f-ea83-11e9-997d-00155d2d0507' already exists\n",
      "Destination path '../data/total/62419-41015_4eeeb988-d5e2-11e9-997d-00155d2d0507/62419-41015_4eeeb988-d5e2-11e9-997d-00155d2d0507' already exists\n",
      "Destination path '../data/total/62419-41006_09580dc7-e408-11e9-997d-00155d2d0507/62419-41006_09580dc7-e408-11e9-997d-00155d2d0507' already exists\n",
      "Destination path '../data/total/62319-41003_c3fffa0f-e414-11e9-997d-00155d2d0507/62319-41003_c3fffa0f-e414-11e9-997d-00155d2d0507' already exists\n",
      "Destination path '../data/total/63119-43006_e7e128cd-dde0-11e9-997d-00155d2d0507/63119-43006_e7e128cd-dde0-11e9-997d-00155d2d0507' already exists\n",
      "Destination path '../data/total/61419-42006_d4ee8017-d096-11e9-997d-00155d2d0507/61419-42006_d4ee8017-d096-11e9-997d-00155d2d0507' already exists\n",
      "Destination path '../data/total/61619-43014_f4b0d697-de93-11e9-997d-00155d2d0507/61619-43014_f4b0d697-de93-11e9-997d-00155d2d0507' already exists\n",
      "Destination path '../data/total/63119-43009_b66ca149-742c-11e2-aa39-c8600054bcf5/63119-43009_b66ca149-742c-11e2-aa39-c8600054bcf5' already exists\n",
      "Destination path '../data/total/61219-41021_b9880231-d070-11e9-997d-00155d2d0507/61219-41021_b9880231-d070-11e9-997d-00155d2d0507' already exists\n",
      "Destination path '../data/total/63919-41013_61fcd5a7-e44e-11e9-997d-00155d2d0507/63919-41013_61fcd5a7-e44e-11e9-997d-00155d2d0507' already exists\n",
      "Destination path '../data/total/63819-42003_c2f80530-ebda-11e9-997d-00155d2d0507/63819-42003_c2f80530-ebda-11e9-997d-00155d2d0507' already exists\n",
      "Destination path '../data/total/61219-41018_9f4ab26b-0759-11e9-9973-00155d2d0507/61219-41018_9f4ab26b-0759-11e9-9973-00155d2d0507' already exists\n",
      "Destination path '../data/total/61319-43008_8bdab752-f09f-11e9-997d-00155d2d0507/61319-43008_8bdab752-f09f-11e9-997d-00155d2d0507' already exists\n",
      "Destination path '../data/total/63819-41007_463d1c3f-1daa-11e6-9800-f01fafe92f9d/63819-41007_463d1c3f-1daa-11e6-9800-f01fafe92f9d' already exists\n",
      "Destination path '../data/total/63919-41011_8ac64414-9d83-11e9-997a-00155d2d0507/63919-41011_8ac64414-9d83-11e9-997a-00155d2d0507' already exists\n",
      "Destination path '../data/total/61419-41030_029a2950-b371-11e5-b9de-f01fafe92f9d/61419-41030_029a2950-b371-11e5-b9de-f01fafe92f9d' already exists\n",
      "Destination path '../data/total/61619-42009_17c2c51e-a524-11e9-997a-00155d2d0507/61619-42009_17c2c51e-a524-11e9-997a-00155d2d0507' already exists\n",
      "Destination path '../data/total/63919-43009_43e14ac2-f80f-11e8-8104-000c293676f4/63919-43009_43e14ac2-f80f-11e8-8104-000c293676f4' already exists\n",
      "Destination path '../data/total/61419-41024_7328e948-de23-11e9-997d-00155d2d0507/61419-41024_7328e948-de23-11e9-997d-00155d2d0507' already exists\n",
      "Destination path '../data/total/61219-41016_17ac6839-590c-11e4-9d51-f01fafe92f9d/61219-41016_17ac6839-590c-11e4-9d51-f01fafe92f9d' already exists\n",
      "Destination path '../data/total/63419-42009_75caa310-900c-11e5-b6d4-f01fafe92f9d/63419-42009_75caa310-900c-11e5-b6d4-f01fafe92f9d' already exists\n",
      "Destination path '../data/total/62719-42011_0e5605fe-31bf-11e4-8546-f01fafe92f9d/62719-42011_0e5605fe-31bf-11e4-8546-f01fafe92f9d' already exists\n",
      "Destination path '../data/total/63419-42002_bb4687e3-11fa-11e3-9501-d4ae52c6cb41/63419-42002_bb4687e3-11fa-11e3-9501-d4ae52c6cb41' already exists\n",
      "Destination path '../data/total/63719-42013_b4f7a063-5239-11e9-9979-00155d2d0507/63719-42013_b4f7a063-5239-11e9-9979-00155d2d0507' already exists\n",
      "Destination path '../data/total/60819-42010_8d637c37-eb19-11e9-997d-00155d2d0507/60819-42010_8d637c37-eb19-11e9-997d-00155d2d0507' already exists\n",
      "Destination path '../data/total/63919-41021_f010e5ec-0254-11e8-80eb-000c293676f4/63919-41021_f010e5ec-0254-11e8-80eb-000c293676f4' already exists\n",
      "Destination path '../data/total/63919-41023_029a2950-b371-11e5-b9de-f01fafe92f9d/63919-41023_029a2950-b371-11e5-b9de-f01fafe92f9d' already exists\n",
      "Destination path '../data/total/61919-42006_114bb253-655e-11e7-80e5-000c293676f4/61919-42006_114bb253-655e-11e7-80e5-000c293676f4' already exists\n",
      "Destination path '../data/total/63819-42001_fa8723d4-2e4f-11e9-9976-00155d2d0507/63819-42001_fa8723d4-2e4f-11e9-9976-00155d2d0507' already exists\n",
      "Destination path '../data/total/63919-41007_287e1249-6440-11e8-80f4-000c293676f4/63919-41007_287e1249-6440-11e8-80f4-000c293676f4' already exists\n",
      "Destination path '../data/total/63919-43012_c2030c0c-c1d8-11e2-8a80-d4ae52c6cb41/63919-43012_c2030c0c-c1d8-11e2-8a80-d4ae52c6cb41' already exists\n",
      "Destination path '../data/total/61619-43013_60705048-b225-11e7-80e6-000c293676f4/61619-43013_60705048-b225-11e7-80e6-000c293676f4' already exists\n",
      "Destination path '../data/total/63119-41013_e7e128cd-dde0-11e9-997d-00155d2d0507/63119-41013_e7e128cd-dde0-11e9-997d-00155d2d0507' already exists\n",
      "Destination path '../data/total/63819-41003_baa0b24d-e336-11e9-997d-00155d2d0507/63819-41003_baa0b24d-e336-11e9-997d-00155d2d0507' already exists\n",
      "Destination path '../data/total/63819-41011_b5906a20-9962-11e8-80f6-000c293676f4/63819-41011_b5906a20-9962-11e8-80f6-000c293676f4' already exists\n",
      "Destination path '../data/total/61419-42009_dc6e6512-410b-11e6-9da2-f01fafe92f9d/61419-42009_dc6e6512-410b-11e6-9da2-f01fafe92f9d' already exists\n",
      "Destination path '../data/total/63819-43009_6473faf0-e043-11e9-997d-00155d2d0507/63819-43009_6473faf0-e043-11e9-997d-00155d2d0507' already exists\n",
      "Destination path '../data/total/61519-41015_723d0e2c-e4ea-11e9-997d-00155d2d0507/61519-41015_723d0e2c-e4ea-11e9-997d-00155d2d0507' already exists\n",
      "Destination path '../data/total/62719-42016_c5b6f4de-7431-11e6-be7f-f01fafe92f9d/62719-42016_c5b6f4de-7431-11e6-be7f-f01fafe92f9d' already exists\n",
      "Destination path '../data/total/63419-43005_33965587-2323-11e2-9e61-c8600054bcf5/63419-43005_33965587-2323-11e2-9e61-c8600054bcf5' already exists\n",
      "Destination path '../data/total/61119-42002_8a9d6154-e900-11e9-997d-00155d2d0507/61119-42002_8a9d6154-e900-11e9-997d-00155d2d0507' already exists\n",
      "Destination path '../data/total/61119-41010_b1244242-ceec-11e9-997d-00155d2d0507/61119-41010_b1244242-ceec-11e9-997d-00155d2d0507' already exists\n",
      "Destination path '../data/total/61819-42002_ed4b1a27-8391-11e9-997a-00155d2d0507/61819-42002_ed4b1a27-8391-11e9-997a-00155d2d0507' already exists\n",
      "Destination path '../data/total/61819-41021_86f843d4-e1e0-11e9-997d-00155d2d0507/61819-41021_86f843d4-e1e0-11e9-997d-00155d2d0507' already exists\n",
      "Destination path '../data/total/61619-42010_cfd8b0a1-eb12-11e9-997d-00155d2d0507/61619-42010_cfd8b0a1-eb12-11e9-997d-00155d2d0507' already exists\n",
      "Destination path '../data/total/61619-41017_3c3f01e1-9bfa-11e5-a5e3-f01fafe92f9d/61619-41017_3c3f01e1-9bfa-11e5-a5e3-f01fafe92f9d' already exists\n",
      "Destination path '../data/total/61519-43004_9ca80c20-d078-11e9-997d-00155d2d0507/61519-43004_9ca80c20-d078-11e9-997d-00155d2d0507' already exists\n",
      "Destination path '../data/total/63919-41008_6ca18f28-e37f-11e9-997d-00155d2d0507/63919-41008_6ca18f28-e37f-11e9-997d-00155d2d0507' already exists\n"
     ]
    }
   ],
   "source": [
    "for src in total:\n",
    "    try:\n",
    "        foldername = src.split('/')[-1]\n",
    "        dst = f'../data/total/{foldername}'\n",
    "        shutil.move(src, dst)\n",
    "    except Exception as exp:\n",
    "        print(exp)"
   ]
  },
  {
   "cell_type": "code",
   "execution_count": 78,
   "id": "organic-expense",
   "metadata": {},
   "outputs": [
    {
     "data": {
      "text/plain": [
       "9671"
      ]
     },
     "execution_count": 78,
     "metadata": {},
     "output_type": "execute_result"
    }
   ],
   "source": [
    "len(os.listdir('../data/total/'))"
   ]
  },
  {
   "cell_type": "code",
   "execution_count": null,
   "id": "frank-boulder",
   "metadata": {},
   "outputs": [],
   "source": []
  },
  {
   "cell_type": "code",
   "execution_count": null,
   "id": "actual-hunger",
   "metadata": {},
   "outputs": [],
   "source": []
  },
  {
   "cell_type": "code",
   "execution_count": null,
   "id": "heated-kelly",
   "metadata": {},
   "outputs": [],
   "source": []
  }
 ],
 "metadata": {
  "kernelspec": {
   "display_name": "Python 3",
   "language": "python",
   "name": "python3"
  },
  "language_info": {
   "codemirror_mode": {
    "name": "ipython",
    "version": 3
   },
   "file_extension": ".py",
   "mimetype": "text/x-python",
   "name": "python",
   "nbconvert_exporter": "python",
   "pygments_lexer": "ipython3",
   "version": "3.7.9"
  }
 },
 "nbformat": 4,
 "nbformat_minor": 5
}
