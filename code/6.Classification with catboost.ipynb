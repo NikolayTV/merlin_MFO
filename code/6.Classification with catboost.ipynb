{
 "cells": [
  {
   "cell_type": "code",
   "execution_count": 1,
   "id": "toxic-patent",
   "metadata": {},
   "outputs": [],
   "source": [
    "%reload_ext autoreload\n",
    "%autoreload 2\n",
    "\n",
    "import pandas as pd\n",
    "import numpy as np\n",
    "import json\n",
    "import os\n",
    "import shutil \n",
    "from tqdm import tqdm_notebook as tqdm\n",
    "import matplotlib.pyplot as plt\n",
    "import cv2\n",
    "\n",
    "from catboost import CatBoostClassifier, Pool\n",
    "from sklearn.model_selection import train_test_split\n",
    "from sklearn.preprocessing import StandardScaler\n",
    "from sklearn.linear_model import LogisticRegression\n",
    "from sklearn.metrics import roc_auc_score\n",
    "from sklearn.preprocessing import LabelEncoder\n",
    "import scikitplot as skplt\n",
    "\n",
    "from itertools import combinations"
   ]
  },
  {
   "cell_type": "code",
   "execution_count": 2,
   "id": "controlling-salon",
   "metadata": {},
   "outputs": [
    {
     "name": "stderr",
     "output_type": "stream",
     "text": [
      "/home/nikolay/anaconda3/envs/merlin/lib/python3.7/site-packages/ipykernel_launcher.py:11: TqdmDeprecationWarning: This function will be removed in tqdm==5.0.0\n",
      "Please use `tqdm.notebook.tqdm` instead of `tqdm.tqdm_notebook`\n",
      "  # This is added back by InteractiveShellApp.init_path()\n"
     ]
    },
    {
     "data": {
      "application/vnd.jupyter.widget-view+json": {
       "model_id": "b3ae67e447db40b39da09ba41b5788fe",
       "version_major": 2,
       "version_minor": 0
      },
      "text/plain": [
       "HBox(children=(FloatProgress(value=0.0, max=19.0), HTML(value='')))"
      ]
     },
     "metadata": {},
     "output_type": "display_data"
    },
    {
     "name": "stdout",
     "output_type": "stream",
     "text": [
      "\n"
     ]
    }
   ],
   "source": [
    "df = pd.read_csv('df_total.csv', index_col=0)\n",
    "df['gender'] = df['gender'].fillna('Мужской')\n",
    "cols = ['Асимметрия челюсти', 'Высота бровей', 'Наклон глаз',\n",
    "       'Полнота верхней губы', 'Полнота нижней губы',\n",
    "       'Асимметрия размера глаз', 'Ширина посадки глаз', 'Скулы',\n",
    "       'Форма головы', 'Верхнее веко', 'Асимметрия брови', 'Наклон бровей',\n",
    "       'Размер рта', 'Асимметрия наклона глаз', 'Асимметрия носа',\n",
    "       'Размер глаз', 'Оттопыренность ушей', 'Ширина челюсти', 'Уголки рта',\n",
    "       ]\n",
    "\n",
    "for col in tqdm(cols):\n",
    "    df[col] = (df[col] - df[col].quantile(0.01)) / (df[col].quantile(0.99) - df[col].quantile(0.001))\n",
    "    \n",
    "df['Категория'] = df['fraud'].replace({True: 'Мошенник', False: 'Не мошенник'})\n",
    "features = ['Асимметрия челюсти', 'Высота бровей', 'Наклон глаз',\n",
    "           'Полнота верхней губы', 'Полнота нижней губы',\n",
    "           'Асимметрия размера глаз', 'Ширина посадки глаз', 'Скулы',\n",
    "           'Форма головы', 'Верхнее веко', 'Асимметрия брови', 'Наклон бровей',\n",
    "           'Размер рта', 'Асимметрия наклона глаз', 'Асимметрия носа',\n",
    "           'Размер глаз', 'Оттопыренность ушей', 'Ширина челюсти', 'Уголки рта',\n",
    "           ]\n",
    "\n",
    "anketas = ['source', 'childs', 'education', 'marital_status', 'job']\n",
    "\n",
    "ga = ['age', 'gender']"
   ]
  },
  {
   "cell_type": "code",
   "execution_count": 18,
   "id": "injured-carbon",
   "metadata": {},
   "outputs": [],
   "source": [
    "from sklearn.model_selection import StratifiedKFold \n",
    "\n",
    "def train_model(df, cols, folds, iterations, depth, learning_rate ):\n",
    "#                 depth, colsample_bylevel, subsample, bagging_temperature, random_strength, l2_leaf_reg):\n",
    "    \n",
    "    X = df[cols]\n",
    "    cat_features = X.select_dtypes('object').columns.tolist()\n",
    "    y = df['Категория']\n",
    "\n",
    "    kf = StratifiedKFold(n_splits=folds, shuffle=True, random_state=6)\n",
    "    staged_probas_df =  pd.DataFrame(np.zeros((X.shape[0],iterations)), index=X.index)\n",
    "\n",
    "    for train_index, test_index in kf.split(X,y):\n",
    "        X_train, X_test = X.iloc[train_index], X.iloc[test_index]\n",
    "        y_train, y_test = y.iloc[train_index], y.iloc[test_index]\n",
    "\n",
    "        model = CatBoostClassifier(iterations=iterations, \n",
    "                                   depth=depth,\n",
    "                                   eval_metric='AUC',\n",
    "#                                    learning_rate=learning_rate,\n",
    "#                                    loss_function='Logloss',\n",
    "                                   scale_pos_weight=3,\n",
    "#                                    colsample_bylevel=0.5,\n",
    "                                   subsample=0.5,\n",
    "# #                                    bagging_temperature=bagging_temperature,\n",
    "#                                    random_strength=random_strength,\n",
    "#                                    l2_leaf_reg=l2_leaf_reg,\n",
    "#                                    boosting_type='Plain', # 'Plain'\n",
    "                                   bootstrap_type='Bernoulli',# 'Bernoulli' Bayesian\n",
    "#                                    max_ctr_complexity=2,\n",
    "                                   task_type='CPU',\n",
    "                                  )\n",
    "\n",
    "        model.fit(\n",
    "            X_train, y_train,\n",
    "            eval_set = (X_test, y_test),\n",
    "            cat_features=cat_features,\n",
    "            verbose=False,\n",
    "            plot=True,\n",
    "            use_best_model=False\n",
    "        );\n",
    "\n",
    "        staged_probas = model.staged_predict_proba(X_test)\n",
    "        for i, staged_proba in enumerate(staged_probas):\n",
    "            staged_probas_df.iloc[test_index, i] = staged_proba[:,1]\n",
    "        \n",
    "    return staged_probas_df, model\n",
    "\n",
    "\n",
    "def get_result_table(y_proba):\n",
    "    df['y_proba'] = y_proba\n",
    "\n",
    "    quantiles = []\n",
    "    step = 0.2\n",
    "\n",
    "    df['target'] = df['Категория'] == 'Мошенник'\n",
    "\n",
    "    for i in np.arange(0, 1+step, step):\n",
    "        if i > 1: i = 1\n",
    "        quant = df['y_proba'].quantile(i)\n",
    "        quantiles.append(quant)\n",
    "\n",
    "    profit_abs = []\n",
    "    loaners_amount = []\n",
    "    good_bad = []\n",
    "\n",
    "    for i, quant in enumerate(quantiles):\n",
    "        if i == 0: quant = 0\n",
    "        i_next = i + 1\n",
    "        if i_next == len(quantiles): i_next = len(quantiles) - 1\n",
    "        q = df[(df['y_proba'] >= quant) & (df['y_proba'] < quantiles[i_next])]\n",
    "        profit_abs.append(round(pd.Series(q['total_given'] - q['total_taken']).sum()/1000000, 5))\n",
    "        loaners_amount.append(q.shape[0])\n",
    "        good_bad.append(q['target'].mean()*100)\n",
    "        i_old = quantiles[i-1]\n",
    "\n",
    "    print(quantiles)\n",
    "    df2 = pd.DataFrame()\n",
    "    df2['y proba'] = quantiles # np.append(np.arange(0, 0.1, 0.02), \n",
    "    df2['Количество людей'] = loaners_amount\n",
    "    df2['Процент людей, %'] = df2['Количество людей'] * 100 / df.shape[0]\n",
    "    df2['Процент мошенников в группе, %'] = good_bad\n",
    "    df2['Прибыль, млн.р'] = np.array(profit_abs)*2\n",
    "\n",
    "    return df2.drop('Количество людей', axis=1)"
   ]
  },
  {
   "cell_type": "code",
   "execution_count": 19,
   "id": "knowing-single",
   "metadata": {
    "scrolled": true
   },
   "outputs": [
    {
     "name": "stderr",
     "output_type": "stream",
     "text": [
      "Custom logger is already specified. Specify more than one logger at same time is not thread safe."
     ]
    },
    {
     "data": {
      "application/vnd.jupyter.widget-view+json": {
       "model_id": "7150f3352f574db68f6189745fe2a96b",
       "version_major": 2,
       "version_minor": 0
      },
      "text/plain": [
       "MetricVisualizer(layout=Layout(align_self='stretch', height='500px'))"
      ]
     },
     "metadata": {},
     "output_type": "display_data"
    },
    {
     "data": {
      "application/vnd.jupyter.widget-view+json": {
       "model_id": "2b5993c1008e4a268ca9de74e53078e7",
       "version_major": 2,
       "version_minor": 0
      },
      "text/plain": [
       "MetricVisualizer(layout=Layout(align_self='stretch', height='500px'))"
      ]
     },
     "metadata": {},
     "output_type": "display_data"
    },
    {
     "data": {
      "application/vnd.jupyter.widget-view+json": {
       "model_id": "7f62f810368341ffaa615805693e1cd8",
       "version_major": 2,
       "version_minor": 0
      },
      "text/plain": [
       "MetricVisualizer(layout=Layout(align_self='stretch', height='500px'))"
      ]
     },
     "metadata": {},
     "output_type": "display_data"
    },
    {
     "data": {
      "application/vnd.jupyter.widget-view+json": {
       "model_id": "5eac655b5086403c8ca587624b6d6a51",
       "version_major": 2,
       "version_minor": 0
      },
      "text/plain": [
       "MetricVisualizer(layout=Layout(align_self='stretch', height='500px'))"
      ]
     },
     "metadata": {},
     "output_type": "display_data"
    },
    {
     "data": {
      "text/html": [
       "<div>\n",
       "<style scoped>\n",
       "    .dataframe tbody tr th:only-of-type {\n",
       "        vertical-align: middle;\n",
       "    }\n",
       "\n",
       "    .dataframe tbody tr th {\n",
       "        vertical-align: top;\n",
       "    }\n",
       "\n",
       "    .dataframe thead th {\n",
       "        text-align: right;\n",
       "    }\n",
       "</style>\n",
       "<table border=\"1\" class=\"dataframe\">\n",
       "  <thead>\n",
       "    <tr style=\"text-align: right;\">\n",
       "      <th></th>\n",
       "      <th>Feature Id</th>\n",
       "      <th>Importances</th>\n",
       "    </tr>\n",
       "  </thead>\n",
       "  <tbody>\n",
       "    <tr>\n",
       "      <th>0</th>\n",
       "      <td>Асимметрия челюсти</td>\n",
       "      <td>6.757134</td>\n",
       "    </tr>\n",
       "    <tr>\n",
       "      <th>1</th>\n",
       "      <td>Уголки рта</td>\n",
       "      <td>6.702688</td>\n",
       "    </tr>\n",
       "    <tr>\n",
       "      <th>2</th>\n",
       "      <td>Высота бровей</td>\n",
       "      <td>6.191836</td>\n",
       "    </tr>\n",
       "    <tr>\n",
       "      <th>3</th>\n",
       "      <td>Форма головы</td>\n",
       "      <td>5.945056</td>\n",
       "    </tr>\n",
       "    <tr>\n",
       "      <th>4</th>\n",
       "      <td>Размер рта</td>\n",
       "      <td>5.755232</td>\n",
       "    </tr>\n",
       "    <tr>\n",
       "      <th>5</th>\n",
       "      <td>Скулы</td>\n",
       "      <td>5.584645</td>\n",
       "    </tr>\n",
       "    <tr>\n",
       "      <th>6</th>\n",
       "      <td>Размер глаз</td>\n",
       "      <td>5.493714</td>\n",
       "    </tr>\n",
       "    <tr>\n",
       "      <th>7</th>\n",
       "      <td>Асимметрия размера глаз</td>\n",
       "      <td>5.479780</td>\n",
       "    </tr>\n",
       "    <tr>\n",
       "      <th>8</th>\n",
       "      <td>Полнота верхней губы</td>\n",
       "      <td>5.133719</td>\n",
       "    </tr>\n",
       "    <tr>\n",
       "      <th>9</th>\n",
       "      <td>Полнота нижней губы</td>\n",
       "      <td>5.027170</td>\n",
       "    </tr>\n",
       "    <tr>\n",
       "      <th>10</th>\n",
       "      <td>Наклон глаз</td>\n",
       "      <td>4.995471</td>\n",
       "    </tr>\n",
       "    <tr>\n",
       "      <th>11</th>\n",
       "      <td>Ширина челюсти</td>\n",
       "      <td>4.961203</td>\n",
       "    </tr>\n",
       "    <tr>\n",
       "      <th>12</th>\n",
       "      <td>Асимметрия наклона глаз</td>\n",
       "      <td>4.903273</td>\n",
       "    </tr>\n",
       "    <tr>\n",
       "      <th>13</th>\n",
       "      <td>Верхнее веко</td>\n",
       "      <td>4.863784</td>\n",
       "    </tr>\n",
       "    <tr>\n",
       "      <th>14</th>\n",
       "      <td>Ширина посадки глаз</td>\n",
       "      <td>4.777791</td>\n",
       "    </tr>\n",
       "    <tr>\n",
       "      <th>15</th>\n",
       "      <td>Асимметрия носа</td>\n",
       "      <td>4.653260</td>\n",
       "    </tr>\n",
       "    <tr>\n",
       "      <th>16</th>\n",
       "      <td>Наклон бровей</td>\n",
       "      <td>4.535602</td>\n",
       "    </tr>\n",
       "    <tr>\n",
       "      <th>17</th>\n",
       "      <td>Оттопыренность ушей</td>\n",
       "      <td>4.284260</td>\n",
       "    </tr>\n",
       "    <tr>\n",
       "      <th>18</th>\n",
       "      <td>Асимметрия брови</td>\n",
       "      <td>3.954383</td>\n",
       "    </tr>\n",
       "  </tbody>\n",
       "</table>\n",
       "</div>"
      ],
      "text/plain": [
       "                 Feature Id  Importances\n",
       "0        Асимметрия челюсти     6.757134\n",
       "1                Уголки рта     6.702688\n",
       "2             Высота бровей     6.191836\n",
       "3              Форма головы     5.945056\n",
       "4                Размер рта     5.755232\n",
       "5                     Скулы     5.584645\n",
       "6               Размер глаз     5.493714\n",
       "7   Асимметрия размера глаз     5.479780\n",
       "8      Полнота верхней губы     5.133719\n",
       "9       Полнота нижней губы     5.027170\n",
       "10              Наклон глаз     4.995471\n",
       "11           Ширина челюсти     4.961203\n",
       "12  Асимметрия наклона глаз     4.903273\n",
       "13             Верхнее веко     4.863784\n",
       "14      Ширина посадки глаз     4.777791\n",
       "15          Асимметрия носа     4.653260\n",
       "16            Наклон бровей     4.535602\n",
       "17      Оттопыренность ушей     4.284260\n",
       "18         Асимметрия брови     3.954383"
      ]
     },
     "execution_count": 19,
     "metadata": {},
     "output_type": "execute_result"
    }
   ],
   "source": [
    "staged_probas_df, model_KU = train_model(df=df, cols=features,\n",
    "                                          folds = 4, iterations=500, \\\n",
    "                                          depth=4, learning_rate=0.01)\n",
    "\n",
    "model_KU.get_feature_importance(prettified=True)"
   ]
  },
  {
   "cell_type": "code",
   "execution_count": 5,
   "id": "liked-giving",
   "metadata": {},
   "outputs": [
    {
     "name": "stdout",
     "output_type": "stream",
     "text": [
      "[0.20485985954270877, 0.6397376268652318, 0.6816849390356298, 0.7136776283459549, 0.7538390090629146, 0.9252217285869704]\n"
     ]
    },
    {
     "data": {
      "text/html": [
       "<div>\n",
       "<style scoped>\n",
       "    .dataframe tbody tr th:only-of-type {\n",
       "        vertical-align: middle;\n",
       "    }\n",
       "\n",
       "    .dataframe tbody tr th {\n",
       "        vertical-align: top;\n",
       "    }\n",
       "\n",
       "    .dataframe thead th {\n",
       "        text-align: right;\n",
       "    }\n",
       "</style>\n",
       "<table border=\"1\" class=\"dataframe\">\n",
       "  <thead>\n",
       "    <tr style=\"text-align: right;\">\n",
       "      <th></th>\n",
       "      <th>y proba</th>\n",
       "      <th>Процент людей, %</th>\n",
       "      <th>Процент мошенников в группе, %</th>\n",
       "      <th>Прибыль, млн.р</th>\n",
       "    </tr>\n",
       "  </thead>\n",
       "  <tbody>\n",
       "    <tr>\n",
       "      <th>0</th>\n",
       "      <td>0.204860</td>\n",
       "      <td>19.978166</td>\n",
       "      <td>35.154827</td>\n",
       "      <td>-1.06900</td>\n",
       "    </tr>\n",
       "    <tr>\n",
       "      <th>1</th>\n",
       "      <td>0.639738</td>\n",
       "      <td>20.026686</td>\n",
       "      <td>36.220472</td>\n",
       "      <td>-1.19720</td>\n",
       "    </tr>\n",
       "    <tr>\n",
       "      <th>2</th>\n",
       "      <td>0.681685</td>\n",
       "      <td>19.990296</td>\n",
       "      <td>33.798544</td>\n",
       "      <td>-1.63170</td>\n",
       "    </tr>\n",
       "    <tr>\n",
       "      <th>3</th>\n",
       "      <td>0.713678</td>\n",
       "      <td>20.002426</td>\n",
       "      <td>29.593693</td>\n",
       "      <td>0.14268</td>\n",
       "    </tr>\n",
       "    <tr>\n",
       "      <th>4</th>\n",
       "      <td>0.753839</td>\n",
       "      <td>19.966036</td>\n",
       "      <td>18.347509</td>\n",
       "      <td>0.55822</td>\n",
       "    </tr>\n",
       "    <tr>\n",
       "      <th>5</th>\n",
       "      <td>0.925222</td>\n",
       "      <td>0.000000</td>\n",
       "      <td>NaN</td>\n",
       "      <td>0.00000</td>\n",
       "    </tr>\n",
       "  </tbody>\n",
       "</table>\n",
       "</div>"
      ],
      "text/plain": [
       "    y proba  Процент людей, %  Процент мошенников в группе, %  Прибыль, млн.р\n",
       "0  0.204860         19.978166                       35.154827        -1.06900\n",
       "1  0.639738         20.026686                       36.220472        -1.19720\n",
       "2  0.681685         19.990296                       33.798544        -1.63170\n",
       "3  0.713678         20.002426                       29.593693         0.14268\n",
       "4  0.753839         19.966036                       18.347509         0.55822\n",
       "5  0.925222          0.000000                             NaN         0.00000"
      ]
     },
     "execution_count": 5,
     "metadata": {},
     "output_type": "execute_result"
    }
   ],
   "source": [
    "get_result_table(staged_probas_df[449])"
   ]
  },
  {
   "cell_type": "code",
   "execution_count": 6,
   "id": "aquatic-booth",
   "metadata": {
    "scrolled": true
   },
   "outputs": [
    {
     "name": "stderr",
     "output_type": "stream",
     "text": [
      "/home/nikolay/anaconda3/envs/merlin/lib/python3.7/site-packages/sklearn/utils/deprecation.py:86: FutureWarning: Function plot_roc_curve is deprecated; This will be removed in v0.5.0. Please use scikitplot.metrics.plot_roc instead.\n",
      "  warnings.warn(msg, category=FutureWarning)\n"
     ]
    },
    {
     "data": {
      "image/png": "[encoded data removed]",
      "text/plain": [
       "<Figure size 432x288 with 1 Axes>"
      ]
     },
     "metadata": {
      "needs_background": "light"
     },
     "output_type": "display_data"
    }
   ],
   "source": [
    "# Micro is shows more positive result\n",
    "y_proba = staged_probas_df[499]\n",
    "proba = np.array([y_proba, 1-y_proba])\n",
    "skplt.metrics.plot_roc_curve(df['target'].astype(int).values, proba.T, curves=['macro'])\n",
    "plt.show()"
   ]
  },
  {
   "cell_type": "markdown",
   "id": "apart-contest",
   "metadata": {},
   "source": [
    "### Features + GA"
   ]
  },
  {
   "cell_type": "code",
   "execution_count": 7,
   "id": "continuous-supervision",
   "metadata": {
    "scrolled": true
   },
   "outputs": [
    {
     "data": {
      "application/vnd.jupyter.widget-view+json": {
       "model_id": "f4b6b9da153a494d97ebecedca73eaad",
       "version_major": 2,
       "version_minor": 0
      },
      "text/plain": [
       "MetricVisualizer(layout=Layout(align_self='stretch', height='500px'))"
      ]
     },
     "metadata": {},
     "output_type": "display_data"
    },
    {
     "data": {
      "application/vnd.jupyter.widget-view+json": {
       "model_id": "296b592b2f6144fda6b57919c4c09753",
       "version_major": 2,
       "version_minor": 0
      },
      "text/plain": [
       "MetricVisualizer(layout=Layout(align_self='stretch', height='500px'))"
      ]
     },
     "metadata": {},
     "output_type": "display_data"
    },
    {
     "data": {
      "application/vnd.jupyter.widget-view+json": {
       "model_id": "e6f9b4e99d9145dd8a4073679fea532d",
       "version_major": 2,
       "version_minor": 0
      },
      "text/plain": [
       "MetricVisualizer(layout=Layout(align_self='stretch', height='500px'))"
      ]
     },
     "metadata": {},
     "output_type": "display_data"
    },
    {
     "data": {
      "application/vnd.jupyter.widget-view+json": {
       "model_id": "1e0fbb9d5eb3477090965940ac59dd1e",
       "version_major": 2,
       "version_minor": 0
      },
      "text/plain": [
       "MetricVisualizer(layout=Layout(align_self='stretch', height='500px'))"
      ]
     },
     "metadata": {},
     "output_type": "display_data"
    },
    {
     "data": {
      "text/html": [
       "<div>\n",
       "<style scoped>\n",
       "    .dataframe tbody tr th:only-of-type {\n",
       "        vertical-align: middle;\n",
       "    }\n",
       "\n",
       "    .dataframe tbody tr th {\n",
       "        vertical-align: top;\n",
       "    }\n",
       "\n",
       "    .dataframe thead th {\n",
       "        text-align: right;\n",
       "    }\n",
       "</style>\n",
       "<table border=\"1\" class=\"dataframe\">\n",
       "  <thead>\n",
       "    <tr style=\"text-align: right;\">\n",
       "      <th></th>\n",
       "      <th>Feature Id</th>\n",
       "      <th>Importances</th>\n",
       "    </tr>\n",
       "  </thead>\n",
       "  <tbody>\n",
       "    <tr>\n",
       "      <th>0</th>\n",
       "      <td>Уголки рта</td>\n",
       "      <td>6.373067</td>\n",
       "    </tr>\n",
       "    <tr>\n",
       "      <th>1</th>\n",
       "      <td>Форма головы</td>\n",
       "      <td>6.237923</td>\n",
       "    </tr>\n",
       "    <tr>\n",
       "      <th>2</th>\n",
       "      <td>Асимметрия размера глаз</td>\n",
       "      <td>5.948338</td>\n",
       "    </tr>\n",
       "    <tr>\n",
       "      <th>3</th>\n",
       "      <td>Размер глаз</td>\n",
       "      <td>5.812953</td>\n",
       "    </tr>\n",
       "    <tr>\n",
       "      <th>4</th>\n",
       "      <td>Высота бровей</td>\n",
       "      <td>5.679823</td>\n",
       "    </tr>\n",
       "    <tr>\n",
       "      <th>5</th>\n",
       "      <td>age</td>\n",
       "      <td>5.562212</td>\n",
       "    </tr>\n",
       "    <tr>\n",
       "      <th>6</th>\n",
       "      <td>Размер рта</td>\n",
       "      <td>5.293193</td>\n",
       "    </tr>\n",
       "    <tr>\n",
       "      <th>7</th>\n",
       "      <td>Скулы</td>\n",
       "      <td>5.078813</td>\n",
       "    </tr>\n",
       "    <tr>\n",
       "      <th>8</th>\n",
       "      <td>Асимметрия челюсти</td>\n",
       "      <td>4.890666</td>\n",
       "    </tr>\n",
       "    <tr>\n",
       "      <th>9</th>\n",
       "      <td>Полнота нижней губы</td>\n",
       "      <td>4.851368</td>\n",
       "    </tr>\n",
       "    <tr>\n",
       "      <th>10</th>\n",
       "      <td>Наклон глаз</td>\n",
       "      <td>4.572410</td>\n",
       "    </tr>\n",
       "    <tr>\n",
       "      <th>11</th>\n",
       "      <td>Асимметрия наклона глаз</td>\n",
       "      <td>4.554016</td>\n",
       "    </tr>\n",
       "    <tr>\n",
       "      <th>12</th>\n",
       "      <td>Полнота верхней губы</td>\n",
       "      <td>4.402674</td>\n",
       "    </tr>\n",
       "    <tr>\n",
       "      <th>13</th>\n",
       "      <td>Ширина челюсти</td>\n",
       "      <td>4.348037</td>\n",
       "    </tr>\n",
       "    <tr>\n",
       "      <th>14</th>\n",
       "      <td>Асимметрия носа</td>\n",
       "      <td>4.267574</td>\n",
       "    </tr>\n",
       "    <tr>\n",
       "      <th>15</th>\n",
       "      <td>Ширина посадки глаз</td>\n",
       "      <td>4.264617</td>\n",
       "    </tr>\n",
       "    <tr>\n",
       "      <th>16</th>\n",
       "      <td>Оттопыренность ушей</td>\n",
       "      <td>4.121150</td>\n",
       "    </tr>\n",
       "    <tr>\n",
       "      <th>17</th>\n",
       "      <td>Наклон бровей</td>\n",
       "      <td>4.089843</td>\n",
       "    </tr>\n",
       "    <tr>\n",
       "      <th>18</th>\n",
       "      <td>Верхнее веко</td>\n",
       "      <td>3.774807</td>\n",
       "    </tr>\n",
       "    <tr>\n",
       "      <th>19</th>\n",
       "      <td>Асимметрия брови</td>\n",
       "      <td>3.423432</td>\n",
       "    </tr>\n",
       "    <tr>\n",
       "      <th>20</th>\n",
       "      <td>gender</td>\n",
       "      <td>2.453085</td>\n",
       "    </tr>\n",
       "  </tbody>\n",
       "</table>\n",
       "</div>"
      ],
      "text/plain": [
       "                 Feature Id  Importances\n",
       "0                Уголки рта     6.373067\n",
       "1              Форма головы     6.237923\n",
       "2   Асимметрия размера глаз     5.948338\n",
       "3               Размер глаз     5.812953\n",
       "4             Высота бровей     5.679823\n",
       "5                       age     5.562212\n",
       "6                Размер рта     5.293193\n",
       "7                     Скулы     5.078813\n",
       "8        Асимметрия челюсти     4.890666\n",
       "9       Полнота нижней губы     4.851368\n",
       "10              Наклон глаз     4.572410\n",
       "11  Асимметрия наклона глаз     4.554016\n",
       "12     Полнота верхней губы     4.402674\n",
       "13           Ширина челюсти     4.348037\n",
       "14          Асимметрия носа     4.267574\n",
       "15      Ширина посадки глаз     4.264617\n",
       "16      Оттопыренность ушей     4.121150\n",
       "17            Наклон бровей     4.089843\n",
       "18             Верхнее веко     3.774807\n",
       "19         Асимметрия брови     3.423432\n",
       "20                   gender     2.453085"
      ]
     },
     "execution_count": 7,
     "metadata": {},
     "output_type": "execute_result"
    }
   ],
   "source": [
    "staged_probas_df, model_KU = train_model(df=df, cols=features+ga,\n",
    "                                          folds = 4, iterations=500, \\\n",
    "                                          depth=4, learning_rate=0.01)\n",
    "\n",
    "model_KU.get_feature_importance(prettified=True)"
   ]
  },
  {
   "cell_type": "code",
   "execution_count": 8,
   "id": "bored-moment",
   "metadata": {},
   "outputs": [
    {
     "name": "stdout",
     "output_type": "stream",
     "text": [
      "[0.25861895385146916, 0.6406798371235605, 0.6807252379787619, 0.7129733890306887, 0.7548534546376183, 0.9146509088279516]\n"
     ]
    },
    {
     "data": {
      "text/html": [
       "<div>\n",
       "<style scoped>\n",
       "    .dataframe tbody tr th:only-of-type {\n",
       "        vertical-align: middle;\n",
       "    }\n",
       "\n",
       "    .dataframe tbody tr th {\n",
       "        vertical-align: top;\n",
       "    }\n",
       "\n",
       "    .dataframe thead th {\n",
       "        text-align: right;\n",
       "    }\n",
       "</style>\n",
       "<table border=\"1\" class=\"dataframe\">\n",
       "  <thead>\n",
       "    <tr style=\"text-align: right;\">\n",
       "      <th></th>\n",
       "      <th>y proba</th>\n",
       "      <th>Процент людей, %</th>\n",
       "      <th>Процент мошенников в группе, %</th>\n",
       "      <th>Прибыль, млн.р</th>\n",
       "    </tr>\n",
       "  </thead>\n",
       "  <tbody>\n",
       "    <tr>\n",
       "      <th>0</th>\n",
       "      <td>0.258619</td>\n",
       "      <td>19.990296</td>\n",
       "      <td>36.650485</td>\n",
       "      <td>-1.51266</td>\n",
       "    </tr>\n",
       "    <tr>\n",
       "      <th>1</th>\n",
       "      <td>0.640680</td>\n",
       "      <td>20.002426</td>\n",
       "      <td>35.779260</td>\n",
       "      <td>-0.99184</td>\n",
       "    </tr>\n",
       "    <tr>\n",
       "      <th>2</th>\n",
       "      <td>0.680725</td>\n",
       "      <td>20.002426</td>\n",
       "      <td>32.565191</td>\n",
       "      <td>-1.07328</td>\n",
       "    </tr>\n",
       "    <tr>\n",
       "      <th>3</th>\n",
       "      <td>0.712973</td>\n",
       "      <td>19.978166</td>\n",
       "      <td>29.143898</td>\n",
       "      <td>-0.05634</td>\n",
       "    </tr>\n",
       "    <tr>\n",
       "      <th>4</th>\n",
       "      <td>0.754853</td>\n",
       "      <td>20.014556</td>\n",
       "      <td>19.030303</td>\n",
       "      <td>0.41094</td>\n",
       "    </tr>\n",
       "    <tr>\n",
       "      <th>5</th>\n",
       "      <td>0.914651</td>\n",
       "      <td>0.000000</td>\n",
       "      <td>NaN</td>\n",
       "      <td>0.00000</td>\n",
       "    </tr>\n",
       "  </tbody>\n",
       "</table>\n",
       "</div>"
      ],
      "text/plain": [
       "    y proba  Процент людей, %  Процент мошенников в группе, %  Прибыль, млн.р\n",
       "0  0.258619         19.990296                       36.650485        -1.51266\n",
       "1  0.640680         20.002426                       35.779260        -0.99184\n",
       "2  0.680725         20.002426                       32.565191        -1.07328\n",
       "3  0.712973         19.978166                       29.143898        -0.05634\n",
       "4  0.754853         20.014556                       19.030303         0.41094\n",
       "5  0.914651          0.000000                             NaN         0.00000"
      ]
     },
     "execution_count": 8,
     "metadata": {},
     "output_type": "execute_result"
    }
   ],
   "source": [
    "get_result_table(staged_probas_df[449])"
   ]
  },
  {
   "cell_type": "code",
   "execution_count": 9,
   "id": "angry-lambda",
   "metadata": {},
   "outputs": [
    {
     "name": "stderr",
     "output_type": "stream",
     "text": [
      "/home/nikolay/anaconda3/envs/merlin/lib/python3.7/site-packages/sklearn/utils/deprecation.py:86: FutureWarning: Function plot_roc_curve is deprecated; This will be removed in v0.5.0. Please use scikitplot.metrics.plot_roc instead.\n",
      "  warnings.warn(msg, category=FutureWarning)\n"
     ]
    },
    {
     "data": {
      "image/png": "[encoded data removed]",
      "text/plain": [
       "<Figure size 432x288 with 1 Axes>"
      ]
     },
     "metadata": {
      "needs_background": "light"
     },
     "output_type": "display_data"
    }
   ],
   "source": [
    "# Micro is shows more positive result\n",
    "y_proba = staged_probas_df[499]\n",
    "proba = np.array([y_proba, 1-y_proba])\n",
    "skplt.metrics.plot_roc_curve(df['target'].astype(int).values, proba.T, curves=['macro'])\n",
    "plt.show()"
   ]
  },
  {
   "cell_type": "markdown",
   "id": "continuous-score",
   "metadata": {},
   "source": [
    "# Only GA"
   ]
  },
  {
   "cell_type": "code",
   "execution_count": 10,
   "id": "surprising-opposition",
   "metadata": {
    "scrolled": true
   },
   "outputs": [
    {
     "data": {
      "application/vnd.jupyter.widget-view+json": {
       "model_id": "5226411cd9c7479999a42c23cc15641c",
       "version_major": 2,
       "version_minor": 0
      },
      "text/plain": [
       "MetricVisualizer(layout=Layout(align_self='stretch', height='500px'))"
      ]
     },
     "metadata": {},
     "output_type": "display_data"
    },
    {
     "data": {
      "application/vnd.jupyter.widget-view+json": {
       "model_id": "9d81659254a74fadbb5691a20ef60ef2",
       "version_major": 2,
       "version_minor": 0
      },
      "text/plain": [
       "MetricVisualizer(layout=Layout(align_self='stretch', height='500px'))"
      ]
     },
     "metadata": {},
     "output_type": "display_data"
    },
    {
     "data": {
      "application/vnd.jupyter.widget-view+json": {
       "model_id": "2ccf437b7aef4d118efc9198668590c1",
       "version_major": 2,
       "version_minor": 0
      },
      "text/plain": [
       "MetricVisualizer(layout=Layout(align_self='stretch', height='500px'))"
      ]
     },
     "metadata": {},
     "output_type": "display_data"
    },
    {
     "data": {
      "application/vnd.jupyter.widget-view+json": {
       "model_id": "f7b5d325a0c446f0aa7e8a1789c42685",
       "version_major": 2,
       "version_minor": 0
      },
      "text/plain": [
       "MetricVisualizer(layout=Layout(align_self='stretch', height='500px'))"
      ]
     },
     "metadata": {},
     "output_type": "display_data"
    },
    {
     "data": {
      "text/html": [
       "<div>\n",
       "<style scoped>\n",
       "    .dataframe tbody tr th:only-of-type {\n",
       "        vertical-align: middle;\n",
       "    }\n",
       "\n",
       "    .dataframe tbody tr th {\n",
       "        vertical-align: top;\n",
       "    }\n",
       "\n",
       "    .dataframe thead th {\n",
       "        text-align: right;\n",
       "    }\n",
       "</style>\n",
       "<table border=\"1\" class=\"dataframe\">\n",
       "  <thead>\n",
       "    <tr style=\"text-align: right;\">\n",
       "      <th></th>\n",
       "      <th>Feature Id</th>\n",
       "      <th>Importances</th>\n",
       "    </tr>\n",
       "  </thead>\n",
       "  <tbody>\n",
       "    <tr>\n",
       "      <th>0</th>\n",
       "      <td>age</td>\n",
       "      <td>76.752473</td>\n",
       "    </tr>\n",
       "    <tr>\n",
       "      <th>1</th>\n",
       "      <td>gender</td>\n",
       "      <td>23.247527</td>\n",
       "    </tr>\n",
       "  </tbody>\n",
       "</table>\n",
       "</div>"
      ],
      "text/plain": [
       "  Feature Id  Importances\n",
       "0        age    76.752473\n",
       "1     gender    23.247527"
      ]
     },
     "execution_count": 10,
     "metadata": {},
     "output_type": "execute_result"
    }
   ],
   "source": [
    "staged_probas_df, model_KU = train_model(df=df, cols=ga,\n",
    "                                          folds = 4, iterations=500, \\\n",
    "                                          depth=4, learning_rate=0.01)\n",
    "\n",
    "model_KU.get_feature_importance(prettified=True)"
   ]
  },
  {
   "cell_type": "code",
   "execution_count": 11,
   "id": "living-spiritual",
   "metadata": {},
   "outputs": [
    {
     "name": "stdout",
     "output_type": "stream",
     "text": [
      "[0.18170331895160352, 0.6593427252617866, 0.6872407085732481, 0.7042800667618285, 0.7278090043274706, 0.9481413362030015]\n"
     ]
    },
    {
     "data": {
      "text/html": [
       "<div>\n",
       "<style scoped>\n",
       "    .dataframe tbody tr th:only-of-type {\n",
       "        vertical-align: middle;\n",
       "    }\n",
       "\n",
       "    .dataframe tbody tr th {\n",
       "        vertical-align: top;\n",
       "    }\n",
       "\n",
       "    .dataframe thead th {\n",
       "        text-align: right;\n",
       "    }\n",
       "</style>\n",
       "<table border=\"1\" class=\"dataframe\">\n",
       "  <thead>\n",
       "    <tr style=\"text-align: right;\">\n",
       "      <th></th>\n",
       "      <th>y proba</th>\n",
       "      <th>Процент людей, %</th>\n",
       "      <th>Процент мошенников в группе, %</th>\n",
       "      <th>Прибыль, млн.р</th>\n",
       "    </tr>\n",
       "  </thead>\n",
       "  <tbody>\n",
       "    <tr>\n",
       "      <th>0</th>\n",
       "      <td>0.181703</td>\n",
       "      <td>19.553615</td>\n",
       "      <td>33.995037</td>\n",
       "      <td>-1.53554</td>\n",
       "    </tr>\n",
       "    <tr>\n",
       "      <th>1</th>\n",
       "      <td>0.659343</td>\n",
       "      <td>20.426977</td>\n",
       "      <td>32.125891</td>\n",
       "      <td>-0.79504</td>\n",
       "    </tr>\n",
       "    <tr>\n",
       "      <th>2</th>\n",
       "      <td>0.687241</td>\n",
       "      <td>19.978166</td>\n",
       "      <td>32.119004</td>\n",
       "      <td>-0.56748</td>\n",
       "    </tr>\n",
       "    <tr>\n",
       "      <th>3</th>\n",
       "      <td>0.704280</td>\n",
       "      <td>19.953906</td>\n",
       "      <td>29.179331</td>\n",
       "      <td>0.15996</td>\n",
       "    </tr>\n",
       "    <tr>\n",
       "      <th>4</th>\n",
       "      <td>0.727809</td>\n",
       "      <td>20.026686</td>\n",
       "      <td>25.863113</td>\n",
       "      <td>-0.48688</td>\n",
       "    </tr>\n",
       "    <tr>\n",
       "      <th>5</th>\n",
       "      <td>0.948141</td>\n",
       "      <td>0.000000</td>\n",
       "      <td>NaN</td>\n",
       "      <td>0.00000</td>\n",
       "    </tr>\n",
       "  </tbody>\n",
       "</table>\n",
       "</div>"
      ],
      "text/plain": [
       "    y proba  Процент людей, %  Процент мошенников в группе, %  Прибыль, млн.р\n",
       "0  0.181703         19.553615                       33.995037        -1.53554\n",
       "1  0.659343         20.426977                       32.125891        -0.79504\n",
       "2  0.687241         19.978166                       32.119004        -0.56748\n",
       "3  0.704280         19.953906                       29.179331         0.15996\n",
       "4  0.727809         20.026686                       25.863113        -0.48688\n",
       "5  0.948141          0.000000                             NaN         0.00000"
      ]
     },
     "execution_count": 11,
     "metadata": {},
     "output_type": "execute_result"
    }
   ],
   "source": [
    "get_result_table(staged_probas_df[499])"
   ]
  },
  {
   "cell_type": "code",
   "execution_count": 12,
   "id": "operating-learning",
   "metadata": {},
   "outputs": [
    {
     "name": "stderr",
     "output_type": "stream",
     "text": [
      "/home/nikolay/anaconda3/envs/merlin/lib/python3.7/site-packages/sklearn/utils/deprecation.py:86: FutureWarning: Function plot_roc_curve is deprecated; This will be removed in v0.5.0. Please use scikitplot.metrics.plot_roc instead.\n",
      "  warnings.warn(msg, category=FutureWarning)\n"
     ]
    },
    {
     "data": {
      "image/png": "[encoded data removed]",
      "text/plain": [
       "<Figure size 432x288 with 1 Axes>"
      ]
     },
     "metadata": {
      "needs_background": "light"
     },
     "output_type": "display_data"
    }
   ],
   "source": [
    "# Micro is shows more positive result\n",
    "y_proba = staged_probas_df[499]\n",
    "proba = np.array([y_proba, 1-y_proba])\n",
    "skplt.metrics.plot_roc_curve(df['target'].astype(int).values, proba.T, curves=['macro'])\n",
    "plt.show()"
   ]
  },
  {
   "cell_type": "markdown",
   "id": "medieval-twenty",
   "metadata": {},
   "source": [
    "# Only anketas"
   ]
  },
  {
   "cell_type": "code",
   "execution_count": 13,
   "id": "pressing-multiple",
   "metadata": {
    "scrolled": true
   },
   "outputs": [
    {
     "data": {
      "application/vnd.jupyter.widget-view+json": {
       "model_id": "0b1c40a3389a454aa64868f3933eb9ce",
       "version_major": 2,
       "version_minor": 0
      },
      "text/plain": [
       "MetricVisualizer(layout=Layout(align_self='stretch', height='500px'))"
      ]
     },
     "metadata": {},
     "output_type": "display_data"
    },
    {
     "data": {
      "application/vnd.jupyter.widget-view+json": {
       "model_id": "96d4f1e238574e0bb418c4d3188bf82e",
       "version_major": 2,
       "version_minor": 0
      },
      "text/plain": [
       "MetricVisualizer(layout=Layout(align_self='stretch', height='500px'))"
      ]
     },
     "metadata": {},
     "output_type": "display_data"
    },
    {
     "data": {
      "application/vnd.jupyter.widget-view+json": {
       "model_id": "76020896bf86460387706b859c57c89f",
       "version_major": 2,
       "version_minor": 0
      },
      "text/plain": [
       "MetricVisualizer(layout=Layout(align_self='stretch', height='500px'))"
      ]
     },
     "metadata": {},
     "output_type": "display_data"
    },
    {
     "data": {
      "application/vnd.jupyter.widget-view+json": {
       "model_id": "7eecd89e11d54d85a3343c369d37e37f",
       "version_major": 2,
       "version_minor": 0
      },
      "text/plain": [
       "MetricVisualizer(layout=Layout(align_self='stretch', height='500px'))"
      ]
     },
     "metadata": {},
     "output_type": "display_data"
    },
    {
     "data": {
      "text/html": [
       "<div>\n",
       "<style scoped>\n",
       "    .dataframe tbody tr th:only-of-type {\n",
       "        vertical-align: middle;\n",
       "    }\n",
       "\n",
       "    .dataframe tbody tr th {\n",
       "        vertical-align: top;\n",
       "    }\n",
       "\n",
       "    .dataframe thead th {\n",
       "        text-align: right;\n",
       "    }\n",
       "</style>\n",
       "<table border=\"1\" class=\"dataframe\">\n",
       "  <thead>\n",
       "    <tr style=\"text-align: right;\">\n",
       "      <th></th>\n",
       "      <th>Feature Id</th>\n",
       "      <th>Importances</th>\n",
       "    </tr>\n",
       "  </thead>\n",
       "  <tbody>\n",
       "    <tr>\n",
       "      <th>0</th>\n",
       "      <td>job</td>\n",
       "      <td>26.784758</td>\n",
       "    </tr>\n",
       "    <tr>\n",
       "      <th>1</th>\n",
       "      <td>marital_status</td>\n",
       "      <td>23.941376</td>\n",
       "    </tr>\n",
       "    <tr>\n",
       "      <th>2</th>\n",
       "      <td>education</td>\n",
       "      <td>23.412322</td>\n",
       "    </tr>\n",
       "    <tr>\n",
       "      <th>3</th>\n",
       "      <td>source</td>\n",
       "      <td>20.465700</td>\n",
       "    </tr>\n",
       "    <tr>\n",
       "      <th>4</th>\n",
       "      <td>childs</td>\n",
       "      <td>5.395843</td>\n",
       "    </tr>\n",
       "  </tbody>\n",
       "</table>\n",
       "</div>"
      ],
      "text/plain": [
       "       Feature Id  Importances\n",
       "0             job    26.784758\n",
       "1  marital_status    23.941376\n",
       "2       education    23.412322\n",
       "3          source    20.465700\n",
       "4          childs     5.395843"
      ]
     },
     "execution_count": 13,
     "metadata": {},
     "output_type": "execute_result"
    }
   ],
   "source": [
    "staged_probas_df, model_KU = train_model(df=df, cols=anketas,\n",
    "                                          folds = 4, iterations=500, \\\n",
    "                                          depth=4, learning_rate=0.01)\n",
    "\n",
    "model_KU.get_feature_importance(prettified=True)"
   ]
  },
  {
   "cell_type": "code",
   "execution_count": 14,
   "id": "classical-chemistry",
   "metadata": {},
   "outputs": [
    {
     "name": "stdout",
     "output_type": "stream",
     "text": [
      "[0.35654798466870985, 0.6663509296404437, 0.6978745471342149, 0.7182912218030773, 0.740331577309612, 0.9463909472688156]\n"
     ]
    },
    {
     "data": {
      "text/html": [
       "<div>\n",
       "<style scoped>\n",
       "    .dataframe tbody tr th:only-of-type {\n",
       "        vertical-align: middle;\n",
       "    }\n",
       "\n",
       "    .dataframe tbody tr th {\n",
       "        vertical-align: top;\n",
       "    }\n",
       "\n",
       "    .dataframe thead th {\n",
       "        text-align: right;\n",
       "    }\n",
       "</style>\n",
       "<table border=\"1\" class=\"dataframe\">\n",
       "  <thead>\n",
       "    <tr style=\"text-align: right;\">\n",
       "      <th></th>\n",
       "      <th>y proba</th>\n",
       "      <th>Процент людей, %</th>\n",
       "      <th>Процент мошенников в группе, %</th>\n",
       "      <th>Прибыль, млн.р</th>\n",
       "    </tr>\n",
       "  </thead>\n",
       "  <tbody>\n",
       "    <tr>\n",
       "      <th>0</th>\n",
       "      <td>0.356548</td>\n",
       "      <td>19.990296</td>\n",
       "      <td>38.956311</td>\n",
       "      <td>-2.04410</td>\n",
       "    </tr>\n",
       "    <tr>\n",
       "      <th>1</th>\n",
       "      <td>0.666351</td>\n",
       "      <td>19.953906</td>\n",
       "      <td>31.610942</td>\n",
       "      <td>-0.79218</td>\n",
       "    </tr>\n",
       "    <tr>\n",
       "      <th>2</th>\n",
       "      <td>0.697875</td>\n",
       "      <td>20.050946</td>\n",
       "      <td>30.611010</td>\n",
       "      <td>0.12534</td>\n",
       "    </tr>\n",
       "    <tr>\n",
       "      <th>3</th>\n",
       "      <td>0.718291</td>\n",
       "      <td>20.002426</td>\n",
       "      <td>28.320194</td>\n",
       "      <td>-0.58096</td>\n",
       "    </tr>\n",
       "    <tr>\n",
       "      <th>4</th>\n",
       "      <td>0.740332</td>\n",
       "      <td>19.966036</td>\n",
       "      <td>23.633050</td>\n",
       "      <td>0.07118</td>\n",
       "    </tr>\n",
       "    <tr>\n",
       "      <th>5</th>\n",
       "      <td>0.946391</td>\n",
       "      <td>0.000000</td>\n",
       "      <td>NaN</td>\n",
       "      <td>0.00000</td>\n",
       "    </tr>\n",
       "  </tbody>\n",
       "</table>\n",
       "</div>"
      ],
      "text/plain": [
       "    y proba  Процент людей, %  Процент мошенников в группе, %  Прибыль, млн.р\n",
       "0  0.356548         19.990296                       38.956311        -2.04410\n",
       "1  0.666351         19.953906                       31.610942        -0.79218\n",
       "2  0.697875         20.050946                       30.611010         0.12534\n",
       "3  0.718291         20.002426                       28.320194        -0.58096\n",
       "4  0.740332         19.966036                       23.633050         0.07118\n",
       "5  0.946391          0.000000                             NaN         0.00000"
      ]
     },
     "execution_count": 14,
     "metadata": {},
     "output_type": "execute_result"
    }
   ],
   "source": [
    "get_result_table(staged_probas_df[499])"
   ]
  },
  {
   "cell_type": "code",
   "execution_count": 15,
   "id": "compressed-vision",
   "metadata": {},
   "outputs": [
    {
     "name": "stderr",
     "output_type": "stream",
     "text": [
      "/home/nikolay/anaconda3/envs/merlin/lib/python3.7/site-packages/sklearn/utils/deprecation.py:86: FutureWarning: Function plot_roc_curve is deprecated; This will be removed in v0.5.0. Please use scikitplot.metrics.plot_roc instead.\n",
      "  warnings.warn(msg, category=FutureWarning)\n"
     ]
    },
    {
     "data": {
      "image/png": "[encoded data removed]",
      "text/plain": [
       "<Figure size 432x288 with 1 Axes>"
      ]
     },
     "metadata": {
      "needs_background": "light"
     },
     "output_type": "display_data"
    }
   ],
   "source": [
    "# Micro is shows more positive result\n",
    "y_proba = staged_probas_df[499]\n",
    "proba = np.array([y_proba, 1-y_proba])\n",
    "skplt.metrics.plot_roc_curve(df['target'].astype(int).values, proba.T, curves=['macro'])\n",
    "plt.show()"
   ]
  },
  {
   "cell_type": "markdown",
   "id": "internal-hurricane",
   "metadata": {},
   "source": [
    "# All columns"
   ]
  },
  {
   "cell_type": "code",
   "execution_count": 20,
   "id": "productive-spray",
   "metadata": {
    "scrolled": true
   },
   "outputs": [
    {
     "data": {
      "application/vnd.jupyter.widget-view+json": {
       "model_id": "62133d95dc1148b28b895221d2246194",
       "version_major": 2,
       "version_minor": 0
      },
      "text/plain": [
       "MetricVisualizer(layout=Layout(align_self='stretch', height='500px'))"
      ]
     },
     "metadata": {},
     "output_type": "display_data"
    },
    {
     "data": {
      "application/vnd.jupyter.widget-view+json": {
       "model_id": "fad5f1753e984271bc8936159aecb271",
       "version_major": 2,
       "version_minor": 0
      },
      "text/plain": [
       "MetricVisualizer(layout=Layout(align_self='stretch', height='500px'))"
      ]
     },
     "metadata": {},
     "output_type": "display_data"
    },
    {
     "data": {
      "application/vnd.jupyter.widget-view+json": {
       "model_id": "b7a6092eed9c4ff59c52e4e834c069f0",
       "version_major": 2,
       "version_minor": 0
      },
      "text/plain": [
       "MetricVisualizer(layout=Layout(align_self='stretch', height='500px'))"
      ]
     },
     "metadata": {},
     "output_type": "display_data"
    },
    {
     "data": {
      "application/vnd.jupyter.widget-view+json": {
       "model_id": "543217fb094444bd9f906ea045bc1609",
       "version_major": 2,
       "version_minor": 0
      },
      "text/plain": [
       "MetricVisualizer(layout=Layout(align_self='stretch', height='500px'))"
      ]
     },
     "metadata": {},
     "output_type": "display_data"
    },
    {
     "data": {
      "text/html": [
       "<div>\n",
       "<style scoped>\n",
       "    .dataframe tbody tr th:only-of-type {\n",
       "        vertical-align: middle;\n",
       "    }\n",
       "\n",
       "    .dataframe tbody tr th {\n",
       "        vertical-align: top;\n",
       "    }\n",
       "\n",
       "    .dataframe thead th {\n",
       "        text-align: right;\n",
       "    }\n",
       "</style>\n",
       "<table border=\"1\" class=\"dataframe\">\n",
       "  <thead>\n",
       "    <tr style=\"text-align: right;\">\n",
       "      <th></th>\n",
       "      <th>Feature Id</th>\n",
       "      <th>Importances</th>\n",
       "    </tr>\n",
       "  </thead>\n",
       "  <tbody>\n",
       "    <tr>\n",
       "      <th>0</th>\n",
       "      <td>Асимметрия челюсти</td>\n",
       "      <td>5.920313</td>\n",
       "    </tr>\n",
       "    <tr>\n",
       "      <th>1</th>\n",
       "      <td>Форма головы</td>\n",
       "      <td>5.666672</td>\n",
       "    </tr>\n",
       "    <tr>\n",
       "      <th>2</th>\n",
       "      <td>Высота бровей</td>\n",
       "      <td>5.585417</td>\n",
       "    </tr>\n",
       "    <tr>\n",
       "      <th>3</th>\n",
       "      <td>source</td>\n",
       "      <td>5.498239</td>\n",
       "    </tr>\n",
       "    <tr>\n",
       "      <th>4</th>\n",
       "      <td>Уголки рта</td>\n",
       "      <td>5.363011</td>\n",
       "    </tr>\n",
       "    <tr>\n",
       "      <th>5</th>\n",
       "      <td>Асимметрия наклона глаз</td>\n",
       "      <td>5.033915</td>\n",
       "    </tr>\n",
       "    <tr>\n",
       "      <th>6</th>\n",
       "      <td>Размер глаз</td>\n",
       "      <td>4.520743</td>\n",
       "    </tr>\n",
       "    <tr>\n",
       "      <th>7</th>\n",
       "      <td>Асимметрия размера глаз</td>\n",
       "      <td>4.369991</td>\n",
       "    </tr>\n",
       "    <tr>\n",
       "      <th>8</th>\n",
       "      <td>Асимметрия брови</td>\n",
       "      <td>4.187477</td>\n",
       "    </tr>\n",
       "    <tr>\n",
       "      <th>9</th>\n",
       "      <td>Размер рта</td>\n",
       "      <td>4.168456</td>\n",
       "    </tr>\n",
       "    <tr>\n",
       "      <th>10</th>\n",
       "      <td>Ширина челюсти</td>\n",
       "      <td>4.032263</td>\n",
       "    </tr>\n",
       "    <tr>\n",
       "      <th>11</th>\n",
       "      <td>age</td>\n",
       "      <td>4.025016</td>\n",
       "    </tr>\n",
       "    <tr>\n",
       "      <th>12</th>\n",
       "      <td>Полнота нижней губы</td>\n",
       "      <td>3.785037</td>\n",
       "    </tr>\n",
       "    <tr>\n",
       "      <th>13</th>\n",
       "      <td>Полнота верхней губы</td>\n",
       "      <td>3.778477</td>\n",
       "    </tr>\n",
       "    <tr>\n",
       "      <th>14</th>\n",
       "      <td>Скулы</td>\n",
       "      <td>3.688006</td>\n",
       "    </tr>\n",
       "    <tr>\n",
       "      <th>15</th>\n",
       "      <td>Наклон глаз</td>\n",
       "      <td>3.589236</td>\n",
       "    </tr>\n",
       "    <tr>\n",
       "      <th>16</th>\n",
       "      <td>Верхнее веко</td>\n",
       "      <td>3.242315</td>\n",
       "    </tr>\n",
       "    <tr>\n",
       "      <th>17</th>\n",
       "      <td>Асимметрия носа</td>\n",
       "      <td>3.004486</td>\n",
       "    </tr>\n",
       "    <tr>\n",
       "      <th>18</th>\n",
       "      <td>Оттопыренность ушей</td>\n",
       "      <td>2.921067</td>\n",
       "    </tr>\n",
       "    <tr>\n",
       "      <th>19</th>\n",
       "      <td>marital_status</td>\n",
       "      <td>2.914564</td>\n",
       "    </tr>\n",
       "    <tr>\n",
       "      <th>20</th>\n",
       "      <td>Ширина посадки глаз</td>\n",
       "      <td>2.910922</td>\n",
       "    </tr>\n",
       "    <tr>\n",
       "      <th>21</th>\n",
       "      <td>education</td>\n",
       "      <td>2.863782</td>\n",
       "    </tr>\n",
       "    <tr>\n",
       "      <th>22</th>\n",
       "      <td>Наклон бровей</td>\n",
       "      <td>2.649976</td>\n",
       "    </tr>\n",
       "    <tr>\n",
       "      <th>23</th>\n",
       "      <td>job</td>\n",
       "      <td>2.493822</td>\n",
       "    </tr>\n",
       "    <tr>\n",
       "      <th>24</th>\n",
       "      <td>gender</td>\n",
       "      <td>1.990448</td>\n",
       "    </tr>\n",
       "    <tr>\n",
       "      <th>25</th>\n",
       "      <td>childs</td>\n",
       "      <td>1.796348</td>\n",
       "    </tr>\n",
       "  </tbody>\n",
       "</table>\n",
       "</div>"
      ],
      "text/plain": [
       "                 Feature Id  Importances\n",
       "0        Асимметрия челюсти     5.920313\n",
       "1              Форма головы     5.666672\n",
       "2             Высота бровей     5.585417\n",
       "3                    source     5.498239\n",
       "4                Уголки рта     5.363011\n",
       "5   Асимметрия наклона глаз     5.033915\n",
       "6               Размер глаз     4.520743\n",
       "7   Асимметрия размера глаз     4.369991\n",
       "8          Асимметрия брови     4.187477\n",
       "9                Размер рта     4.168456\n",
       "10           Ширина челюсти     4.032263\n",
       "11                      age     4.025016\n",
       "12      Полнота нижней губы     3.785037\n",
       "13     Полнота верхней губы     3.778477\n",
       "14                    Скулы     3.688006\n",
       "15              Наклон глаз     3.589236\n",
       "16             Верхнее веко     3.242315\n",
       "17          Асимметрия носа     3.004486\n",
       "18      Оттопыренность ушей     2.921067\n",
       "19           marital_status     2.914564\n",
       "20      Ширина посадки глаз     2.910922\n",
       "21                education     2.863782\n",
       "22            Наклон бровей     2.649976\n",
       "23                      job     2.493822\n",
       "24                   gender     1.990448\n",
       "25                   childs     1.796348"
      ]
     },
     "execution_count": 20,
     "metadata": {},
     "output_type": "execute_result"
    }
   ],
   "source": [
    "staged_probas_df, model_KU = train_model(df=df, cols=features+ga+anketas,\n",
    "                                          folds = 4, iterations=500, \\\n",
    "                                          depth=4, learning_rate=0.01)\n",
    "\n",
    "model_KU.get_feature_importance(prettified=True)"
   ]
  },
  {
   "cell_type": "code",
   "execution_count": 21,
   "id": "mature-swimming",
   "metadata": {},
   "outputs": [
    {
     "name": "stdout",
     "output_type": "stream",
     "text": [
      "[0.2942319137322479, 0.8433804862567456, 0.8646397286468263, 0.8798078002269559, 0.894757159413457, 0.9583306131282057]\n"
     ]
    },
    {
     "data": {
      "text/html": [
       "<div>\n",
       "<style scoped>\n",
       "    .dataframe tbody tr th:only-of-type {\n",
       "        vertical-align: middle;\n",
       "    }\n",
       "\n",
       "    .dataframe tbody tr th {\n",
       "        vertical-align: top;\n",
       "    }\n",
       "\n",
       "    .dataframe thead th {\n",
       "        text-align: right;\n",
       "    }\n",
       "</style>\n",
       "<table border=\"1\" class=\"dataframe\">\n",
       "  <thead>\n",
       "    <tr style=\"text-align: right;\">\n",
       "      <th></th>\n",
       "      <th>y proba</th>\n",
       "      <th>Процент людей, %</th>\n",
       "      <th>Процент мошенников в группе, %</th>\n",
       "      <th>Прибыль, млн.р</th>\n",
       "    </tr>\n",
       "  </thead>\n",
       "  <tbody>\n",
       "    <tr>\n",
       "      <th>0</th>\n",
       "      <td>0.294232</td>\n",
       "      <td>20.002426</td>\n",
       "      <td>37.052759</td>\n",
       "      <td>-1.71854</td>\n",
       "    </tr>\n",
       "    <tr>\n",
       "      <th>1</th>\n",
       "      <td>0.843380</td>\n",
       "      <td>20.002426</td>\n",
       "      <td>33.959976</td>\n",
       "      <td>-0.69226</td>\n",
       "    </tr>\n",
       "    <tr>\n",
       "      <th>2</th>\n",
       "      <td>0.864640</td>\n",
       "      <td>19.990296</td>\n",
       "      <td>33.313107</td>\n",
       "      <td>-0.84342</td>\n",
       "    </tr>\n",
       "    <tr>\n",
       "      <th>3</th>\n",
       "      <td>0.879808</td>\n",
       "      <td>19.966036</td>\n",
       "      <td>29.040097</td>\n",
       "      <td>-0.60282</td>\n",
       "    </tr>\n",
       "    <tr>\n",
       "      <th>4</th>\n",
       "      <td>0.894757</td>\n",
       "      <td>20.002426</td>\n",
       "      <td>19.769557</td>\n",
       "      <td>0.66002</td>\n",
       "    </tr>\n",
       "    <tr>\n",
       "      <th>5</th>\n",
       "      <td>0.958331</td>\n",
       "      <td>0.000000</td>\n",
       "      <td>NaN</td>\n",
       "      <td>0.00000</td>\n",
       "    </tr>\n",
       "  </tbody>\n",
       "</table>\n",
       "</div>"
      ],
      "text/plain": [
       "    y proba  Процент людей, %  Процент мошенников в группе, %  Прибыль, млн.р\n",
       "0  0.294232         20.002426                       37.052759        -1.71854\n",
       "1  0.843380         20.002426                       33.959976        -0.69226\n",
       "2  0.864640         19.990296                       33.313107        -0.84342\n",
       "3  0.879808         19.966036                       29.040097        -0.60282\n",
       "4  0.894757         20.002426                       19.769557         0.66002\n",
       "5  0.958331          0.000000                             NaN         0.00000"
      ]
     },
     "execution_count": 21,
     "metadata": {},
     "output_type": "execute_result"
    }
   ],
   "source": [
    "get_result_table(staged_probas_df[499])"
   ]
  },
  {
   "cell_type": "code",
   "execution_count": 22,
   "id": "burning-begin",
   "metadata": {},
   "outputs": [
    {
     "name": "stderr",
     "output_type": "stream",
     "text": [
      "/home/nikolay/anaconda3/envs/merlin/lib/python3.7/site-packages/sklearn/utils/deprecation.py:86: FutureWarning: Function plot_roc_curve is deprecated; This will be removed in v0.5.0. Please use scikitplot.metrics.plot_roc instead.\n",
      "  warnings.warn(msg, category=FutureWarning)\n"
     ]
    },
    {
     "data": {
      "image/png": "[encoded data removed]",
      "text/plain": [
       "<Figure size 432x288 with 1 Axes>"
      ]
     },
     "metadata": {
      "needs_background": "light"
     },
     "output_type": "display_data"
    }
   ],
   "source": [
    "# Micro is shows more positive result\n",
    "y_proba = staged_probas_df[499]\n",
    "proba = np.array([y_proba, 1-y_proba])\n",
    "skplt.metrics.plot_roc_curve(df['target'].astype(int).values, proba.T, curves=['macro'])\n",
    "plt.show()"
   ]
  },
  {
   "cell_type": "markdown",
   "id": "welcome-browser",
   "metadata": {},
   "source": [
    "# Try with LinearRegression"
   ]
  },
  {
   "cell_type": "code",
   "execution_count": 27,
   "id": "statistical-garbage",
   "metadata": {},
   "outputs": [],
   "source": [
    "df['gender'] = df['gender'].replace({'Мужской': 1, 'Женский': 0})"
   ]
  },
  {
   "cell_type": "code",
   "execution_count": 28,
   "id": "amateur-somerset",
   "metadata": {
    "scrolled": false
   },
   "outputs": [
    {
     "name": "stderr",
     "output_type": "stream",
     "text": [
      "/home/nikolay/anaconda3/envs/merlin/lib/python3.7/site-packages/ipykernel_launcher.py:22: DeprecationWarning: scipy.interp is deprecated and will be removed in SciPy 2.0.0, use numpy.interp instead\n",
      "/home/nikolay/anaconda3/envs/merlin/lib/python3.7/site-packages/ipykernel_launcher.py:22: DeprecationWarning: scipy.interp is deprecated and will be removed in SciPy 2.0.0, use numpy.interp instead\n",
      "/home/nikolay/anaconda3/envs/merlin/lib/python3.7/site-packages/ipykernel_launcher.py:22: DeprecationWarning: scipy.interp is deprecated and will be removed in SciPy 2.0.0, use numpy.interp instead\n",
      "/home/nikolay/anaconda3/envs/merlin/lib/python3.7/site-packages/ipykernel_launcher.py:22: DeprecationWarning: scipy.interp is deprecated and will be removed in SciPy 2.0.0, use numpy.interp instead\n",
      "/home/nikolay/anaconda3/envs/merlin/lib/python3.7/site-packages/sklearn/linear_model/_logistic.py:764: ConvergenceWarning: lbfgs failed to converge (status=1):\n",
      "STOP: TOTAL NO. of ITERATIONS REACHED LIMIT.\n",
      "\n",
      "Increase the number of iterations (max_iter) or scale the data as shown in:\n",
      "    https://scikit-learn.org/stable/modules/preprocessing.html\n",
      "Please also refer to the documentation for alternative solver options:\n",
      "    https://scikit-learn.org/stable/modules/linear_model.html#logistic-regression\n",
      "  extra_warning_msg=_LOGISTIC_SOLVER_CONVERGENCE_MSG)\n",
      "/home/nikolay/anaconda3/envs/merlin/lib/python3.7/site-packages/ipykernel_launcher.py:22: DeprecationWarning: scipy.interp is deprecated and will be removed in SciPy 2.0.0, use numpy.interp instead\n"
     ]
    },
    {
     "data": {
      "image/png": "[encoded data removed]",
      "text/plain": [
       "<Figure size 432x288 with 1 Axes>"
      ]
     },
     "metadata": {
      "needs_background": "light"
     },
     "output_type": "display_data"
    }
   ],
   "source": [
    "from sklearn.metrics import roc_curve, auc\n",
    "from sklearn.model_selection import StratifiedKFold\n",
    "from sklearn import svm\n",
    "from scipy import interp\n",
    "\n",
    "n_samples, n_features = df.shape\n",
    "\n",
    "cv = StratifiedKFold(n_splits=5)\n",
    "classifier = LogisticRegression(class_weight ='balanced', C=2.0, penalty='l2', solver='lbfgs')\n",
    "\n",
    "tprs = []\n",
    "aucs = []\n",
    "mean_fpr = np.linspace(0, 1, 100)\n",
    "columns = features+ga#+anketas\n",
    "\n",
    "i = 0\n",
    "X, y = df[columns].values, df['target'].values\n",
    "for train, test in cv.split(X, y):\n",
    "    probas_ = classifier.fit(X[train], y[train]).predict_proba(X[test])\n",
    "    # Compute ROC curve and area the curve\n",
    "    fpr, tpr, thresholds = roc_curve(y[test], probas_[:, 1])\n",
    "    tprs.append(interp(mean_fpr, fpr, tpr))\n",
    "    tprs[-1][0] = 0.0\n",
    "    roc_auc = auc(fpr, tpr)\n",
    "    aucs.append(roc_auc)\n",
    "    plt.plot(fpr, tpr, lw=1, alpha=0.3,\n",
    "             label='ROC fold %d (AUC = %0.2f)' % (i, roc_auc))\n",
    "\n",
    "    i += 1\n",
    "\n",
    "plt.plot([0, 1], [0, 1], linestyle='--', lw=2, color='r',\n",
    "         label='Chance', alpha=.8)\n",
    "\n",
    "mean_tpr = np.mean(tprs, axis=0)\n",
    "mean_tpr[-1] = 1.0\n",
    "mean_auc = auc(mean_fpr, mean_tpr)\n",
    "std_auc = np.std(aucs)\n",
    "plt.plot(mean_fpr, mean_tpr, color='b',\n",
    "         label=r'Mean ROC (AUC = %0.2f $\\pm$ %0.2f)' % (mean_auc, std_auc),\n",
    "         lw=2, alpha=.8)\n",
    "\n",
    "std_tpr = np.std(tprs, axis=0)\n",
    "tprs_upper = np.minimum(mean_tpr + std_tpr, 1)\n",
    "tprs_lower = np.maximum(mean_tpr - std_tpr, 0)\n",
    "plt.fill_between(mean_fpr, tprs_lower, tprs_upper, color='grey', alpha=.2,\n",
    "                 label=r'$\\pm$ 1 std. dev.')\n",
    "\n",
    "plt.xlim([-0.05, 1.05])\n",
    "plt.ylim([-0.05, 1.05])\n",
    "plt.xlabel('False Positive Rate')\n",
    "plt.ylabel('True Positive Rate')\n",
    "plt.title('Receiver operating characteristic example')\n",
    "plt.legend(loc=\"lower right\")\n",
    "plt.show()\n"
   ]
  },
  {
   "cell_type": "code",
   "execution_count": 24,
   "id": "stable-scanner",
   "metadata": {},
   "outputs": [
    {
     "data": {
      "text/plain": [
       "['Асимметрия челюсти',\n",
       " 'Высота бровей',\n",
       " 'Наклон глаз',\n",
       " 'Полнота верхней губы',\n",
       " 'Полнота нижней губы',\n",
       " 'Асимметрия размера глаз',\n",
       " 'Ширина посадки глаз',\n",
       " 'Скулы',\n",
       " 'Форма головы',\n",
       " 'Верхнее веко',\n",
       " 'Асимметрия брови',\n",
       " 'Наклон бровей',\n",
       " 'Размер рта',\n",
       " 'Асимметрия наклона глаз',\n",
       " 'Асимметрия носа',\n",
       " 'Размер глаз',\n",
       " 'Оттопыренность ушей',\n",
       " 'Ширина челюсти',\n",
       " 'Уголки рта',\n",
       " 'age',\n",
       " 'gender',\n",
       " 'source',\n",
       " 'childs',\n",
       " 'education',\n",
       " 'marital_status',\n",
       " 'job']"
      ]
     },
     "execution_count": 24,
     "metadata": {},
     "output_type": "execute_result"
    }
   ],
   "source": [
    "columns"
   ]
  },
  {
   "cell_type": "code",
   "execution_count": null,
   "id": "instrumental-illinois",
   "metadata": {},
   "outputs": [],
   "source": []
  }
 ],
 "metadata": {
  "kernelspec": {
   "display_name": "Python 3",
   "language": "python",
   "name": "python3"
  },
  "language_info": {
   "codemirror_mode": {
    "name": "ipython",
    "version": 3
   },
   "file_extension": ".py",
   "mimetype": "text/x-python",
   "name": "python",
   "nbconvert_exporter": "python",
   "pygments_lexer": "ipython3",
   "version": "3.7.9"
  }
 },
 "nbformat": 4,
 "nbformat_minor": 5
}
