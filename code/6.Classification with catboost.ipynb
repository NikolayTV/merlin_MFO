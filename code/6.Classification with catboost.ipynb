{
 "cells": [
  {
   "cell_type": "code",
   "execution_count": 16,
   "id": "toxic-patent",
   "metadata": {},
   "outputs": [],
   "source": [
    "%reload_ext autoreload\n",
    "%autoreload 2\n",
    "\n",
    "import pandas as pd\n",
    "import numpy as np\n",
    "import json\n",
    "import os\n",
    "import shutil \n",
    "from tqdm import tqdm_notebook as tqdm\n",
    "import matplotlib.pyplot as plt\n",
    "import cv2\n",
    "\n",
    "from catboost import CatBoostClassifier, Pool\n",
    "from sklearn.model_selection import train_test_split\n",
    "from sklearn.preprocessing import StandardScaler\n",
    "from sklearn.linear_model import LogisticRegression\n",
    "from sklearn.metrics import roc_auc_score\n",
    "from sklearn.preprocessing import LabelEncoder\n",
    "import scikitplot as skplt\n",
    "from itertools import combinations"
   ]
  },
  {
   "cell_type": "code",
   "execution_count": 41,
   "id": "controlling-salon",
   "metadata": {},
   "outputs": [],
   "source": [
    "df = pd.read_csv('df_total.csv', index_col=0)\n",
    "df['total_profit'] = df['total_given'] - df['total_taken']\n",
    "\n",
    "df['gender'] = df['gender'].fillna('Мужской')\n",
    "cols = ['Асимметрия челюсти', 'Высота бровей', 'Наклон глаз',\n",
    "       'Полнота верхней губы', 'Полнота нижней губы',\n",
    "       'Асимметрия размера глаз', 'Ширина посадки глаз', 'Скулы',\n",
    "       'Форма головы', 'Верхнее веко', 'Асимметрия брови', 'Наклон бровей',\n",
    "       'Размер рта', 'Асимметрия наклона глаз', 'Асимметрия носа',\n",
    "       'Размер глаз', 'Оттопыренность ушей', 'Ширина челюсти', 'Уголки рта',\n",
    "       ]\n",
    "\n",
    "# for col in tqdm(cols):\n",
    "#     df[col] = (df[col] - df[col].quantile(0.01)) / (df[col].quantile(0.99) - df[col].quantile(0.001))\n",
    "    \n",
    "df['Категория'] = df['fraud'].replace({True: 'Мошенник', False: 'Не мошенник'})\n",
    "features = ['Асимметрия челюсти', 'Высота бровей', 'Наклон глаз',\n",
    "           'Полнота верхней губы', 'Полнота нижней губы',\n",
    "           'Асимметрия размера глаз', 'Ширина посадки глаз', 'Скулы',\n",
    "           'Форма головы', 'Верхнее веко', 'Асимметрия брови', 'Наклон бровей',\n",
    "           'Размер рта', 'Асимметрия наклона глаз', 'Асимметрия носа',\n",
    "           'Размер глаз', 'Оттопыренность ушей', 'Ширина челюсти', 'Уголки рта',\n",
    "           ]\n",
    "\n",
    "anketas = ['source', 'childs', 'education', 'marital_status', 'job']\n",
    "\n",
    "ga = ['age', 'gender']"
   ]
  },
  {
   "cell_type": "code",
   "execution_count": 42,
   "id": "dbd71d12",
   "metadata": {},
   "outputs": [
    {
     "data": {
      "text/plain": [
       "Не мошенник    32243\n",
       "Мошенник        2845\n",
       "Name: Категория, dtype: int64"
      ]
     },
     "execution_count": 42,
     "metadata": {},
     "output_type": "execute_result"
    }
   ],
   "source": [
    "df['Категория'].value_counts()\n"
   ]
  },
  {
   "cell_type": "code",
   "execution_count": 43,
   "id": "alert-terrorism",
   "metadata": {},
   "outputs": [
    {
     "data": {
      "text/plain": [
       "80269680.82999998"
      ]
     },
     "execution_count": 43,
     "metadata": {},
     "output_type": "execute_result"
    }
   ],
   "source": [
    "df['total_profit'].sum()"
   ]
  },
  {
   "cell_type": "code",
   "execution_count": 44,
   "id": "clinical-diary",
   "metadata": {},
   "outputs": [
    {
     "data": {
      "text/plain": [
       "<AxesSubplot:>"
      ]
     },
     "execution_count": 44,
     "metadata": {},
     "output_type": "execute_result"
    },
    {
     "data": {
      "image/png": "[encoded data removed]",
      "text/plain": [
       "<Figure size 432x288 with 1 Axes>"
      ]
     },
     "metadata": {
      "needs_background": "light"
     },
     "output_type": "display_data"
    }
   ],
   "source": [
    "pd.to_datetime(df['loan_date']).hist()"
   ]
  },
  {
   "cell_type": "code",
   "execution_count": 45,
   "id": "front-sheffield",
   "metadata": {},
   "outputs": [
    {
     "data": {
      "text/plain": [
       "0    32243\n",
       "1     2845\n",
       "Name: Категория, dtype: int64"
      ]
     },
     "execution_count": 45,
     "metadata": {},
     "output_type": "execute_result"
    }
   ],
   "source": [
    "df['Категория'] = df['Категория'].replace({'Не мошенник':0, 'Мошенник':1})\n",
    "df['Категория'].value_counts()"
   ]
  },
  {
   "cell_type": "code",
   "execution_count": 46,
   "id": "injured-carbon",
   "metadata": {},
   "outputs": [],
   "source": [
    "from sklearn.model_selection import StratifiedKFold \n",
    "\n",
    "def train_model(df, cols, folds, iterations, depth, learning_rate ):\n",
    "#                 depth, colsample_bylevel, subsample, bagging_temperature, random_strength, l2_leaf_reg):\n",
    "    \n",
    "    X = df[cols]\n",
    "    cat_features = X.select_dtypes('object').columns.tolist()\n",
    "    y = df['Категория']\n",
    "\n",
    "    kf = StratifiedKFold(n_splits=folds, shuffle=True, random_state=6)\n",
    "    staged_probas_df =  pd.DataFrame(np.zeros((X.shape[0],iterations)), index=X.index)\n",
    "\n",
    "    for train_index, test_index in kf.split(X,y):\n",
    "#         train_index = np.append(train_index, test_index[:2500])\n",
    "        print(len(train_index), len(test_index))\n",
    "        X_train, X_test = X.iloc[train_index], X.iloc[test_index]\n",
    "        y_train, y_test = y.iloc[train_index], y.iloc[test_index]\n",
    "\n",
    "        model = CatBoostClassifier(iterations=iterations, \n",
    "                                   depth=depth,\n",
    "                                   eval_metric='AUC',\n",
    "                                   learning_rate=learning_rate,\n",
    "#                                    loss_function='Logloss',\n",
    "                                   scale_pos_weight=3,\n",
    "#                                    colsample_bylevel=0.5,\n",
    "#                                    subsample=0.5,\n",
    "# #                                    bagging_temperature=bagging_temperature,\n",
    "#                                    random_strength=random_strength,\n",
    "#                                    l2_leaf_reg=l2_leaf_reg,\n",
    "#                                    boosting_type='Plain', # 'Plain'\n",
    "                                   bootstrap_type='Bernoulli',# 'Bernoulli' Bayesian\n",
    "#                                    max_ctr_complexity=2,\n",
    "                                   task_type='CPU',\n",
    "                                  )\n",
    "        model.fit(\n",
    "            X_train, y_train,\n",
    "            eval_set = (X_test, y_test),\n",
    "            cat_features=cat_features,\n",
    "            verbose=False,\n",
    "            plot=True,\n",
    "            use_best_model=False\n",
    "        );\n",
    "\n",
    "        staged_probas = model.staged_predict_proba(X_test)\n",
    "        for i, staged_proba in enumerate(staged_probas):\n",
    "            staged_probas_df.iloc[test_index, i] = staged_proba[:,1]\n",
    "        \n",
    "    return staged_probas_df, model\n",
    "\n",
    "\n",
    "def get_result_table(y_proba):\n",
    "    df['y_proba'] = y_proba\n",
    "\n",
    "    quantiles = []\n",
    "    step = 0.2\n",
    "\n",
    "    df['target'] = df['Категория'] == 1\n",
    "\n",
    "    for i in np.arange(0, 1+step, step):\n",
    "        if i > 1: i = 1\n",
    "        quant = df['y_proba'].quantile(i)\n",
    "        quantiles.append(quant)\n",
    "\n",
    "    profit_abs = []\n",
    "    loaners_amount = []\n",
    "    good_bad = []\n",
    "\n",
    "    for i, quant in enumerate(quantiles):\n",
    "        if i == 0: quant = 0\n",
    "        i_next = i + 1\n",
    "        if i_next == len(quantiles): i_next = len(quantiles) - 1\n",
    "        q = df[(df['y_proba'] >= quant) & (df['y_proba'] < quantiles[i_next])]\n",
    "        profit_abs.append(round(pd.Series(q['total_given'] - q['total_taken']).sum()/1000000, 5))\n",
    "        loaners_amount.append(q.shape[0])\n",
    "        good_bad.append(q['target'].mean()*100)\n",
    "        i_old = quantiles[i-1]\n",
    "\n",
    "    print(quantiles)\n",
    "    df2 = pd.DataFrame()\n",
    "    df2['y proba'] = quantiles # np.append(np.arange(0, 0.1, 0.02), \n",
    "    df2['Количество людей'] = loaners_amount\n",
    "    df2['Процент людей, %'] = df2['Количество людей'] * 100 / df.shape[0]\n",
    "    df2['Процент мошенников в группе, %'] = good_bad\n",
    "    df2['Прибыль, млн.р'] = np.array(profit_abs)\n",
    "\n",
    "    return df2#.drop('Количество людей', axis=1)"
   ]
  },
  {
   "cell_type": "code",
   "execution_count": 47,
   "id": "knowing-single",
   "metadata": {
    "scrolled": true
   },
   "outputs": [
    {
     "name": "stdout",
     "output_type": "stream",
     "text": [
      "26316 8772\n"
     ]
    },
    {
     "data": {
      "application/vnd.jupyter.widget-view+json": {
       "model_id": "55f23a3031514773aa9ddc0cb5ab4a5f",
       "version_major": 2,
       "version_minor": 0
      },
      "text/plain": [
       "MetricVisualizer(layout=Layout(align_self='stretch', height='500px'))"
      ]
     },
     "metadata": {},
     "output_type": "display_data"
    },
    {
     "name": "stdout",
     "output_type": "stream",
     "text": [
      "26316 8772\n"
     ]
    },
    {
     "data": {
      "application/vnd.jupyter.widget-view+json": {
       "model_id": "8a7e14d6559140dcbb6e8d44b7b04572",
       "version_major": 2,
       "version_minor": 0
      },
      "text/plain": [
       "MetricVisualizer(layout=Layout(align_self='stretch', height='500px'))"
      ]
     },
     "metadata": {},
     "output_type": "display_data"
    },
    {
     "name": "stdout",
     "output_type": "stream",
     "text": [
      "26316 8772\n"
     ]
    },
    {
     "data": {
      "application/vnd.jupyter.widget-view+json": {
       "model_id": "8c4ef07038f44f1d9bd3a061d257f527",
       "version_major": 2,
       "version_minor": 0
      },
      "text/plain": [
       "MetricVisualizer(layout=Layout(align_self='stretch', height='500px'))"
      ]
     },
     "metadata": {},
     "output_type": "display_data"
    },
    {
     "name": "stdout",
     "output_type": "stream",
     "text": [
      "26316 8772\n"
     ]
    },
    {
     "data": {
      "application/vnd.jupyter.widget-view+json": {
       "model_id": "e972135e042f4ab7b1e1851cfafa2062",
       "version_major": 2,
       "version_minor": 0
      },
      "text/plain": [
       "MetricVisualizer(layout=Layout(align_self='stretch', height='500px'))"
      ]
     },
     "metadata": {},
     "output_type": "display_data"
    },
    {
     "name": "stderr",
     "output_type": "stream",
     "text": [
      "/tmp/ipykernel_11249/1617969160.py:6: FutureWarning: As the xlwt package is no longer maintained, the xlwt engine will be removed in a future version of pandas. This is the only engine in pandas that supports writing in the xls format. Install openpyxl and write to an xlsx file instead. You can set the option io.excel.xls.writer to 'xlwt' to silence this warning. While this option is deprecated and will also raise a warning, it can be globally set and the warning suppressed.\n",
      "  table.to_excel('tables/FEATURE_IMPORTANCE_features+anketas+ga.xls')\n"
     ]
    },
    {
     "data": {
      "text/html": [
       "<div>\n",
       "<style scoped>\n",
       "    .dataframe tbody tr th:only-of-type {\n",
       "        vertical-align: middle;\n",
       "    }\n",
       "\n",
       "    .dataframe tbody tr th {\n",
       "        vertical-align: top;\n",
       "    }\n",
       "\n",
       "    .dataframe thead th {\n",
       "        text-align: right;\n",
       "    }\n",
       "</style>\n",
       "<table border=\"1\" class=\"dataframe\">\n",
       "  <thead>\n",
       "    <tr style=\"text-align: right;\">\n",
       "      <th></th>\n",
       "      <th>Feature Id</th>\n",
       "      <th>Importances</th>\n",
       "    </tr>\n",
       "  </thead>\n",
       "  <tbody>\n",
       "    <tr>\n",
       "      <th>0</th>\n",
       "      <td>source</td>\n",
       "      <td>9.872896</td>\n",
       "    </tr>\n",
       "    <tr>\n",
       "      <th>1</th>\n",
       "      <td>age</td>\n",
       "      <td>7.602981</td>\n",
       "    </tr>\n",
       "    <tr>\n",
       "      <th>2</th>\n",
       "      <td>Асимметрия носа</td>\n",
       "      <td>4.556449</td>\n",
       "    </tr>\n",
       "    <tr>\n",
       "      <th>3</th>\n",
       "      <td>Высота бровей</td>\n",
       "      <td>4.283936</td>\n",
       "    </tr>\n",
       "    <tr>\n",
       "      <th>4</th>\n",
       "      <td>Верхнее веко</td>\n",
       "      <td>4.174675</td>\n",
       "    </tr>\n",
       "    <tr>\n",
       "      <th>5</th>\n",
       "      <td>Наклон бровей</td>\n",
       "      <td>4.093435</td>\n",
       "    </tr>\n",
       "    <tr>\n",
       "      <th>6</th>\n",
       "      <td>Скулы</td>\n",
       "      <td>4.056042</td>\n",
       "    </tr>\n",
       "    <tr>\n",
       "      <th>7</th>\n",
       "      <td>Размер рта</td>\n",
       "      <td>4.054093</td>\n",
       "    </tr>\n",
       "    <tr>\n",
       "      <th>8</th>\n",
       "      <td>Уголки рта</td>\n",
       "      <td>3.965343</td>\n",
       "    </tr>\n",
       "    <tr>\n",
       "      <th>9</th>\n",
       "      <td>Асимметрия размера глаз</td>\n",
       "      <td>3.860808</td>\n",
       "    </tr>\n",
       "    <tr>\n",
       "      <th>10</th>\n",
       "      <td>Полнота нижней губы</td>\n",
       "      <td>3.850380</td>\n",
       "    </tr>\n",
       "    <tr>\n",
       "      <th>11</th>\n",
       "      <td>Асимметрия наклона глаз</td>\n",
       "      <td>3.769963</td>\n",
       "    </tr>\n",
       "    <tr>\n",
       "      <th>12</th>\n",
       "      <td>Полнота верхней губы</td>\n",
       "      <td>3.673924</td>\n",
       "    </tr>\n",
       "    <tr>\n",
       "      <th>13</th>\n",
       "      <td>Ширина челюсти</td>\n",
       "      <td>3.636777</td>\n",
       "    </tr>\n",
       "    <tr>\n",
       "      <th>14</th>\n",
       "      <td>Оттопыренность ушей</td>\n",
       "      <td>3.595650</td>\n",
       "    </tr>\n",
       "    <tr>\n",
       "      <th>15</th>\n",
       "      <td>Наклон глаз</td>\n",
       "      <td>3.373086</td>\n",
       "    </tr>\n",
       "    <tr>\n",
       "      <th>16</th>\n",
       "      <td>Асимметрия брови</td>\n",
       "      <td>3.371699</td>\n",
       "    </tr>\n",
       "    <tr>\n",
       "      <th>17</th>\n",
       "      <td>Ширина посадки глаз</td>\n",
       "      <td>3.335809</td>\n",
       "    </tr>\n",
       "    <tr>\n",
       "      <th>18</th>\n",
       "      <td>Размер глаз</td>\n",
       "      <td>3.309129</td>\n",
       "    </tr>\n",
       "    <tr>\n",
       "      <th>19</th>\n",
       "      <td>Асимметрия челюсти</td>\n",
       "      <td>3.228848</td>\n",
       "    </tr>\n",
       "    <tr>\n",
       "      <th>20</th>\n",
       "      <td>Форма головы</td>\n",
       "      <td>3.170179</td>\n",
       "    </tr>\n",
       "    <tr>\n",
       "      <th>21</th>\n",
       "      <td>education</td>\n",
       "      <td>3.080084</td>\n",
       "    </tr>\n",
       "    <tr>\n",
       "      <th>22</th>\n",
       "      <td>marital_status</td>\n",
       "      <td>2.672224</td>\n",
       "    </tr>\n",
       "    <tr>\n",
       "      <th>23</th>\n",
       "      <td>job</td>\n",
       "      <td>2.219208</td>\n",
       "    </tr>\n",
       "    <tr>\n",
       "      <th>24</th>\n",
       "      <td>childs</td>\n",
       "      <td>1.597160</td>\n",
       "    </tr>\n",
       "    <tr>\n",
       "      <th>25</th>\n",
       "      <td>gender</td>\n",
       "      <td>1.595221</td>\n",
       "    </tr>\n",
       "  </tbody>\n",
       "</table>\n",
       "</div>"
      ],
      "text/plain": [
       "                 Feature Id  Importances\n",
       "0                    source     9.872896\n",
       "1                       age     7.602981\n",
       "2           Асимметрия носа     4.556449\n",
       "3             Высота бровей     4.283936\n",
       "4              Верхнее веко     4.174675\n",
       "5             Наклон бровей     4.093435\n",
       "6                     Скулы     4.056042\n",
       "7                Размер рта     4.054093\n",
       "8                Уголки рта     3.965343\n",
       "9   Асимметрия размера глаз     3.860808\n",
       "10      Полнота нижней губы     3.850380\n",
       "11  Асимметрия наклона глаз     3.769963\n",
       "12     Полнота верхней губы     3.673924\n",
       "13           Ширина челюсти     3.636777\n",
       "14      Оттопыренность ушей     3.595650\n",
       "15              Наклон глаз     3.373086\n",
       "16         Асимметрия брови     3.371699\n",
       "17      Ширина посадки глаз     3.335809\n",
       "18              Размер глаз     3.309129\n",
       "19       Асимметрия челюсти     3.228848\n",
       "20             Форма головы     3.170179\n",
       "21                education     3.080084\n",
       "22           marital_status     2.672224\n",
       "23                      job     2.219208\n",
       "24                   childs     1.597160\n",
       "25                   gender     1.595221"
      ]
     },
     "execution_count": 47,
     "metadata": {},
     "output_type": "execute_result"
    }
   ],
   "source": [
    "staged_probas_df, model_KU = train_model(df=df, cols=features+anketas+ga,\n",
    "                                          folds=4, iterations=500, \\\n",
    "                                          depth=4, learning_rate=0.1)\n",
    "\n",
    "table = model_KU.get_feature_importance(prettified=True)\n",
    "table.to_excel('tables/FEATURE_IMPORTANCE_features+anketas+ga.xls')\n",
    "table"
   ]
  },
  {
   "cell_type": "code",
   "execution_count": 48,
   "id": "large-application",
   "metadata": {},
   "outputs": [
    {
     "name": "stdout",
     "output_type": "stream",
     "text": [
      "[0.007471814685521921, 0.0760478274341962, 0.11943310591753781, 0.17607130643086127, 0.26786688742555226, 0.9003809872577438]\n"
     ]
    },
    {
     "name": "stderr",
     "output_type": "stream",
     "text": [
      "/tmp/ipykernel_11249/2698658785.py:2: FutureWarning: As the xlwt package is no longer maintained, the xlwt engine will be removed in a future version of pandas. This is the only engine in pandas that supports writing in the xls format. Install openpyxl and write to an xlsx file instead. You can set the option io.excel.xls.writer to 'xlwt' to silence this warning. While this option is deprecated and will also raise a warning, it can be globally set and the warning suppressed.\n",
      "  table.to_excel('tables/features+anketas+ga.xls')\n"
     ]
    },
    {
     "data": {
      "text/html": [
       "<div>\n",
       "<style scoped>\n",
       "    .dataframe tbody tr th:only-of-type {\n",
       "        vertical-align: middle;\n",
       "    }\n",
       "\n",
       "    .dataframe tbody tr th {\n",
       "        vertical-align: top;\n",
       "    }\n",
       "\n",
       "    .dataframe thead th {\n",
       "        text-align: right;\n",
       "    }\n",
       "</style>\n",
       "<table border=\"1\" class=\"dataframe\">\n",
       "  <thead>\n",
       "    <tr style=\"text-align: right;\">\n",
       "      <th></th>\n",
       "      <th>y proba</th>\n",
       "      <th>Количество людей</th>\n",
       "      <th>Процент людей, %</th>\n",
       "      <th>Процент мошенников в группе, %</th>\n",
       "      <th>Прибыль, млн.р</th>\n",
       "    </tr>\n",
       "  </thead>\n",
       "  <tbody>\n",
       "    <tr>\n",
       "      <th>0</th>\n",
       "      <td>0.007472</td>\n",
       "      <td>7018</td>\n",
       "      <td>20.00114</td>\n",
       "      <td>2.550584</td>\n",
       "      <td>20.27576</td>\n",
       "    </tr>\n",
       "    <tr>\n",
       "      <th>1</th>\n",
       "      <td>0.076048</td>\n",
       "      <td>7014</td>\n",
       "      <td>19.98974</td>\n",
       "      <td>3.763901</td>\n",
       "      <td>19.36821</td>\n",
       "    </tr>\n",
       "    <tr>\n",
       "      <th>2</th>\n",
       "      <td>0.119433</td>\n",
       "      <td>7021</td>\n",
       "      <td>20.00969</td>\n",
       "      <td>6.039026</td>\n",
       "      <td>16.77099</td>\n",
       "    </tr>\n",
       "    <tr>\n",
       "      <th>3</th>\n",
       "      <td>0.176071</td>\n",
       "      <td>7017</td>\n",
       "      <td>19.99829</td>\n",
       "      <td>9.605244</td>\n",
       "      <td>13.99829</td>\n",
       "    </tr>\n",
       "    <tr>\n",
       "      <th>4</th>\n",
       "      <td>0.267867</td>\n",
       "      <td>7017</td>\n",
       "      <td>19.99829</td>\n",
       "      <td>18.569189</td>\n",
       "      <td>9.85933</td>\n",
       "    </tr>\n",
       "    <tr>\n",
       "      <th>5</th>\n",
       "      <td>0.900381</td>\n",
       "      <td>0</td>\n",
       "      <td>0.00000</td>\n",
       "      <td>NaN</td>\n",
       "      <td>0.00000</td>\n",
       "    </tr>\n",
       "  </tbody>\n",
       "</table>\n",
       "</div>"
      ],
      "text/plain": [
       "    y proba  Количество людей  Процент людей, %  \\\n",
       "0  0.007472              7018          20.00114   \n",
       "1  0.076048              7014          19.98974   \n",
       "2  0.119433              7021          20.00969   \n",
       "3  0.176071              7017          19.99829   \n",
       "4  0.267867              7017          19.99829   \n",
       "5  0.900381                 0           0.00000   \n",
       "\n",
       "   Процент мошенников в группе, %  Прибыль, млн.р  \n",
       "0                        2.550584        20.27576  \n",
       "1                        3.763901        19.36821  \n",
       "2                        6.039026        16.77099  \n",
       "3                        9.605244        13.99829  \n",
       "4                       18.569189         9.85933  \n",
       "5                             NaN         0.00000  "
      ]
     },
     "execution_count": 48,
     "metadata": {},
     "output_type": "execute_result"
    }
   ],
   "source": [
    "table = get_result_table(staged_probas_df[449])\n",
    "table.to_excel('tables/features+anketas+ga.xls')\n",
    "table"
   ]
  },
  {
   "cell_type": "code",
   "execution_count": 49,
   "id": "aquatic-booth",
   "metadata": {
    "scrolled": false
   },
   "outputs": [
    {
     "name": "stderr",
     "output_type": "stream",
     "text": [
      "/home/nikolay/anaconda3/envs/peller/lib/python3.8/site-packages/sklearn/utils/deprecation.py:87: FutureWarning: Function plot_roc_curve is deprecated; This will be removed in v0.5.0. Please use scikitplot.metrics.plot_roc instead.\n",
      "  warnings.warn(msg, category=FutureWarning)\n"
     ]
    },
    {
     "data": {
      "image/png": "[encoded data removed]",
      "text/plain": [
       "<Figure size 432x288 with 1 Axes>"
      ]
     },
     "metadata": {
      "needs_background": "light"
     },
     "output_type": "display_data"
    }
   ],
   "source": [
    "# Micro is shows more positive result\n",
    "y_proba = staged_probas_df[499]\n",
    "proba = np.array([1-y_proba, y_proba])\n",
    "skplt.metrics.plot_roc_curve(df['Категория'].astype(int).values, proba.T, curves=['macro'])\n",
    "plt.show()"
   ]
  },
  {
   "cell_type": "markdown",
   "id": "apart-contest",
   "metadata": {},
   "source": [
    "### Features + GA"
   ]
  },
  {
   "cell_type": "code",
   "execution_count": 50,
   "id": "continuous-supervision",
   "metadata": {
    "scrolled": true
   },
   "outputs": [
    {
     "name": "stdout",
     "output_type": "stream",
     "text": [
      "26316 8772\n"
     ]
    },
    {
     "data": {
      "application/vnd.jupyter.widget-view+json": {
       "model_id": "f0546434a9a04019bb3f74573f226223",
       "version_major": 2,
       "version_minor": 0
      },
      "text/plain": [
       "MetricVisualizer(layout=Layout(align_self='stretch', height='500px'))"
      ]
     },
     "metadata": {},
     "output_type": "display_data"
    },
    {
     "name": "stdout",
     "output_type": "stream",
     "text": [
      "26316 8772\n"
     ]
    },
    {
     "data": {
      "application/vnd.jupyter.widget-view+json": {
       "model_id": "c1df709e480e471fa5de7fd188ee4d08",
       "version_major": 2,
       "version_minor": 0
      },
      "text/plain": [
       "MetricVisualizer(layout=Layout(align_self='stretch', height='500px'))"
      ]
     },
     "metadata": {},
     "output_type": "display_data"
    },
    {
     "name": "stdout",
     "output_type": "stream",
     "text": [
      "26316 8772\n"
     ]
    },
    {
     "data": {
      "application/vnd.jupyter.widget-view+json": {
       "model_id": "1ea60e7dea1d4fac981a84aeb24bbbb4",
       "version_major": 2,
       "version_minor": 0
      },
      "text/plain": [
       "MetricVisualizer(layout=Layout(align_self='stretch', height='500px'))"
      ]
     },
     "metadata": {},
     "output_type": "display_data"
    },
    {
     "name": "stdout",
     "output_type": "stream",
     "text": [
      "26316 8772\n"
     ]
    },
    {
     "data": {
      "application/vnd.jupyter.widget-view+json": {
       "model_id": "eeeb1e997b214594998e074b98c6ec8e",
       "version_major": 2,
       "version_minor": 0
      },
      "text/plain": [
       "MetricVisualizer(layout=Layout(align_self='stretch', height='500px'))"
      ]
     },
     "metadata": {},
     "output_type": "display_data"
    },
    {
     "name": "stderr",
     "output_type": "stream",
     "text": [
      "/tmp/ipykernel_11249/376828380.py:6: FutureWarning: As the xlwt package is no longer maintained, the xlwt engine will be removed in a future version of pandas. This is the only engine in pandas that supports writing in the xls format. Install openpyxl and write to an xlsx file instead. You can set the option io.excel.xls.writer to 'xlwt' to silence this warning. While this option is deprecated and will also raise a warning, it can be globally set and the warning suppressed.\n",
      "  table.to_excel('tables/FEATURE_IMPORTANCE_features+ga.xls')\n"
     ]
    },
    {
     "data": {
      "text/html": [
       "<div>\n",
       "<style scoped>\n",
       "    .dataframe tbody tr th:only-of-type {\n",
       "        vertical-align: middle;\n",
       "    }\n",
       "\n",
       "    .dataframe tbody tr th {\n",
       "        vertical-align: top;\n",
       "    }\n",
       "\n",
       "    .dataframe thead th {\n",
       "        text-align: right;\n",
       "    }\n",
       "</style>\n",
       "<table border=\"1\" class=\"dataframe\">\n",
       "  <thead>\n",
       "    <tr style=\"text-align: right;\">\n",
       "      <th></th>\n",
       "      <th>Feature Id</th>\n",
       "      <th>Importances</th>\n",
       "    </tr>\n",
       "  </thead>\n",
       "  <tbody>\n",
       "    <tr>\n",
       "      <th>0</th>\n",
       "      <td>age</td>\n",
       "      <td>10.185940</td>\n",
       "    </tr>\n",
       "    <tr>\n",
       "      <th>1</th>\n",
       "      <td>Полнота нижней губы</td>\n",
       "      <td>5.515540</td>\n",
       "    </tr>\n",
       "    <tr>\n",
       "      <th>2</th>\n",
       "      <td>Наклон бровей</td>\n",
       "      <td>5.341562</td>\n",
       "    </tr>\n",
       "    <tr>\n",
       "      <th>3</th>\n",
       "      <td>Наклон глаз</td>\n",
       "      <td>5.336085</td>\n",
       "    </tr>\n",
       "    <tr>\n",
       "      <th>4</th>\n",
       "      <td>Высота бровей</td>\n",
       "      <td>5.030557</td>\n",
       "    </tr>\n",
       "    <tr>\n",
       "      <th>5</th>\n",
       "      <td>Оттопыренность ушей</td>\n",
       "      <td>5.011511</td>\n",
       "    </tr>\n",
       "    <tr>\n",
       "      <th>6</th>\n",
       "      <td>Асимметрия размера глаз</td>\n",
       "      <td>4.962885</td>\n",
       "    </tr>\n",
       "    <tr>\n",
       "      <th>7</th>\n",
       "      <td>Асимметрия носа</td>\n",
       "      <td>4.834749</td>\n",
       "    </tr>\n",
       "    <tr>\n",
       "      <th>8</th>\n",
       "      <td>Верхнее веко</td>\n",
       "      <td>4.794668</td>\n",
       "    </tr>\n",
       "    <tr>\n",
       "      <th>9</th>\n",
       "      <td>Уголки рта</td>\n",
       "      <td>4.693113</td>\n",
       "    </tr>\n",
       "    <tr>\n",
       "      <th>10</th>\n",
       "      <td>Ширина посадки глаз</td>\n",
       "      <td>4.602674</td>\n",
       "    </tr>\n",
       "    <tr>\n",
       "      <th>11</th>\n",
       "      <td>Размер рта</td>\n",
       "      <td>4.524372</td>\n",
       "    </tr>\n",
       "    <tr>\n",
       "      <th>12</th>\n",
       "      <td>Форма головы</td>\n",
       "      <td>4.469644</td>\n",
       "    </tr>\n",
       "    <tr>\n",
       "      <th>13</th>\n",
       "      <td>Ширина челюсти</td>\n",
       "      <td>4.447447</td>\n",
       "    </tr>\n",
       "    <tr>\n",
       "      <th>14</th>\n",
       "      <td>Асимметрия брови</td>\n",
       "      <td>4.432052</td>\n",
       "    </tr>\n",
       "    <tr>\n",
       "      <th>15</th>\n",
       "      <td>Полнота верхней губы</td>\n",
       "      <td>4.387720</td>\n",
       "    </tr>\n",
       "    <tr>\n",
       "      <th>16</th>\n",
       "      <td>Размер глаз</td>\n",
       "      <td>4.259070</td>\n",
       "    </tr>\n",
       "    <tr>\n",
       "      <th>17</th>\n",
       "      <td>Скулы</td>\n",
       "      <td>4.015925</td>\n",
       "    </tr>\n",
       "    <tr>\n",
       "      <th>18</th>\n",
       "      <td>Асимметрия челюсти</td>\n",
       "      <td>3.955320</td>\n",
       "    </tr>\n",
       "    <tr>\n",
       "      <th>19</th>\n",
       "      <td>Асимметрия наклона глаз</td>\n",
       "      <td>3.187680</td>\n",
       "    </tr>\n",
       "    <tr>\n",
       "      <th>20</th>\n",
       "      <td>gender</td>\n",
       "      <td>2.011487</td>\n",
       "    </tr>\n",
       "  </tbody>\n",
       "</table>\n",
       "</div>"
      ],
      "text/plain": [
       "                 Feature Id  Importances\n",
       "0                       age    10.185940\n",
       "1       Полнота нижней губы     5.515540\n",
       "2             Наклон бровей     5.341562\n",
       "3               Наклон глаз     5.336085\n",
       "4             Высота бровей     5.030557\n",
       "5       Оттопыренность ушей     5.011511\n",
       "6   Асимметрия размера глаз     4.962885\n",
       "7           Асимметрия носа     4.834749\n",
       "8              Верхнее веко     4.794668\n",
       "9                Уголки рта     4.693113\n",
       "10      Ширина посадки глаз     4.602674\n",
       "11               Размер рта     4.524372\n",
       "12             Форма головы     4.469644\n",
       "13           Ширина челюсти     4.447447\n",
       "14         Асимметрия брови     4.432052\n",
       "15     Полнота верхней губы     4.387720\n",
       "16              Размер глаз     4.259070\n",
       "17                    Скулы     4.015925\n",
       "18       Асимметрия челюсти     3.955320\n",
       "19  Асимметрия наклона глаз     3.187680\n",
       "20                   gender     2.011487"
      ]
     },
     "execution_count": 50,
     "metadata": {},
     "output_type": "execute_result"
    }
   ],
   "source": [
    "staged_probas_df, model_KU = train_model(df=df, cols=features+ga,\n",
    "                                          folds=4, iterations=500, \\\n",
    "                                          depth=4, learning_rate=0.1)\n",
    "\n",
    "table = model_KU.get_feature_importance(prettified=True)\n",
    "table.to_excel('tables/FEATURE_IMPORTANCE_features+ga.xls')\n",
    "table"
   ]
  },
  {
   "cell_type": "code",
   "execution_count": 51,
   "id": "bored-moment",
   "metadata": {},
   "outputs": [
    {
     "name": "stdout",
     "output_type": "stream",
     "text": [
      "[0.003402229598993212, 0.09684350970842834, 0.1488862300578302, 0.20270834904194734, 0.2663166892876127, 0.7667557382754817]\n"
     ]
    },
    {
     "name": "stderr",
     "output_type": "stream",
     "text": [
      "/tmp/ipykernel_11249/4250072074.py:2: FutureWarning: As the xlwt package is no longer maintained, the xlwt engine will be removed in a future version of pandas. This is the only engine in pandas that supports writing in the xls format. Install openpyxl and write to an xlsx file instead. You can set the option io.excel.xls.writer to 'xlwt' to silence this warning. While this option is deprecated and will also raise a warning, it can be globally set and the warning suppressed.\n",
      "  table.to_excel('tables/features+ga.xls')\n"
     ]
    },
    {
     "data": {
      "text/html": [
       "<div>\n",
       "<style scoped>\n",
       "    .dataframe tbody tr th:only-of-type {\n",
       "        vertical-align: middle;\n",
       "    }\n",
       "\n",
       "    .dataframe tbody tr th {\n",
       "        vertical-align: top;\n",
       "    }\n",
       "\n",
       "    .dataframe thead th {\n",
       "        text-align: right;\n",
       "    }\n",
       "</style>\n",
       "<table border=\"1\" class=\"dataframe\">\n",
       "  <thead>\n",
       "    <tr style=\"text-align: right;\">\n",
       "      <th></th>\n",
       "      <th>y proba</th>\n",
       "      <th>Количество людей</th>\n",
       "      <th>Процент людей, %</th>\n",
       "      <th>Процент мошенников в группе, %</th>\n",
       "      <th>Прибыль, млн.р</th>\n",
       "    </tr>\n",
       "  </thead>\n",
       "  <tbody>\n",
       "    <tr>\n",
       "      <th>0</th>\n",
       "      <td>0.003402</td>\n",
       "      <td>7016</td>\n",
       "      <td>19.99544</td>\n",
       "      <td>3.435006</td>\n",
       "      <td>19.06522</td>\n",
       "    </tr>\n",
       "    <tr>\n",
       "      <th>1</th>\n",
       "      <td>0.096844</td>\n",
       "      <td>7019</td>\n",
       "      <td>20.00399</td>\n",
       "      <td>5.214418</td>\n",
       "      <td>17.97300</td>\n",
       "    </tr>\n",
       "    <tr>\n",
       "      <th>2</th>\n",
       "      <td>0.148886</td>\n",
       "      <td>7018</td>\n",
       "      <td>20.00114</td>\n",
       "      <td>7.566258</td>\n",
       "      <td>17.28477</td>\n",
       "    </tr>\n",
       "    <tr>\n",
       "      <th>3</th>\n",
       "      <td>0.202708</td>\n",
       "      <td>7017</td>\n",
       "      <td>19.99829</td>\n",
       "      <td>10.260795</td>\n",
       "      <td>14.41767</td>\n",
       "    </tr>\n",
       "    <tr>\n",
       "      <th>4</th>\n",
       "      <td>0.266317</td>\n",
       "      <td>7017</td>\n",
       "      <td>19.99829</td>\n",
       "      <td>14.065840</td>\n",
       "      <td>11.52898</td>\n",
       "    </tr>\n",
       "    <tr>\n",
       "      <th>5</th>\n",
       "      <td>0.766756</td>\n",
       "      <td>0</td>\n",
       "      <td>0.00000</td>\n",
       "      <td>NaN</td>\n",
       "      <td>0.00000</td>\n",
       "    </tr>\n",
       "  </tbody>\n",
       "</table>\n",
       "</div>"
      ],
      "text/plain": [
       "    y proba  Количество людей  Процент людей, %  \\\n",
       "0  0.003402              7016          19.99544   \n",
       "1  0.096844              7019          20.00399   \n",
       "2  0.148886              7018          20.00114   \n",
       "3  0.202708              7017          19.99829   \n",
       "4  0.266317              7017          19.99829   \n",
       "5  0.766756                 0           0.00000   \n",
       "\n",
       "   Процент мошенников в группе, %  Прибыль, млн.р  \n",
       "0                        3.435006        19.06522  \n",
       "1                        5.214418        17.97300  \n",
       "2                        7.566258        17.28477  \n",
       "3                       10.260795        14.41767  \n",
       "4                       14.065840        11.52898  \n",
       "5                             NaN         0.00000  "
      ]
     },
     "execution_count": 51,
     "metadata": {},
     "output_type": "execute_result"
    }
   ],
   "source": [
    "table = get_result_table(staged_probas_df[449])\n",
    "table.to_excel('tables/features+ga.xls')\n",
    "table"
   ]
  },
  {
   "cell_type": "code",
   "execution_count": 52,
   "id": "angry-lambda",
   "metadata": {},
   "outputs": [
    {
     "name": "stderr",
     "output_type": "stream",
     "text": [
      "/home/nikolay/anaconda3/envs/peller/lib/python3.8/site-packages/sklearn/utils/deprecation.py:87: FutureWarning: Function plot_roc_curve is deprecated; This will be removed in v0.5.0. Please use scikitplot.metrics.plot_roc instead.\n",
      "  warnings.warn(msg, category=FutureWarning)\n"
     ]
    },
    {
     "data": {
      "image/png": "[encoded data removed]",
      "text/plain": [
       "<Figure size 432x288 with 1 Axes>"
      ]
     },
     "metadata": {
      "needs_background": "light"
     },
     "output_type": "display_data"
    }
   ],
   "source": [
    "# Micro is shows more positive result\n",
    "y_proba = staged_probas_df[499]\n",
    "proba = np.array([1-y_proba, y_proba])\n",
    "skplt.metrics.plot_roc_curve(df['target'].astype(int).values, proba.T, curves=['macro'])\n",
    "plt.show()"
   ]
  },
  {
   "cell_type": "markdown",
   "id": "continuous-score",
   "metadata": {},
   "source": [
    "# Only GA"
   ]
  },
  {
   "cell_type": "code",
   "execution_count": 53,
   "id": "surprising-opposition",
   "metadata": {
    "scrolled": true
   },
   "outputs": [
    {
     "name": "stdout",
     "output_type": "stream",
     "text": [
      "26316 8772\n"
     ]
    },
    {
     "data": {
      "application/vnd.jupyter.widget-view+json": {
       "model_id": "3e01e5e4a3404334a7a691c678bf7ee0",
       "version_major": 2,
       "version_minor": 0
      },
      "text/plain": [
       "MetricVisualizer(layout=Layout(align_self='stretch', height='500px'))"
      ]
     },
     "metadata": {},
     "output_type": "display_data"
    },
    {
     "name": "stdout",
     "output_type": "stream",
     "text": [
      "26316 8772\n"
     ]
    },
    {
     "data": {
      "application/vnd.jupyter.widget-view+json": {
       "model_id": "8ef7627bdfc8449b947dc8e2939782c7",
       "version_major": 2,
       "version_minor": 0
      },
      "text/plain": [
       "MetricVisualizer(layout=Layout(align_self='stretch', height='500px'))"
      ]
     },
     "metadata": {},
     "output_type": "display_data"
    },
    {
     "name": "stdout",
     "output_type": "stream",
     "text": [
      "26316 8772\n"
     ]
    },
    {
     "data": {
      "application/vnd.jupyter.widget-view+json": {
       "model_id": "4d2f5b38012646f9a85b3585caacdf39",
       "version_major": 2,
       "version_minor": 0
      },
      "text/plain": [
       "MetricVisualizer(layout=Layout(align_self='stretch', height='500px'))"
      ]
     },
     "metadata": {},
     "output_type": "display_data"
    },
    {
     "name": "stdout",
     "output_type": "stream",
     "text": [
      "26316 8772\n"
     ]
    },
    {
     "data": {
      "application/vnd.jupyter.widget-view+json": {
       "model_id": "93cbb92cf7f6482a84453fd385e2dc4c",
       "version_major": 2,
       "version_minor": 0
      },
      "text/plain": [
       "MetricVisualizer(layout=Layout(align_self='stretch', height='500px'))"
      ]
     },
     "metadata": {},
     "output_type": "display_data"
    },
    {
     "name": "stderr",
     "output_type": "stream",
     "text": [
      "/tmp/ipykernel_11249/1849790312.py:6: FutureWarning: As the xlwt package is no longer maintained, the xlwt engine will be removed in a future version of pandas. This is the only engine in pandas that supports writing in the xls format. Install openpyxl and write to an xlsx file instead. You can set the option io.excel.xls.writer to 'xlwt' to silence this warning. While this option is deprecated and will also raise a warning, it can be globally set and the warning suppressed.\n",
      "  table.to_excel('tables/FEATURE_IMPORTANCE_ga.xls')\n"
     ]
    },
    {
     "data": {
      "text/html": [
       "<div>\n",
       "<style scoped>\n",
       "    .dataframe tbody tr th:only-of-type {\n",
       "        vertical-align: middle;\n",
       "    }\n",
       "\n",
       "    .dataframe tbody tr th {\n",
       "        vertical-align: top;\n",
       "    }\n",
       "\n",
       "    .dataframe thead th {\n",
       "        text-align: right;\n",
       "    }\n",
       "</style>\n",
       "<table border=\"1\" class=\"dataframe\">\n",
       "  <thead>\n",
       "    <tr style=\"text-align: right;\">\n",
       "      <th></th>\n",
       "      <th>Feature Id</th>\n",
       "      <th>Importances</th>\n",
       "    </tr>\n",
       "  </thead>\n",
       "  <tbody>\n",
       "    <tr>\n",
       "      <th>0</th>\n",
       "      <td>age</td>\n",
       "      <td>79.893115</td>\n",
       "    </tr>\n",
       "    <tr>\n",
       "      <th>1</th>\n",
       "      <td>gender</td>\n",
       "      <td>20.106885</td>\n",
       "    </tr>\n",
       "  </tbody>\n",
       "</table>\n",
       "</div>"
      ],
      "text/plain": [
       "  Feature Id  Importances\n",
       "0        age    79.893115\n",
       "1     gender    20.106885"
      ]
     },
     "execution_count": 53,
     "metadata": {},
     "output_type": "execute_result"
    }
   ],
   "source": [
    "staged_probas_df, model_KU = train_model(df=df, cols=ga,\n",
    "                                          folds=4, iterations=500, \\\n",
    "                                          depth=4, learning_rate=0.01)\n",
    "\n",
    "table = model_KU.get_feature_importance(prettified=True)\n",
    "table.to_excel('tables/FEATURE_IMPORTANCE_ga.xls')\n",
    "table"
   ]
  },
  {
   "cell_type": "code",
   "execution_count": 54,
   "id": "living-spiritual",
   "metadata": {},
   "outputs": [
    {
     "name": "stdout",
     "output_type": "stream",
     "text": [
      "[0.04645364278788313, 0.12493264867088112, 0.19808477269625355, 0.23332628973624625, 0.27468885429495327, 0.4447769012824268]\n"
     ]
    },
    {
     "name": "stderr",
     "output_type": "stream",
     "text": [
      "/tmp/ipykernel_11249/3053402939.py:2: FutureWarning: As the xlwt package is no longer maintained, the xlwt engine will be removed in a future version of pandas. This is the only engine in pandas that supports writing in the xls format. Install openpyxl and write to an xlsx file instead. You can set the option io.excel.xls.writer to 'xlwt' to silence this warning. While this option is deprecated and will also raise a warning, it can be globally set and the warning suppressed.\n",
      "  table.to_excel('tables/ga.xls')\n"
     ]
    },
    {
     "data": {
      "text/html": [
       "<div>\n",
       "<style scoped>\n",
       "    .dataframe tbody tr th:only-of-type {\n",
       "        vertical-align: middle;\n",
       "    }\n",
       "\n",
       "    .dataframe tbody tr th {\n",
       "        vertical-align: top;\n",
       "    }\n",
       "\n",
       "    .dataframe thead th {\n",
       "        text-align: right;\n",
       "    }\n",
       "</style>\n",
       "<table border=\"1\" class=\"dataframe\">\n",
       "  <thead>\n",
       "    <tr style=\"text-align: right;\">\n",
       "      <th></th>\n",
       "      <th>y proba</th>\n",
       "      <th>Количество людей</th>\n",
       "      <th>Процент людей, %</th>\n",
       "      <th>Процент мошенников в группе, %</th>\n",
       "      <th>Прибыль, млн.р</th>\n",
       "    </tr>\n",
       "  </thead>\n",
       "  <tbody>\n",
       "    <tr>\n",
       "      <th>0</th>\n",
       "      <td>0.046454</td>\n",
       "      <td>7006</td>\n",
       "      <td>19.966940</td>\n",
       "      <td>3.140166</td>\n",
       "      <td>19.65816</td>\n",
       "    </tr>\n",
       "    <tr>\n",
       "      <th>1</th>\n",
       "      <td>0.124933</td>\n",
       "      <td>6995</td>\n",
       "      <td>19.935591</td>\n",
       "      <td>6.175840</td>\n",
       "      <td>17.79637</td>\n",
       "    </tr>\n",
       "    <tr>\n",
       "      <th>2</th>\n",
       "      <td>0.198085</td>\n",
       "      <td>7005</td>\n",
       "      <td>19.964090</td>\n",
       "      <td>8.379729</td>\n",
       "      <td>17.55816</td>\n",
       "    </tr>\n",
       "    <tr>\n",
       "      <th>3</th>\n",
       "      <td>0.233326</td>\n",
       "      <td>6961</td>\n",
       "      <td>19.838691</td>\n",
       "      <td>10.530096</td>\n",
       "      <td>13.14050</td>\n",
       "    </tr>\n",
       "    <tr>\n",
       "      <th>4</th>\n",
       "      <td>0.274689</td>\n",
       "      <td>7100</td>\n",
       "      <td>20.234838</td>\n",
       "      <td>12.239437</td>\n",
       "      <td>12.09355</td>\n",
       "    </tr>\n",
       "    <tr>\n",
       "      <th>5</th>\n",
       "      <td>0.444777</td>\n",
       "      <td>0</td>\n",
       "      <td>0.000000</td>\n",
       "      <td>NaN</td>\n",
       "      <td>0.00000</td>\n",
       "    </tr>\n",
       "  </tbody>\n",
       "</table>\n",
       "</div>"
      ],
      "text/plain": [
       "    y proba  Количество людей  Процент людей, %  \\\n",
       "0  0.046454              7006         19.966940   \n",
       "1  0.124933              6995         19.935591   \n",
       "2  0.198085              7005         19.964090   \n",
       "3  0.233326              6961         19.838691   \n",
       "4  0.274689              7100         20.234838   \n",
       "5  0.444777                 0          0.000000   \n",
       "\n",
       "   Процент мошенников в группе, %  Прибыль, млн.р  \n",
       "0                        3.140166        19.65816  \n",
       "1                        6.175840        17.79637  \n",
       "2                        8.379729        17.55816  \n",
       "3                       10.530096        13.14050  \n",
       "4                       12.239437        12.09355  \n",
       "5                             NaN         0.00000  "
      ]
     },
     "execution_count": 54,
     "metadata": {},
     "output_type": "execute_result"
    }
   ],
   "source": [
    "table = get_result_table(staged_probas_df[449])\n",
    "table.to_excel('tables/ga.xls')\n",
    "table"
   ]
  },
  {
   "cell_type": "code",
   "execution_count": 55,
   "id": "operating-learning",
   "metadata": {},
   "outputs": [
    {
     "name": "stderr",
     "output_type": "stream",
     "text": [
      "/home/nikolay/anaconda3/envs/peller/lib/python3.8/site-packages/sklearn/utils/deprecation.py:87: FutureWarning: Function plot_roc_curve is deprecated; This will be removed in v0.5.0. Please use scikitplot.metrics.plot_roc instead.\n",
      "  warnings.warn(msg, category=FutureWarning)\n"
     ]
    },
    {
     "data": {
      "image/png": "[encoded data removed]",
      "text/plain": [
       "<Figure size 432x288 with 1 Axes>"
      ]
     },
     "metadata": {
      "needs_background": "light"
     },
     "output_type": "display_data"
    }
   ],
   "source": [
    "# Micro is shows more positive result\n",
    "y_proba = staged_probas_df[499]\n",
    "proba = np.array([1-y_proba, y_proba])\n",
    "skplt.metrics.plot_roc_curve(df['target'].astype(int).values, proba.T, curves=['macro'])\n",
    "plt.show()"
   ]
  },
  {
   "cell_type": "markdown",
   "id": "medieval-twenty",
   "metadata": {},
   "source": [
    "# Only anketas"
   ]
  },
  {
   "cell_type": "code",
   "execution_count": 56,
   "id": "pressing-multiple",
   "metadata": {
    "scrolled": true
   },
   "outputs": [
    {
     "name": "stdout",
     "output_type": "stream",
     "text": [
      "26316 8772\n"
     ]
    },
    {
     "data": {
      "application/vnd.jupyter.widget-view+json": {
       "model_id": "93fce69dc295410a978aff2bae4ac534",
       "version_major": 2,
       "version_minor": 0
      },
      "text/plain": [
       "MetricVisualizer(layout=Layout(align_self='stretch', height='500px'))"
      ]
     },
     "metadata": {},
     "output_type": "display_data"
    },
    {
     "name": "stdout",
     "output_type": "stream",
     "text": [
      "26316 8772\n"
     ]
    },
    {
     "data": {
      "application/vnd.jupyter.widget-view+json": {
       "model_id": "f14d9ccb6c614f718c5a9a13e01a219f",
       "version_major": 2,
       "version_minor": 0
      },
      "text/plain": [
       "MetricVisualizer(layout=Layout(align_self='stretch', height='500px'))"
      ]
     },
     "metadata": {},
     "output_type": "display_data"
    },
    {
     "name": "stdout",
     "output_type": "stream",
     "text": [
      "26316 8772\n"
     ]
    },
    {
     "data": {
      "application/vnd.jupyter.widget-view+json": {
       "model_id": "9db934a2188e450ba7683843c3b753fa",
       "version_major": 2,
       "version_minor": 0
      },
      "text/plain": [
       "MetricVisualizer(layout=Layout(align_self='stretch', height='500px'))"
      ]
     },
     "metadata": {},
     "output_type": "display_data"
    },
    {
     "name": "stdout",
     "output_type": "stream",
     "text": [
      "26316 8772\n"
     ]
    },
    {
     "data": {
      "application/vnd.jupyter.widget-view+json": {
       "model_id": "e07d23b285974df188c143fc22d71cc8",
       "version_major": 2,
       "version_minor": 0
      },
      "text/plain": [
       "MetricVisualizer(layout=Layout(align_self='stretch', height='500px'))"
      ]
     },
     "metadata": {},
     "output_type": "display_data"
    },
    {
     "name": "stderr",
     "output_type": "stream",
     "text": [
      "/tmp/ipykernel_11249/2701872087.py:6: FutureWarning: As the xlwt package is no longer maintained, the xlwt engine will be removed in a future version of pandas. This is the only engine in pandas that supports writing in the xls format. Install openpyxl and write to an xlsx file instead. You can set the option io.excel.xls.writer to 'xlwt' to silence this warning. While this option is deprecated and will also raise a warning, it can be globally set and the warning suppressed.\n",
      "  table.to_excel('tables/FEATURE_IMPORTANCE_anketas.xls')\n"
     ]
    },
    {
     "data": {
      "text/html": [
       "<div>\n",
       "<style scoped>\n",
       "    .dataframe tbody tr th:only-of-type {\n",
       "        vertical-align: middle;\n",
       "    }\n",
       "\n",
       "    .dataframe tbody tr th {\n",
       "        vertical-align: top;\n",
       "    }\n",
       "\n",
       "    .dataframe thead th {\n",
       "        text-align: right;\n",
       "    }\n",
       "</style>\n",
       "<table border=\"1\" class=\"dataframe\">\n",
       "  <thead>\n",
       "    <tr style=\"text-align: right;\">\n",
       "      <th></th>\n",
       "      <th>Feature Id</th>\n",
       "      <th>Importances</th>\n",
       "    </tr>\n",
       "  </thead>\n",
       "  <tbody>\n",
       "    <tr>\n",
       "      <th>0</th>\n",
       "      <td>source</td>\n",
       "      <td>52.364939</td>\n",
       "    </tr>\n",
       "    <tr>\n",
       "      <th>1</th>\n",
       "      <td>job</td>\n",
       "      <td>24.204021</td>\n",
       "    </tr>\n",
       "    <tr>\n",
       "      <th>2</th>\n",
       "      <td>marital_status</td>\n",
       "      <td>13.691799</td>\n",
       "    </tr>\n",
       "    <tr>\n",
       "      <th>3</th>\n",
       "      <td>education</td>\n",
       "      <td>8.597336</td>\n",
       "    </tr>\n",
       "    <tr>\n",
       "      <th>4</th>\n",
       "      <td>childs</td>\n",
       "      <td>1.141905</td>\n",
       "    </tr>\n",
       "  </tbody>\n",
       "</table>\n",
       "</div>"
      ],
      "text/plain": [
       "       Feature Id  Importances\n",
       "0          source    52.364939\n",
       "1             job    24.204021\n",
       "2  marital_status    13.691799\n",
       "3       education     8.597336\n",
       "4          childs     1.141905"
      ]
     },
     "execution_count": 56,
     "metadata": {},
     "output_type": "execute_result"
    }
   ],
   "source": [
    "staged_probas_df, model_KU = train_model(df=df, cols=anketas,\n",
    "                                          folds = 4, iterations=500, \\\n",
    "                                          depth=4, learning_rate=0.01)\n",
    "\n",
    "table = model_KU.get_feature_importance(prettified=True)\n",
    "table.to_excel('tables/FEATURE_IMPORTANCE_anketas.xls')\n",
    "table"
   ]
  },
  {
   "cell_type": "code",
   "execution_count": 57,
   "id": "classical-chemistry",
   "metadata": {},
   "outputs": [
    {
     "name": "stdout",
     "output_type": "stream",
     "text": [
      "[0.05714183932548, 0.11460297597602896, 0.15072806013112441, 0.2047655608524197, 0.270245552945892, 0.6339587518759644]\n"
     ]
    },
    {
     "name": "stderr",
     "output_type": "stream",
     "text": [
      "/tmp/ipykernel_11249/300002434.py:2: FutureWarning: As the xlwt package is no longer maintained, the xlwt engine will be removed in a future version of pandas. This is the only engine in pandas that supports writing in the xls format. Install openpyxl and write to an xlsx file instead. You can set the option io.excel.xls.writer to 'xlwt' to silence this warning. While this option is deprecated and will also raise a warning, it can be globally set and the warning suppressed.\n",
      "  table.to_excel('tables/anketas.xls')\n"
     ]
    },
    {
     "data": {
      "text/html": [
       "<div>\n",
       "<style scoped>\n",
       "    .dataframe tbody tr th:only-of-type {\n",
       "        vertical-align: middle;\n",
       "    }\n",
       "\n",
       "    .dataframe tbody tr th {\n",
       "        vertical-align: top;\n",
       "    }\n",
       "\n",
       "    .dataframe thead th {\n",
       "        text-align: right;\n",
       "    }\n",
       "</style>\n",
       "<table border=\"1\" class=\"dataframe\">\n",
       "  <thead>\n",
       "    <tr style=\"text-align: right;\">\n",
       "      <th></th>\n",
       "      <th>y proba</th>\n",
       "      <th>Количество людей</th>\n",
       "      <th>Процент людей, %</th>\n",
       "      <th>Процент мошенников в группе, %</th>\n",
       "      <th>Прибыль, млн.р</th>\n",
       "    </tr>\n",
       "  </thead>\n",
       "  <tbody>\n",
       "    <tr>\n",
       "      <th>0</th>\n",
       "      <td>0.057142</td>\n",
       "      <td>6986</td>\n",
       "      <td>19.909941</td>\n",
       "      <td>2.619525</td>\n",
       "      <td>19.15856</td>\n",
       "    </tr>\n",
       "    <tr>\n",
       "      <th>1</th>\n",
       "      <td>0.114603</td>\n",
       "      <td>7016</td>\n",
       "      <td>19.995440</td>\n",
       "      <td>4.361460</td>\n",
       "      <td>18.28903</td>\n",
       "    </tr>\n",
       "    <tr>\n",
       "      <th>2</th>\n",
       "      <td>0.150728</td>\n",
       "      <td>7049</td>\n",
       "      <td>20.089489</td>\n",
       "      <td>6.227834</td>\n",
       "      <td>17.60711</td>\n",
       "    </tr>\n",
       "    <tr>\n",
       "      <th>3</th>\n",
       "      <td>0.204766</td>\n",
       "      <td>7019</td>\n",
       "      <td>20.003990</td>\n",
       "      <td>9.702237</td>\n",
       "      <td>14.56645</td>\n",
       "    </tr>\n",
       "    <tr>\n",
       "      <th>4</th>\n",
       "      <td>0.270246</td>\n",
       "      <td>7017</td>\n",
       "      <td>19.998290</td>\n",
       "      <td>17.614365</td>\n",
       "      <td>10.64789</td>\n",
       "    </tr>\n",
       "    <tr>\n",
       "      <th>5</th>\n",
       "      <td>0.633959</td>\n",
       "      <td>0</td>\n",
       "      <td>0.000000</td>\n",
       "      <td>NaN</td>\n",
       "      <td>0.00000</td>\n",
       "    </tr>\n",
       "  </tbody>\n",
       "</table>\n",
       "</div>"
      ],
      "text/plain": [
       "    y proba  Количество людей  Процент людей, %  \\\n",
       "0  0.057142              6986         19.909941   \n",
       "1  0.114603              7016         19.995440   \n",
       "2  0.150728              7049         20.089489   \n",
       "3  0.204766              7019         20.003990   \n",
       "4  0.270246              7017         19.998290   \n",
       "5  0.633959                 0          0.000000   \n",
       "\n",
       "   Процент мошенников в группе, %  Прибыль, млн.р  \n",
       "0                        2.619525        19.15856  \n",
       "1                        4.361460        18.28903  \n",
       "2                        6.227834        17.60711  \n",
       "3                        9.702237        14.56645  \n",
       "4                       17.614365        10.64789  \n",
       "5                             NaN         0.00000  "
      ]
     },
     "execution_count": 57,
     "metadata": {},
     "output_type": "execute_result"
    }
   ],
   "source": [
    "table = get_result_table(staged_probas_df[449])\n",
    "table.to_excel('tables/anketas.xls')\n",
    "table"
   ]
  },
  {
   "cell_type": "code",
   "execution_count": 58,
   "id": "compressed-vision",
   "metadata": {},
   "outputs": [
    {
     "name": "stderr",
     "output_type": "stream",
     "text": [
      "/home/nikolay/anaconda3/envs/peller/lib/python3.8/site-packages/sklearn/utils/deprecation.py:87: FutureWarning: Function plot_roc_curve is deprecated; This will be removed in v0.5.0. Please use scikitplot.metrics.plot_roc instead.\n",
      "  warnings.warn(msg, category=FutureWarning)\n"
     ]
    },
    {
     "data": {
      "image/png": "[encoded data removed]",
      "text/plain": [
       "<Figure size 432x288 with 1 Axes>"
      ]
     },
     "metadata": {
      "needs_background": "light"
     },
     "output_type": "display_data"
    }
   ],
   "source": [
    "# Micro is shows more positive result\n",
    "y_proba = staged_probas_df[499]\n",
    "proba = np.array([1-y_proba, y_proba])\n",
    "skplt.metrics.plot_roc_curve(df['target'].astype(int).values, proba.T, curves=['macro'])\n",
    "plt.show()"
   ]
  },
  {
   "cell_type": "markdown",
   "id": "internal-hurricane",
   "metadata": {},
   "source": [
    "# Features"
   ]
  },
  {
   "cell_type": "code",
   "execution_count": 59,
   "id": "productive-spray",
   "metadata": {
    "scrolled": true
   },
   "outputs": [
    {
     "name": "stdout",
     "output_type": "stream",
     "text": [
      "26316 8772\n"
     ]
    },
    {
     "data": {
      "application/vnd.jupyter.widget-view+json": {
       "model_id": "d711e1fdd0e248fe8d757193b624fe48",
       "version_major": 2,
       "version_minor": 0
      },
      "text/plain": [
       "MetricVisualizer(layout=Layout(align_self='stretch', height='500px'))"
      ]
     },
     "metadata": {},
     "output_type": "display_data"
    },
    {
     "name": "stdout",
     "output_type": "stream",
     "text": [
      "26316 8772\n"
     ]
    },
    {
     "data": {
      "application/vnd.jupyter.widget-view+json": {
       "model_id": "bcbeeb54013f447d912673ecd4b13306",
       "version_major": 2,
       "version_minor": 0
      },
      "text/plain": [
       "MetricVisualizer(layout=Layout(align_self='stretch', height='500px'))"
      ]
     },
     "metadata": {},
     "output_type": "display_data"
    },
    {
     "name": "stdout",
     "output_type": "stream",
     "text": [
      "26316 8772\n"
     ]
    },
    {
     "data": {
      "application/vnd.jupyter.widget-view+json": {
       "model_id": "47c49d308a1340eca557d2f48fcf0caf",
       "version_major": 2,
       "version_minor": 0
      },
      "text/plain": [
       "MetricVisualizer(layout=Layout(align_self='stretch', height='500px'))"
      ]
     },
     "metadata": {},
     "output_type": "display_data"
    },
    {
     "name": "stdout",
     "output_type": "stream",
     "text": [
      "26316 8772\n"
     ]
    },
    {
     "data": {
      "application/vnd.jupyter.widget-view+json": {
       "model_id": "1848b2b4dba44445ab770448b0e7e85c",
       "version_major": 2,
       "version_minor": 0
      },
      "text/plain": [
       "MetricVisualizer(layout=Layout(align_self='stretch', height='500px'))"
      ]
     },
     "metadata": {},
     "output_type": "display_data"
    },
    {
     "name": "stderr",
     "output_type": "stream",
     "text": [
      "/tmp/ipykernel_11249/1659163661.py:6: FutureWarning: As the xlwt package is no longer maintained, the xlwt engine will be removed in a future version of pandas. This is the only engine in pandas that supports writing in the xls format. Install openpyxl and write to an xlsx file instead. You can set the option io.excel.xls.writer to 'xlwt' to silence this warning. While this option is deprecated and will also raise a warning, it can be globally set and the warning suppressed.\n",
      "  table.to_excel('tables/FEATURE_IMPORTANCE_features.xls', encoding=\"utf-8\")\n"
     ]
    },
    {
     "data": {
      "text/html": [
       "<div>\n",
       "<style scoped>\n",
       "    .dataframe tbody tr th:only-of-type {\n",
       "        vertical-align: middle;\n",
       "    }\n",
       "\n",
       "    .dataframe tbody tr th {\n",
       "        vertical-align: top;\n",
       "    }\n",
       "\n",
       "    .dataframe thead th {\n",
       "        text-align: right;\n",
       "    }\n",
       "</style>\n",
       "<table border=\"1\" class=\"dataframe\">\n",
       "  <thead>\n",
       "    <tr style=\"text-align: right;\">\n",
       "      <th></th>\n",
       "      <th>Feature Id</th>\n",
       "      <th>Importances</th>\n",
       "    </tr>\n",
       "  </thead>\n",
       "  <tbody>\n",
       "    <tr>\n",
       "      <th>0</th>\n",
       "      <td>Полнота нижней губы</td>\n",
       "      <td>16.479664</td>\n",
       "    </tr>\n",
       "    <tr>\n",
       "      <th>1</th>\n",
       "      <td>Оттопыренность ушей</td>\n",
       "      <td>9.232384</td>\n",
       "    </tr>\n",
       "    <tr>\n",
       "      <th>2</th>\n",
       "      <td>Ширина челюсти</td>\n",
       "      <td>8.067019</td>\n",
       "    </tr>\n",
       "    <tr>\n",
       "      <th>3</th>\n",
       "      <td>Верхнее веко</td>\n",
       "      <td>7.495177</td>\n",
       "    </tr>\n",
       "    <tr>\n",
       "      <th>4</th>\n",
       "      <td>Скулы</td>\n",
       "      <td>4.860432</td>\n",
       "    </tr>\n",
       "    <tr>\n",
       "      <th>5</th>\n",
       "      <td>Размер рта</td>\n",
       "      <td>4.654621</td>\n",
       "    </tr>\n",
       "    <tr>\n",
       "      <th>6</th>\n",
       "      <td>Высота бровей</td>\n",
       "      <td>4.631543</td>\n",
       "    </tr>\n",
       "    <tr>\n",
       "      <th>7</th>\n",
       "      <td>Размер глаз</td>\n",
       "      <td>4.593112</td>\n",
       "    </tr>\n",
       "    <tr>\n",
       "      <th>8</th>\n",
       "      <td>Асимметрия размера глаз</td>\n",
       "      <td>4.548628</td>\n",
       "    </tr>\n",
       "    <tr>\n",
       "      <th>9</th>\n",
       "      <td>Полнота верхней губы</td>\n",
       "      <td>4.295673</td>\n",
       "    </tr>\n",
       "    <tr>\n",
       "      <th>10</th>\n",
       "      <td>Асимметрия носа</td>\n",
       "      <td>4.021250</td>\n",
       "    </tr>\n",
       "    <tr>\n",
       "      <th>11</th>\n",
       "      <td>Форма головы</td>\n",
       "      <td>3.943966</td>\n",
       "    </tr>\n",
       "    <tr>\n",
       "      <th>12</th>\n",
       "      <td>Асимметрия челюсти</td>\n",
       "      <td>3.785842</td>\n",
       "    </tr>\n",
       "    <tr>\n",
       "      <th>13</th>\n",
       "      <td>Асимметрия брови</td>\n",
       "      <td>3.719738</td>\n",
       "    </tr>\n",
       "    <tr>\n",
       "      <th>14</th>\n",
       "      <td>Уголки рта</td>\n",
       "      <td>3.605636</td>\n",
       "    </tr>\n",
       "    <tr>\n",
       "      <th>15</th>\n",
       "      <td>Наклон бровей</td>\n",
       "      <td>3.490127</td>\n",
       "    </tr>\n",
       "    <tr>\n",
       "      <th>16</th>\n",
       "      <td>Асимметрия наклона глаз</td>\n",
       "      <td>3.332573</td>\n",
       "    </tr>\n",
       "    <tr>\n",
       "      <th>17</th>\n",
       "      <td>Наклон глаз</td>\n",
       "      <td>2.996688</td>\n",
       "    </tr>\n",
       "    <tr>\n",
       "      <th>18</th>\n",
       "      <td>Ширина посадки глаз</td>\n",
       "      <td>2.245925</td>\n",
       "    </tr>\n",
       "  </tbody>\n",
       "</table>\n",
       "</div>"
      ],
      "text/plain": [
       "                 Feature Id  Importances\n",
       "0       Полнота нижней губы    16.479664\n",
       "1       Оттопыренность ушей     9.232384\n",
       "2            Ширина челюсти     8.067019\n",
       "3              Верхнее веко     7.495177\n",
       "4                     Скулы     4.860432\n",
       "5                Размер рта     4.654621\n",
       "6             Высота бровей     4.631543\n",
       "7               Размер глаз     4.593112\n",
       "8   Асимметрия размера глаз     4.548628\n",
       "9      Полнота верхней губы     4.295673\n",
       "10          Асимметрия носа     4.021250\n",
       "11             Форма головы     3.943966\n",
       "12       Асимметрия челюсти     3.785842\n",
       "13         Асимметрия брови     3.719738\n",
       "14               Уголки рта     3.605636\n",
       "15            Наклон бровей     3.490127\n",
       "16  Асимметрия наклона глаз     3.332573\n",
       "17              Наклон глаз     2.996688\n",
       "18      Ширина посадки глаз     2.245925"
      ]
     },
     "execution_count": 59,
     "metadata": {},
     "output_type": "execute_result"
    }
   ],
   "source": [
    "staged_probas_df, model_KU = train_model(df=df, cols=features,\n",
    "                                          folds = 4, iterations=500, \\\n",
    "                                          depth=4, learning_rate=0.01)\n",
    "\n",
    "table = model_KU.get_feature_importance(prettified=True)\n",
    "table.to_excel('tables/FEATURE_IMPORTANCE_features.xls', encoding=\"utf-8\")\n",
    "table"
   ]
  },
  {
   "cell_type": "code",
   "execution_count": 60,
   "id": "mature-swimming",
   "metadata": {},
   "outputs": [
    {
     "name": "stdout",
     "output_type": "stream",
     "text": [
      "[0.10360770743942616, 0.17487917347547421, 0.1964277773021463, 0.2167636734552377, 0.24109101206910774, 0.36038746485021594]\n"
     ]
    },
    {
     "name": "stderr",
     "output_type": "stream",
     "text": [
      "/tmp/ipykernel_11249/4270422273.py:2: FutureWarning: As the xlwt package is no longer maintained, the xlwt engine will be removed in a future version of pandas. This is the only engine in pandas that supports writing in the xls format. Install openpyxl and write to an xlsx file instead. You can set the option io.excel.xls.writer to 'xlwt' to silence this warning. While this option is deprecated and will also raise a warning, it can be globally set and the warning suppressed.\n",
      "  table.to_excel('tables/features.xls')\n"
     ]
    },
    {
     "data": {
      "text/html": [
       "<div>\n",
       "<style scoped>\n",
       "    .dataframe tbody tr th:only-of-type {\n",
       "        vertical-align: middle;\n",
       "    }\n",
       "\n",
       "    .dataframe tbody tr th {\n",
       "        vertical-align: top;\n",
       "    }\n",
       "\n",
       "    .dataframe thead th {\n",
       "        text-align: right;\n",
       "    }\n",
       "</style>\n",
       "<table border=\"1\" class=\"dataframe\">\n",
       "  <thead>\n",
       "    <tr style=\"text-align: right;\">\n",
       "      <th></th>\n",
       "      <th>y proba</th>\n",
       "      <th>Количество людей</th>\n",
       "      <th>Процент людей, %</th>\n",
       "      <th>Процент мошенников в группе, %</th>\n",
       "      <th>Прибыль, млн.р</th>\n",
       "    </tr>\n",
       "  </thead>\n",
       "  <tbody>\n",
       "    <tr>\n",
       "      <th>0</th>\n",
       "      <td>0.103608</td>\n",
       "      <td>7018</td>\n",
       "      <td>20.00114</td>\n",
       "      <td>4.972927</td>\n",
       "      <td>19.51497</td>\n",
       "    </tr>\n",
       "    <tr>\n",
       "      <th>1</th>\n",
       "      <td>0.174879</td>\n",
       "      <td>7017</td>\n",
       "      <td>19.99829</td>\n",
       "      <td>6.170728</td>\n",
       "      <td>17.36464</td>\n",
       "    </tr>\n",
       "    <tr>\n",
       "      <th>2</th>\n",
       "      <td>0.196428</td>\n",
       "      <td>7018</td>\n",
       "      <td>20.00114</td>\n",
       "      <td>8.007979</td>\n",
       "      <td>15.63530</td>\n",
       "    </tr>\n",
       "    <tr>\n",
       "      <th>3</th>\n",
       "      <td>0.216764</td>\n",
       "      <td>7014</td>\n",
       "      <td>19.98974</td>\n",
       "      <td>9.538067</td>\n",
       "      <td>15.16622</td>\n",
       "    </tr>\n",
       "    <tr>\n",
       "      <th>4</th>\n",
       "      <td>0.241091</td>\n",
       "      <td>7020</td>\n",
       "      <td>20.00684</td>\n",
       "      <td>11.851852</td>\n",
       "      <td>12.58765</td>\n",
       "    </tr>\n",
       "    <tr>\n",
       "      <th>5</th>\n",
       "      <td>0.360387</td>\n",
       "      <td>0</td>\n",
       "      <td>0.00000</td>\n",
       "      <td>NaN</td>\n",
       "      <td>0.00000</td>\n",
       "    </tr>\n",
       "  </tbody>\n",
       "</table>\n",
       "</div>"
      ],
      "text/plain": [
       "    y proba  Количество людей  Процент людей, %  \\\n",
       "0  0.103608              7018          20.00114   \n",
       "1  0.174879              7017          19.99829   \n",
       "2  0.196428              7018          20.00114   \n",
       "3  0.216764              7014          19.98974   \n",
       "4  0.241091              7020          20.00684   \n",
       "5  0.360387                 0           0.00000   \n",
       "\n",
       "   Процент мошенников в группе, %  Прибыль, млн.р  \n",
       "0                        4.972927        19.51497  \n",
       "1                        6.170728        17.36464  \n",
       "2                        8.007979        15.63530  \n",
       "3                        9.538067        15.16622  \n",
       "4                       11.851852        12.58765  \n",
       "5                             NaN         0.00000  "
      ]
     },
     "execution_count": 60,
     "metadata": {},
     "output_type": "execute_result"
    }
   ],
   "source": [
    "table = get_result_table(staged_probas_df[449])\n",
    "table.to_excel('tables/features.xls')\n",
    "table"
   ]
  },
  {
   "cell_type": "code",
   "execution_count": 61,
   "id": "burning-begin",
   "metadata": {},
   "outputs": [
    {
     "name": "stderr",
     "output_type": "stream",
     "text": [
      "/home/nikolay/anaconda3/envs/peller/lib/python3.8/site-packages/sklearn/utils/deprecation.py:87: FutureWarning: Function plot_roc_curve is deprecated; This will be removed in v0.5.0. Please use scikitplot.metrics.plot_roc instead.\n",
      "  warnings.warn(msg, category=FutureWarning)\n"
     ]
    },
    {
     "data": {
      "image/png": "[encoded data removed]",
      "text/plain": [
       "<Figure size 432x288 with 1 Axes>"
      ]
     },
     "metadata": {
      "needs_background": "light"
     },
     "output_type": "display_data"
    }
   ],
   "source": [
    "# Micro is shows more positive result\n",
    "y_proba = staged_probas_df[499]\n",
    "proba = np.array([1-y_proba, y_proba])\n",
    "skplt.metrics.plot_roc_curve(df['target'].astype(int).values, proba.T, curves=['macro'])\n",
    "plt.show()"
   ]
  },
  {
   "cell_type": "markdown",
   "id": "welcome-browser",
   "metadata": {},
   "source": [
    "# Try with LinearRegression"
   ]
  },
  {
   "cell_type": "code",
   "execution_count": 62,
   "id": "statistical-garbage",
   "metadata": {},
   "outputs": [],
   "source": [
    "df['gender'] = df['gender'].replace({'Мужской': 1, 'Женский': 0})"
   ]
  },
  {
   "cell_type": "code",
   "execution_count": 63,
   "id": "amateur-somerset",
   "metadata": {
    "scrolled": true
   },
   "outputs": [
    {
     "name": "stderr",
     "output_type": "stream",
     "text": [
      "/home/nikolay/anaconda3/envs/peller/lib/python3.8/site-packages/sklearn/linear_model/_logistic.py:814: ConvergenceWarning: lbfgs failed to converge (status=1):\n",
      "STOP: TOTAL NO. of ITERATIONS REACHED LIMIT.\n",
      "\n",
      "Increase the number of iterations (max_iter) or scale the data as shown in:\n",
      "    https://scikit-learn.org/stable/modules/preprocessing.html\n",
      "Please also refer to the documentation for alternative solver options:\n",
      "    https://scikit-learn.org/stable/modules/linear_model.html#logistic-regression\n",
      "  n_iter_i = _check_optimize_result(\n",
      "/tmp/ipykernel_11249/419027857.py:22: DeprecationWarning: scipy.interp is deprecated and will be removed in SciPy 2.0.0, use numpy.interp instead\n",
      "  tprs.append(interp(mean_fpr, fpr, tpr))\n",
      "/home/nikolay/anaconda3/envs/peller/lib/python3.8/site-packages/sklearn/linear_model/_logistic.py:814: ConvergenceWarning: lbfgs failed to converge (status=1):\n",
      "STOP: TOTAL NO. of ITERATIONS REACHED LIMIT.\n",
      "\n",
      "Increase the number of iterations (max_iter) or scale the data as shown in:\n",
      "    https://scikit-learn.org/stable/modules/preprocessing.html\n",
      "Please also refer to the documentation for alternative solver options:\n",
      "    https://scikit-learn.org/stable/modules/linear_model.html#logistic-regression\n",
      "  n_iter_i = _check_optimize_result(\n",
      "/tmp/ipykernel_11249/419027857.py:22: DeprecationWarning: scipy.interp is deprecated and will be removed in SciPy 2.0.0, use numpy.interp instead\n",
      "  tprs.append(interp(mean_fpr, fpr, tpr))\n",
      "/home/nikolay/anaconda3/envs/peller/lib/python3.8/site-packages/sklearn/linear_model/_logistic.py:814: ConvergenceWarning: lbfgs failed to converge (status=1):\n",
      "STOP: TOTAL NO. of ITERATIONS REACHED LIMIT.\n",
      "\n",
      "Increase the number of iterations (max_iter) or scale the data as shown in:\n",
      "    https://scikit-learn.org/stable/modules/preprocessing.html\n",
      "Please also refer to the documentation for alternative solver options:\n",
      "    https://scikit-learn.org/stable/modules/linear_model.html#logistic-regression\n",
      "  n_iter_i = _check_optimize_result(\n",
      "/tmp/ipykernel_11249/419027857.py:22: DeprecationWarning: scipy.interp is deprecated and will be removed in SciPy 2.0.0, use numpy.interp instead\n",
      "  tprs.append(interp(mean_fpr, fpr, tpr))\n",
      "/home/nikolay/anaconda3/envs/peller/lib/python3.8/site-packages/sklearn/linear_model/_logistic.py:814: ConvergenceWarning: lbfgs failed to converge (status=1):\n",
      "STOP: TOTAL NO. of ITERATIONS REACHED LIMIT.\n",
      "\n",
      "Increase the number of iterations (max_iter) or scale the data as shown in:\n",
      "    https://scikit-learn.org/stable/modules/preprocessing.html\n",
      "Please also refer to the documentation for alternative solver options:\n",
      "    https://scikit-learn.org/stable/modules/linear_model.html#logistic-regression\n",
      "  n_iter_i = _check_optimize_result(\n",
      "/tmp/ipykernel_11249/419027857.py:22: DeprecationWarning: scipy.interp is deprecated and will be removed in SciPy 2.0.0, use numpy.interp instead\n",
      "  tprs.append(interp(mean_fpr, fpr, tpr))\n",
      "/home/nikolay/anaconda3/envs/peller/lib/python3.8/site-packages/sklearn/linear_model/_logistic.py:814: ConvergenceWarning: lbfgs failed to converge (status=1):\n",
      "STOP: TOTAL NO. of ITERATIONS REACHED LIMIT.\n",
      "\n",
      "Increase the number of iterations (max_iter) or scale the data as shown in:\n",
      "    https://scikit-learn.org/stable/modules/preprocessing.html\n",
      "Please also refer to the documentation for alternative solver options:\n",
      "    https://scikit-learn.org/stable/modules/linear_model.html#logistic-regression\n",
      "  n_iter_i = _check_optimize_result(\n",
      "/tmp/ipykernel_11249/419027857.py:22: DeprecationWarning: scipy.interp is deprecated and will be removed in SciPy 2.0.0, use numpy.interp instead\n",
      "  tprs.append(interp(mean_fpr, fpr, tpr))\n"
     ]
    },
    {
     "data": {
      "image/png": "[encoded data removed]",
      "text/plain": [
       "<Figure size 432x288 with 1 Axes>"
      ]
     },
     "metadata": {
      "needs_background": "light"
     },
     "output_type": "display_data"
    }
   ],
   "source": [
    "from sklearn.metrics import roc_curve, auc\n",
    "from sklearn.model_selection import StratifiedKFold\n",
    "from sklearn import svm\n",
    "from scipy import interp\n",
    "\n",
    "n_samples, n_features = df.shape\n",
    "\n",
    "cv = StratifiedKFold(n_splits=5)\n",
    "classifier = LogisticRegression(class_weight ='balanced', C=2.0, penalty='l2', solver='lbfgs')\n",
    "\n",
    "tprs = []\n",
    "aucs = []\n",
    "mean_fpr = np.linspace(0, 1, 100)\n",
    "columns = features+ga#+anketas\n",
    "\n",
    "i = 0\n",
    "X, y = df[columns].values, df['target'].values\n",
    "for train, test in cv.split(X, y):\n",
    "    probas_ = classifier.fit(X[train], y[train]).predict_proba(X[test])\n",
    "    # Compute ROC curve and area the curve\n",
    "    fpr, tpr, thresholds = roc_curve(y[test], probas_[:, 1])\n",
    "    tprs.append(interp(mean_fpr, fpr, tpr))\n",
    "    tprs[-1][0] = 0.0\n",
    "    roc_auc = auc(fpr, tpr)\n",
    "    aucs.append(roc_auc)\n",
    "    plt.plot(fpr, tpr, lw=1, alpha=0.3,\n",
    "             label='ROC fold %d (AUC = %0.2f)' % (i, roc_auc))\n",
    "\n",
    "    i += 1\n",
    "\n",
    "plt.plot([0, 1], [0, 1], linestyle='--', lw=2, color='r',\n",
    "         label='Chance', alpha=.8)\n",
    "\n",
    "mean_tpr = np.mean(tprs, axis=0)\n",
    "mean_tpr[-1] = 1.0\n",
    "mean_auc = auc(mean_fpr, mean_tpr)\n",
    "std_auc = np.std(aucs)\n",
    "plt.plot(mean_fpr, mean_tpr, color='b',\n",
    "         label=r'Mean ROC (AUC = %0.2f $\\pm$ %0.2f)' % (mean_auc, std_auc),\n",
    "         lw=2, alpha=.8)\n",
    "\n",
    "std_tpr = np.std(tprs, axis=0)\n",
    "tprs_upper = np.minimum(mean_tpr + std_tpr, 1)\n",
    "tprs_lower = np.maximum(mean_tpr - std_tpr, 0)\n",
    "plt.fill_between(mean_fpr, tprs_lower, tprs_upper, color='grey', alpha=.2,\n",
    "                 label=r'$\\pm$ 1 std. dev.')\n",
    "\n",
    "plt.xlim([-0.05, 1.05])\n",
    "plt.ylim([-0.05, 1.05])\n",
    "plt.xlabel('False Positive Rate')\n",
    "plt.ylabel('True Positive Rate')\n",
    "plt.title('Receiver operating characteristic example')\n",
    "plt.legend(loc=\"lower right\")\n",
    "plt.show()\n"
   ]
  },
  {
   "cell_type": "code",
   "execution_count": 64,
   "id": "stable-scanner",
   "metadata": {},
   "outputs": [
    {
     "data": {
      "text/plain": [
       "['Асимметрия челюсти',\n",
       " 'Высота бровей',\n",
       " 'Наклон глаз',\n",
       " 'Полнота верхней губы',\n",
       " 'Полнота нижней губы',\n",
       " 'Асимметрия размера глаз',\n",
       " 'Ширина посадки глаз',\n",
       " 'Скулы',\n",
       " 'Форма головы',\n",
       " 'Верхнее веко',\n",
       " 'Асимметрия брови',\n",
       " 'Наклон бровей',\n",
       " 'Размер рта',\n",
       " 'Асимметрия наклона глаз',\n",
       " 'Асимметрия носа',\n",
       " 'Размер глаз',\n",
       " 'Оттопыренность ушей',\n",
       " 'Ширина челюсти',\n",
       " 'Уголки рта',\n",
       " 'age',\n",
       " 'gender']"
      ]
     },
     "execution_count": 64,
     "metadata": {},
     "output_type": "execute_result"
    }
   ],
   "source": [
    "columns"
   ]
  },
  {
   "cell_type": "code",
   "execution_count": null,
   "id": "instrumental-illinois",
   "metadata": {},
   "outputs": [],
   "source": []
  }
 ],
 "metadata": {
  "kernelspec": {
   "display_name": "Python 3 (ipykernel)",
   "language": "python",
   "name": "python3"
  },
  "language_info": {
   "codemirror_mode": {
    "name": "ipython",
    "version": 3
   },
   "file_extension": ".py",
   "mimetype": "text/x-python",
   "name": "python",
   "nbconvert_exporter": "python",
   "pygments_lexer": "ipython3",
   "version": "3.8.12"
  }
 },
 "nbformat": 4,
 "nbformat_minor": 5
}
