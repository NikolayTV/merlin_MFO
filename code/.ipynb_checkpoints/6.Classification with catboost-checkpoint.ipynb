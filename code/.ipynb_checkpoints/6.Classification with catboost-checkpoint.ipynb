{
 "cells": [
  {
   "cell_type": "code",
   "execution_count": null,
   "id": "toxic-patent",
   "metadata": {},
   "outputs": [],
   "source": [
    "%reload_ext autoreload\n",
    "%autoreload 2\n",
    "\n",
    "import pandas as pd\n",
    "import numpy as np\n",
    "import json\n",
    "import os\n",
    "import shutil \n",
    "from tqdm import tqdm_notebook as tqdm\n",
    "import matplotlib.pyplot as plt\n",
    "import cv2\n",
    "\n",
    "from catboost import CatBoostClassifier, Pool\n",
    "from sklearn.model_selection import train_test_split\n",
    "from sklearn.preprocessing import StandardScaler\n",
    "from sklearn.linear_model import LogisticRegression\n",
    "from sklearn.metrics import roc_auc_score\n",
    "from sklearn.preprocessing import LabelEncoder\n",
    "import scikitplot as skplt\n",
    "\n",
    "from itertools import combinations"
   ]
  },
  {
   "cell_type": "code",
   "execution_count": null,
   "id": "controlling-salon",
   "metadata": {},
   "outputs": [],
   "source": [
    "df = pd.read_csv('df_total.csv', index_col=0)\n",
    "df['gender'] = df['gender'].fillna('Мужской')\n",
    "cols = ['Асимметрия челюсти', 'Высота бровей', 'Наклон глаз',\n",
    "       'Полнота верхней губы', 'Полнота нижней губы',\n",
    "       'Асимметрия размера глаз', 'Ширина посадки глаз', 'Скулы',\n",
    "       'Форма головы', 'Верхнее веко', 'Асимметрия брови', 'Наклон бровей',\n",
    "       'Размер рта', 'Асимметрия наклона глаз', 'Асимметрия носа',\n",
    "       'Размер глаз', 'Оттопыренность ушей', 'Ширина челюсти', 'Уголки рта',\n",
    "       ]\n",
    "\n",
    "# for col in tqdm(cols):\n",
    "#     df[col] = (df[col] - df[col].quantile(0.01)) / (df[col].quantile(0.99) - df[col].quantile(0.001))\n",
    "    \n",
    "df['Категория'] = df['fraud'].replace({True: 'Мошенник', False: 'Не мошенник'})\n",
    "features = ['Асимметрия челюсти', 'Высота бровей', 'Наклон глаз',\n",
    "           'Полнота верхней губы', 'Полнота нижней губы',\n",
    "           'Асимметрия размера глаз', 'Ширина посадки глаз', 'Скулы',\n",
    "           'Форма головы', 'Верхнее веко', 'Асимметрия брови', 'Наклон бровей',\n",
    "           'Размер рта', 'Асимметрия наклона глаз', 'Асимметрия носа',\n",
    "           'Размер глаз', 'Оттопыренность ушей', 'Ширина челюсти', 'Уголки рта',\n",
    "           ]\n",
    "\n",
    "anketas = ['source', 'childs', 'education', 'marital_status', 'job']\n",
    "\n",
    "ga = ['age', 'gender']"
   ]
  },
  {
   "cell_type": "code",
   "execution_count": null,
   "id": "alert-terrorism",
   "metadata": {},
   "outputs": [],
   "source": [
    "df.shape"
   ]
  },
  {
   "cell_type": "code",
   "execution_count": null,
   "id": "clinical-diary",
   "metadata": {},
   "outputs": [],
   "source": [
    "pd.to_datetime(df['loan_date']).hist()"
   ]
  },
  {
   "cell_type": "code",
   "execution_count": null,
   "id": "front-sheffield",
   "metadata": {},
   "outputs": [],
   "source": [
    "df['Категория'] = df['Категория'].replace({'Не мошенник':0, 'Мошенник':1})\n",
    "df['Категория'].value_counts()"
   ]
  },
  {
   "cell_type": "code",
   "execution_count": null,
   "id": "injured-carbon",
   "metadata": {},
   "outputs": [],
   "source": [
    "from sklearn.model_selection import StratifiedKFold \n",
    "\n",
    "def train_model(df, cols, folds, iterations, depth, learning_rate ):\n",
    "#                 depth, colsample_bylevel, subsample, bagging_temperature, random_strength, l2_leaf_reg):\n",
    "    \n",
    "    X = df[cols]\n",
    "    cat_features = X.select_dtypes('object').columns.tolist()\n",
    "    y = df['Категория']\n",
    "\n",
    "    kf = StratifiedKFold(n_splits=folds, shuffle=True, random_state=6)\n",
    "    staged_probas_df =  pd.DataFrame(np.zeros((X.shape[0],iterations)), index=X.index)\n",
    "\n",
    "    for train_index, test_index in kf.split(X,y):\n",
    "#         train_index = np.append(train_index, test_index[:2500])\n",
    "        print(len(train_index), len(test_index))\n",
    "        X_train, X_test = X.iloc[train_index], X.iloc[test_index]\n",
    "        y_train, y_test = y.iloc[train_index], y.iloc[test_index]\n",
    "\n",
    "        model = CatBoostClassifier(iterations=iterations, \n",
    "                                   depth=depth,\n",
    "                                   eval_metric='AUC',\n",
    "                                   learning_rate=learning_rate,\n",
    "#                                    loss_function='Logloss',\n",
    "                                   scale_pos_weight=3,\n",
    "#                                    colsample_bylevel=0.5,\n",
    "#                                    subsample=0.5,\n",
    "# #                                    bagging_temperature=bagging_temperature,\n",
    "#                                    random_strength=random_strength,\n",
    "#                                    l2_leaf_reg=l2_leaf_reg,\n",
    "#                                    boosting_type='Plain', # 'Plain'\n",
    "                                   bootstrap_type='Bernoulli',# 'Bernoulli' Bayesian\n",
    "#                                    max_ctr_complexity=2,\n",
    "                                   task_type='CPU',\n",
    "                                  )\n",
    "        model.fit(\n",
    "            X_train, y_train,\n",
    "            eval_set = (X_test, y_test),\n",
    "            cat_features=cat_features,\n",
    "            verbose=False,\n",
    "            plot=True,\n",
    "            use_best_model=False\n",
    "        );\n",
    "\n",
    "        staged_probas = model.staged_predict_proba(X_test)\n",
    "        for i, staged_proba in enumerate(staged_probas):\n",
    "            staged_probas_df.iloc[test_index, i] = staged_proba[:,1]\n",
    "        \n",
    "    return staged_probas_df, model\n",
    "\n",
    "\n",
    "def get_result_table(y_proba):\n",
    "    df['y_proba'] = y_proba\n",
    "\n",
    "    quantiles = []\n",
    "    step = 0.2\n",
    "\n",
    "    df['target'] = df['Категория'] == 1\n",
    "\n",
    "    for i in np.arange(0, 1+step, step):\n",
    "        if i > 1: i = 1\n",
    "        quant = df['y_proba'].quantile(i)\n",
    "        quantiles.append(quant)\n",
    "\n",
    "    profit_abs = []\n",
    "    loaners_amount = []\n",
    "    good_bad = []\n",
    "\n",
    "    for i, quant in enumerate(quantiles):\n",
    "        if i == 0: quant = 0\n",
    "        i_next = i + 1\n",
    "        if i_next == len(quantiles): i_next = len(quantiles) - 1\n",
    "        q = df[(df['y_proba'] >= quant) & (df['y_proba'] < quantiles[i_next])]\n",
    "        profit_abs.append(round(pd.Series(q['total_given'] - q['total_taken']).sum()/1000000, 5))\n",
    "        loaners_amount.append(q.shape[0])\n",
    "        good_bad.append(q['target'].mean()*100)\n",
    "        i_old = quantiles[i-1]\n",
    "\n",
    "    print(quantiles)\n",
    "    df2 = pd.DataFrame()\n",
    "    df2['y proba'] = quantiles # np.append(np.arange(0, 0.1, 0.02), \n",
    "    df2['Количество людей'] = loaners_amount\n",
    "    df2['Процент людей, %'] = df2['Количество людей'] * 100 / df.shape[0]\n",
    "    df2['Процент мошенников в группе, %'] = good_bad\n",
    "    df2['Прибыль, млн.р'] = np.array(profit_abs)*2\n",
    "\n",
    "    return df2.drop('Количество людей', axis=1)"
   ]
  },
  {
   "cell_type": "code",
   "execution_count": null,
   "id": "knowing-single",
   "metadata": {
    "scrolled": true
   },
   "outputs": [],
   "source": [
    "staged_probas_df, model_KU = train_model(df=df, cols=features+anketas+ga,\n",
    "                                          folds=4, iterations=500, \\\n",
    "                                          depth=4, learning_rate=0.1)\n",
    "\n",
    "table = model_KU.get_feature_importance(prettified=True)\n",
    "table.to_excel('tables/FEATURE_IMPORTANCE_features+anketas+ga.xls')\n",
    "table"
   ]
  },
  {
   "cell_type": "code",
   "execution_count": 158,
   "id": "large-application",
   "metadata": {},
   "outputs": [
    {
     "name": "stdout",
     "output_type": "stream",
     "text": [
      "[0.007471814685521921, 0.07600572271790758, 0.12006335246813518, 0.17669922138129246, 0.26824153049184934, 0.9003809872577438]\n"
     ]
    },
    {
     "data": {
      "text/html": [
       "<div>\n",
       "<style scoped>\n",
       "    .dataframe tbody tr th:only-of-type {\n",
       "        vertical-align: middle;\n",
       "    }\n",
       "\n",
       "    .dataframe tbody tr th {\n",
       "        vertical-align: top;\n",
       "    }\n",
       "\n",
       "    .dataframe thead th {\n",
       "        text-align: right;\n",
       "    }\n",
       "</style>\n",
       "<table border=\"1\" class=\"dataframe\">\n",
       "  <thead>\n",
       "    <tr style=\"text-align: right;\">\n",
       "      <th></th>\n",
       "      <th>y proba</th>\n",
       "      <th>Процент людей, %</th>\n",
       "      <th>Процент мошенников в группе, %</th>\n",
       "      <th>Прибыль, млн.р</th>\n",
       "    </tr>\n",
       "  </thead>\n",
       "  <tbody>\n",
       "    <tr>\n",
       "      <th>0</th>\n",
       "      <td>0.007472</td>\n",
       "      <td>20.00114</td>\n",
       "      <td>2.621830</td>\n",
       "      <td>40.68010</td>\n",
       "    </tr>\n",
       "    <tr>\n",
       "      <th>1</th>\n",
       "      <td>0.076006</td>\n",
       "      <td>19.99829</td>\n",
       "      <td>3.805045</td>\n",
       "      <td>38.56132</td>\n",
       "    </tr>\n",
       "    <tr>\n",
       "      <th>2</th>\n",
       "      <td>0.120063</td>\n",
       "      <td>20.00114</td>\n",
       "      <td>5.984611</td>\n",
       "      <td>34.30310</td>\n",
       "    </tr>\n",
       "    <tr>\n",
       "      <th>3</th>\n",
       "      <td>0.176699</td>\n",
       "      <td>19.99829</td>\n",
       "      <td>9.690751</td>\n",
       "      <td>27.11310</td>\n",
       "    </tr>\n",
       "    <tr>\n",
       "      <th>4</th>\n",
       "      <td>0.268242</td>\n",
       "      <td>19.99829</td>\n",
       "      <td>18.426678</td>\n",
       "      <td>19.88752</td>\n",
       "    </tr>\n",
       "    <tr>\n",
       "      <th>5</th>\n",
       "      <td>0.900381</td>\n",
       "      <td>0.00000</td>\n",
       "      <td>NaN</td>\n",
       "      <td>0.00000</td>\n",
       "    </tr>\n",
       "  </tbody>\n",
       "</table>\n",
       "</div>"
      ],
      "text/plain": [
       "    y proba  Процент людей, %  Процент мошенников в группе, %  Прибыль, млн.р\n",
       "0  0.007472          20.00114                        2.621830        40.68010\n",
       "1  0.076006          19.99829                        3.805045        38.56132\n",
       "2  0.120063          20.00114                        5.984611        34.30310\n",
       "3  0.176699          19.99829                        9.690751        27.11310\n",
       "4  0.268242          19.99829                       18.426678        19.88752\n",
       "5  0.900381           0.00000                             NaN         0.00000"
      ]
     },
     "execution_count": 158,
     "metadata": {},
     "output_type": "execute_result"
    }
   ],
   "source": [
    "table = get_result_table(staged_probas_df[449])\n",
    "table.to_excel('tables/features+anketas+ga.csv')\n",
    "table"
   ]
  },
  {
   "cell_type": "code",
   "execution_count": 159,
   "id": "aquatic-booth",
   "metadata": {
    "scrolled": false
   },
   "outputs": [
    {
     "name": "stderr",
     "output_type": "stream",
     "text": [
      "/home/nikolay/anaconda3/envs/merlin/lib/python3.7/site-packages/sklearn/utils/deprecation.py:86: FutureWarning: Function plot_roc_curve is deprecated; This will be removed in v0.5.0. Please use scikitplot.metrics.plot_roc instead.\n",
      "  warnings.warn(msg, category=FutureWarning)\n"
     ]
    },
    {
     "data": {
      "image/png": "[encoded data removed]",
      "text/plain": [
       "<Figure size 432x288 with 1 Axes>"
      ]
     },
     "metadata": {
      "needs_background": "light"
     },
     "output_type": "display_data"
    }
   ],
   "source": [
    "# Micro is shows more positive result\n",
    "y_proba = staged_probas_df[499]\n",
    "proba = np.array([1-y_proba, y_proba])\n",
    "skplt.metrics.plot_roc_curve(df['Категория'].astype(int).values, proba.T, curves=['macro'])\n",
    "plt.show()"
   ]
  },
  {
   "cell_type": "markdown",
   "id": "apart-contest",
   "metadata": {},
   "source": [
    "### Features + GA"
   ]
  },
  {
   "cell_type": "code",
   "execution_count": 160,
   "id": "continuous-supervision",
   "metadata": {
    "scrolled": true
   },
   "outputs": [
    {
     "name": "stdout",
     "output_type": "stream",
     "text": [
      "26316 8772\n"
     ]
    },
    {
     "data": {
      "application/vnd.jupyter.widget-view+json": {
       "model_id": "2ecbb4c1e57f43abbf741fe80317a3db",
       "version_major": 2,
       "version_minor": 0
      },
      "text/plain": [
       "MetricVisualizer(layout=Layout(align_self='stretch', height='500px'))"
      ]
     },
     "metadata": {},
     "output_type": "display_data"
    },
    {
     "name": "stdout",
     "output_type": "stream",
     "text": [
      "26316 8772\n"
     ]
    },
    {
     "data": {
      "application/vnd.jupyter.widget-view+json": {
       "model_id": "84872fcad18a4ec999be8e9645d047be",
       "version_major": 2,
       "version_minor": 0
      },
      "text/plain": [
       "MetricVisualizer(layout=Layout(align_self='stretch', height='500px'))"
      ]
     },
     "metadata": {},
     "output_type": "display_data"
    },
    {
     "name": "stdout",
     "output_type": "stream",
     "text": [
      "26316 8772\n"
     ]
    },
    {
     "data": {
      "application/vnd.jupyter.widget-view+json": {
       "model_id": "ac0f6c4d54194f08845a2858a27935ee",
       "version_major": 2,
       "version_minor": 0
      },
      "text/plain": [
       "MetricVisualizer(layout=Layout(align_self='stretch', height='500px'))"
      ]
     },
     "metadata": {},
     "output_type": "display_data"
    },
    {
     "name": "stdout",
     "output_type": "stream",
     "text": [
      "26316 8772\n"
     ]
    },
    {
     "data": {
      "application/vnd.jupyter.widget-view+json": {
       "model_id": "c7b3cd85163c409e8fb143fc96a41f74",
       "version_major": 2,
       "version_minor": 0
      },
      "text/plain": [
       "MetricVisualizer(layout=Layout(align_self='stretch', height='500px'))"
      ]
     },
     "metadata": {},
     "output_type": "display_data"
    },
    {
     "data": {
      "text/html": [
       "<div>\n",
       "<style scoped>\n",
       "    .dataframe tbody tr th:only-of-type {\n",
       "        vertical-align: middle;\n",
       "    }\n",
       "\n",
       "    .dataframe tbody tr th {\n",
       "        vertical-align: top;\n",
       "    }\n",
       "\n",
       "    .dataframe thead th {\n",
       "        text-align: right;\n",
       "    }\n",
       "</style>\n",
       "<table border=\"1\" class=\"dataframe\">\n",
       "  <thead>\n",
       "    <tr style=\"text-align: right;\">\n",
       "      <th></th>\n",
       "      <th>Feature Id</th>\n",
       "      <th>Importances</th>\n",
       "    </tr>\n",
       "  </thead>\n",
       "  <tbody>\n",
       "    <tr>\n",
       "      <th>0</th>\n",
       "      <td>age</td>\n",
       "      <td>10.290402</td>\n",
       "    </tr>\n",
       "    <tr>\n",
       "      <th>1</th>\n",
       "      <td>Высота бровей</td>\n",
       "      <td>5.723440</td>\n",
       "    </tr>\n",
       "    <tr>\n",
       "      <th>2</th>\n",
       "      <td>Оттопыренность ушей</td>\n",
       "      <td>5.166091</td>\n",
       "    </tr>\n",
       "    <tr>\n",
       "      <th>3</th>\n",
       "      <td>Асимметрия размера глаз</td>\n",
       "      <td>5.072450</td>\n",
       "    </tr>\n",
       "    <tr>\n",
       "      <th>4</th>\n",
       "      <td>Полнота нижней губы</td>\n",
       "      <td>4.980904</td>\n",
       "    </tr>\n",
       "    <tr>\n",
       "      <th>5</th>\n",
       "      <td>Ширина челюсти</td>\n",
       "      <td>4.902551</td>\n",
       "    </tr>\n",
       "    <tr>\n",
       "      <th>6</th>\n",
       "      <td>Наклон бровей</td>\n",
       "      <td>4.868264</td>\n",
       "    </tr>\n",
       "    <tr>\n",
       "      <th>7</th>\n",
       "      <td>Размер рта</td>\n",
       "      <td>4.865010</td>\n",
       "    </tr>\n",
       "    <tr>\n",
       "      <th>8</th>\n",
       "      <td>Асимметрия брови</td>\n",
       "      <td>4.822043</td>\n",
       "    </tr>\n",
       "    <tr>\n",
       "      <th>9</th>\n",
       "      <td>Уголки рта</td>\n",
       "      <td>4.699051</td>\n",
       "    </tr>\n",
       "    <tr>\n",
       "      <th>10</th>\n",
       "      <td>Наклон глаз</td>\n",
       "      <td>4.695796</td>\n",
       "    </tr>\n",
       "    <tr>\n",
       "      <th>11</th>\n",
       "      <td>Асимметрия носа</td>\n",
       "      <td>4.694546</td>\n",
       "    </tr>\n",
       "    <tr>\n",
       "      <th>12</th>\n",
       "      <td>Верхнее веко</td>\n",
       "      <td>4.565580</td>\n",
       "    </tr>\n",
       "    <tr>\n",
       "      <th>13</th>\n",
       "      <td>Ширина посадки глаз</td>\n",
       "      <td>4.529273</td>\n",
       "    </tr>\n",
       "    <tr>\n",
       "      <th>14</th>\n",
       "      <td>Полнота верхней губы</td>\n",
       "      <td>4.329984</td>\n",
       "    </tr>\n",
       "    <tr>\n",
       "      <th>15</th>\n",
       "      <td>Асимметрия наклона глаз</td>\n",
       "      <td>4.300524</td>\n",
       "    </tr>\n",
       "    <tr>\n",
       "      <th>16</th>\n",
       "      <td>Размер глаз</td>\n",
       "      <td>4.145838</td>\n",
       "    </tr>\n",
       "    <tr>\n",
       "      <th>17</th>\n",
       "      <td>Форма головы</td>\n",
       "      <td>4.056536</td>\n",
       "    </tr>\n",
       "    <tr>\n",
       "      <th>18</th>\n",
       "      <td>Асимметрия челюсти</td>\n",
       "      <td>3.915749</td>\n",
       "    </tr>\n",
       "    <tr>\n",
       "      <th>19</th>\n",
       "      <td>Скулы</td>\n",
       "      <td>3.866106</td>\n",
       "    </tr>\n",
       "    <tr>\n",
       "      <th>20</th>\n",
       "      <td>gender</td>\n",
       "      <td>1.509864</td>\n",
       "    </tr>\n",
       "  </tbody>\n",
       "</table>\n",
       "</div>"
      ],
      "text/plain": [
       "                 Feature Id  Importances\n",
       "0                       age    10.290402\n",
       "1             Высота бровей     5.723440\n",
       "2       Оттопыренность ушей     5.166091\n",
       "3   Асимметрия размера глаз     5.072450\n",
       "4       Полнота нижней губы     4.980904\n",
       "5            Ширина челюсти     4.902551\n",
       "6             Наклон бровей     4.868264\n",
       "7                Размер рта     4.865010\n",
       "8          Асимметрия брови     4.822043\n",
       "9                Уголки рта     4.699051\n",
       "10              Наклон глаз     4.695796\n",
       "11          Асимметрия носа     4.694546\n",
       "12             Верхнее веко     4.565580\n",
       "13      Ширина посадки глаз     4.529273\n",
       "14     Полнота верхней губы     4.329984\n",
       "15  Асимметрия наклона глаз     4.300524\n",
       "16              Размер глаз     4.145838\n",
       "17             Форма головы     4.056536\n",
       "18       Асимметрия челюсти     3.915749\n",
       "19                    Скулы     3.866106\n",
       "20                   gender     1.509864"
      ]
     },
     "execution_count": 160,
     "metadata": {},
     "output_type": "execute_result"
    }
   ],
   "source": [
    "staged_probas_df, model_KU = train_model(df=df, cols=features+ga,\n",
    "                                          folds=4, iterations=500, \\\n",
    "                                          depth=4, learning_rate=0.1)\n",
    "\n",
    "table = model_KU.get_feature_importance(prettified=True)\n",
    "table.to_csv('tables/FEATURE_IMPORTANCE_features+ga.csv')\n",
    "table"
   ]
  },
  {
   "cell_type": "code",
   "execution_count": 161,
   "id": "bored-moment",
   "metadata": {},
   "outputs": [
    {
     "name": "stdout",
     "output_type": "stream",
     "text": [
      "[0.007998427818889627, 0.09689825978516238, 0.14878952660390285, 0.20117610228431426, 0.2653144602422915, 0.7694793122649783]\n"
     ]
    },
    {
     "data": {
      "text/html": [
       "<div>\n",
       "<style scoped>\n",
       "    .dataframe tbody tr th:only-of-type {\n",
       "        vertical-align: middle;\n",
       "    }\n",
       "\n",
       "    .dataframe tbody tr th {\n",
       "        vertical-align: top;\n",
       "    }\n",
       "\n",
       "    .dataframe thead th {\n",
       "        text-align: right;\n",
       "    }\n",
       "</style>\n",
       "<table border=\"1\" class=\"dataframe\">\n",
       "  <thead>\n",
       "    <tr style=\"text-align: right;\">\n",
       "      <th></th>\n",
       "      <th>y proba</th>\n",
       "      <th>Процент людей, %</th>\n",
       "      <th>Процент мошенников в группе, %</th>\n",
       "      <th>Прибыль, млн.р</th>\n",
       "    </tr>\n",
       "  </thead>\n",
       "  <tbody>\n",
       "    <tr>\n",
       "      <th>0</th>\n",
       "      <td>0.007998</td>\n",
       "      <td>19.99829</td>\n",
       "      <td>3.448767</td>\n",
       "      <td>38.25468</td>\n",
       "    </tr>\n",
       "    <tr>\n",
       "      <th>1</th>\n",
       "      <td>0.096898</td>\n",
       "      <td>19.99544</td>\n",
       "      <td>5.601482</td>\n",
       "      <td>36.57140</td>\n",
       "    </tr>\n",
       "    <tr>\n",
       "      <th>2</th>\n",
       "      <td>0.148790</td>\n",
       "      <td>20.00684</td>\n",
       "      <td>7.350427</td>\n",
       "      <td>33.89498</td>\n",
       "    </tr>\n",
       "    <tr>\n",
       "      <th>3</th>\n",
       "      <td>0.201176</td>\n",
       "      <td>19.99829</td>\n",
       "      <td>9.933020</td>\n",
       "      <td>29.63054</td>\n",
       "    </tr>\n",
       "    <tr>\n",
       "      <th>4</th>\n",
       "      <td>0.265314</td>\n",
       "      <td>19.99829</td>\n",
       "      <td>14.194100</td>\n",
       "      <td>22.19276</td>\n",
       "    </tr>\n",
       "    <tr>\n",
       "      <th>5</th>\n",
       "      <td>0.769479</td>\n",
       "      <td>0.00000</td>\n",
       "      <td>NaN</td>\n",
       "      <td>0.00000</td>\n",
       "    </tr>\n",
       "  </tbody>\n",
       "</table>\n",
       "</div>"
      ],
      "text/plain": [
       "    y proba  Процент людей, %  Процент мошенников в группе, %  Прибыль, млн.р\n",
       "0  0.007998          19.99829                        3.448767        38.25468\n",
       "1  0.096898          19.99544                        5.601482        36.57140\n",
       "2  0.148790          20.00684                        7.350427        33.89498\n",
       "3  0.201176          19.99829                        9.933020        29.63054\n",
       "4  0.265314          19.99829                       14.194100        22.19276\n",
       "5  0.769479           0.00000                             NaN         0.00000"
      ]
     },
     "execution_count": 161,
     "metadata": {},
     "output_type": "execute_result"
    }
   ],
   "source": [
    "table = get_result_table(staged_probas_df[449])\n",
    "table.to_csv('tables/features+ga.csv')\n",
    "table"
   ]
  },
  {
   "cell_type": "code",
   "execution_count": 162,
   "id": "angry-lambda",
   "metadata": {},
   "outputs": [
    {
     "name": "stderr",
     "output_type": "stream",
     "text": [
      "/home/nikolay/anaconda3/envs/merlin/lib/python3.7/site-packages/sklearn/utils/deprecation.py:86: FutureWarning: Function plot_roc_curve is deprecated; This will be removed in v0.5.0. Please use scikitplot.metrics.plot_roc instead.\n",
      "  warnings.warn(msg, category=FutureWarning)\n"
     ]
    },
    {
     "data": {
      "image/png": "[encoded data removed]",
      "text/plain": [
       "<Figure size 432x288 with 1 Axes>"
      ]
     },
     "metadata": {
      "needs_background": "light"
     },
     "output_type": "display_data"
    }
   ],
   "source": [
    "# Micro is shows more positive result\n",
    "y_proba = staged_probas_df[499]\n",
    "proba = np.array([1-y_proba, y_proba])\n",
    "skplt.metrics.plot_roc_curve(df['target'].astype(int).values, proba.T, curves=['macro'])\n",
    "plt.show()"
   ]
  },
  {
   "cell_type": "markdown",
   "id": "continuous-score",
   "metadata": {},
   "source": [
    "# Only GA"
   ]
  },
  {
   "cell_type": "code",
   "execution_count": 163,
   "id": "surprising-opposition",
   "metadata": {
    "scrolled": true
   },
   "outputs": [
    {
     "name": "stdout",
     "output_type": "stream",
     "text": [
      "26316 8772\n"
     ]
    },
    {
     "data": {
      "application/vnd.jupyter.widget-view+json": {
       "model_id": "d398c405d5bf41709aa10bf7c4fee6e6",
       "version_major": 2,
       "version_minor": 0
      },
      "text/plain": [
       "MetricVisualizer(layout=Layout(align_self='stretch', height='500px'))"
      ]
     },
     "metadata": {},
     "output_type": "display_data"
    },
    {
     "name": "stdout",
     "output_type": "stream",
     "text": [
      "26316 8772\n"
     ]
    },
    {
     "data": {
      "application/vnd.jupyter.widget-view+json": {
       "model_id": "f20139672bd1411790c30943358af433",
       "version_major": 2,
       "version_minor": 0
      },
      "text/plain": [
       "MetricVisualizer(layout=Layout(align_self='stretch', height='500px'))"
      ]
     },
     "metadata": {},
     "output_type": "display_data"
    },
    {
     "name": "stdout",
     "output_type": "stream",
     "text": [
      "26316 8772\n"
     ]
    },
    {
     "data": {
      "application/vnd.jupyter.widget-view+json": {
       "model_id": "a968f58c47b04313acde0f4e9bdd666c",
       "version_major": 2,
       "version_minor": 0
      },
      "text/plain": [
       "MetricVisualizer(layout=Layout(align_self='stretch', height='500px'))"
      ]
     },
     "metadata": {},
     "output_type": "display_data"
    },
    {
     "name": "stdout",
     "output_type": "stream",
     "text": [
      "26316 8772\n"
     ]
    },
    {
     "data": {
      "application/vnd.jupyter.widget-view+json": {
       "model_id": "5a5008cce8844d1996a754110bb7414f",
       "version_major": 2,
       "version_minor": 0
      },
      "text/plain": [
       "MetricVisualizer(layout=Layout(align_self='stretch', height='500px'))"
      ]
     },
     "metadata": {},
     "output_type": "display_data"
    },
    {
     "data": {
      "text/html": [
       "<div>\n",
       "<style scoped>\n",
       "    .dataframe tbody tr th:only-of-type {\n",
       "        vertical-align: middle;\n",
       "    }\n",
       "\n",
       "    .dataframe tbody tr th {\n",
       "        vertical-align: top;\n",
       "    }\n",
       "\n",
       "    .dataframe thead th {\n",
       "        text-align: right;\n",
       "    }\n",
       "</style>\n",
       "<table border=\"1\" class=\"dataframe\">\n",
       "  <thead>\n",
       "    <tr style=\"text-align: right;\">\n",
       "      <th></th>\n",
       "      <th>Feature Id</th>\n",
       "      <th>Importances</th>\n",
       "    </tr>\n",
       "  </thead>\n",
       "  <tbody>\n",
       "    <tr>\n",
       "      <th>0</th>\n",
       "      <td>age</td>\n",
       "      <td>80.017759</td>\n",
       "    </tr>\n",
       "    <tr>\n",
       "      <th>1</th>\n",
       "      <td>gender</td>\n",
       "      <td>19.982241</td>\n",
       "    </tr>\n",
       "  </tbody>\n",
       "</table>\n",
       "</div>"
      ],
      "text/plain": [
       "  Feature Id  Importances\n",
       "0        age    80.017759\n",
       "1     gender    19.982241"
      ]
     },
     "execution_count": 163,
     "metadata": {},
     "output_type": "execute_result"
    }
   ],
   "source": [
    "staged_probas_df, model_KU = train_model(df=df, cols=ga,\n",
    "                                          folds=4, iterations=500, \\\n",
    "                                          depth=4, learning_rate=0.01)\n",
    "\n",
    "table = model_KU.get_feature_importance(prettified=True)\n",
    "table.to_csv('tables/FEATURE_IMPORTANCE_ga.csv')\n",
    "table"
   ]
  },
  {
   "cell_type": "code",
   "execution_count": 164,
   "id": "living-spiritual",
   "metadata": {},
   "outputs": [
    {
     "name": "stdout",
     "output_type": "stream",
     "text": [
      "[0.051442910394305846, 0.12604786772509766, 0.19773025977742126, 0.2334090551459544, 0.27369313551598395, 0.44731823084732825]\n"
     ]
    },
    {
     "data": {
      "text/html": [
       "<div>\n",
       "<style scoped>\n",
       "    .dataframe tbody tr th:only-of-type {\n",
       "        vertical-align: middle;\n",
       "    }\n",
       "\n",
       "    .dataframe tbody tr th {\n",
       "        vertical-align: top;\n",
       "    }\n",
       "\n",
       "    .dataframe thead th {\n",
       "        text-align: right;\n",
       "    }\n",
       "</style>\n",
       "<table border=\"1\" class=\"dataframe\">\n",
       "  <thead>\n",
       "    <tr style=\"text-align: right;\">\n",
       "      <th></th>\n",
       "      <th>y proba</th>\n",
       "      <th>Процент людей, %</th>\n",
       "      <th>Процент мошенников в группе, %</th>\n",
       "      <th>Прибыль, млн.р</th>\n",
       "    </tr>\n",
       "  </thead>\n",
       "  <tbody>\n",
       "    <tr>\n",
       "      <th>0</th>\n",
       "      <td>0.051443</td>\n",
       "      <td>19.929891</td>\n",
       "      <td>3.103103</td>\n",
       "      <td>39.02068</td>\n",
       "    </tr>\n",
       "    <tr>\n",
       "      <th>1</th>\n",
       "      <td>0.126048</td>\n",
       "      <td>19.901391</td>\n",
       "      <td>6.186453</td>\n",
       "      <td>35.34608</td>\n",
       "    </tr>\n",
       "    <tr>\n",
       "      <th>2</th>\n",
       "      <td>0.197730</td>\n",
       "      <td>19.961240</td>\n",
       "      <td>8.295260</td>\n",
       "      <td>35.54494</td>\n",
       "    </tr>\n",
       "    <tr>\n",
       "      <th>3</th>\n",
       "      <td>0.233409</td>\n",
       "      <td>19.912791</td>\n",
       "      <td>10.619722</td>\n",
       "      <td>26.39470</td>\n",
       "    </tr>\n",
       "    <tr>\n",
       "      <th>4</th>\n",
       "      <td>0.273693</td>\n",
       "      <td>20.234838</td>\n",
       "      <td>12.239437</td>\n",
       "      <td>24.18710</td>\n",
       "    </tr>\n",
       "    <tr>\n",
       "      <th>5</th>\n",
       "      <td>0.447318</td>\n",
       "      <td>0.000000</td>\n",
       "      <td>NaN</td>\n",
       "      <td>0.00000</td>\n",
       "    </tr>\n",
       "  </tbody>\n",
       "</table>\n",
       "</div>"
      ],
      "text/plain": [
       "    y proba  Процент людей, %  Процент мошенников в группе, %  Прибыль, млн.р\n",
       "0  0.051443         19.929891                        3.103103        39.02068\n",
       "1  0.126048         19.901391                        6.186453        35.34608\n",
       "2  0.197730         19.961240                        8.295260        35.54494\n",
       "3  0.233409         19.912791                       10.619722        26.39470\n",
       "4  0.273693         20.234838                       12.239437        24.18710\n",
       "5  0.447318          0.000000                             NaN         0.00000"
      ]
     },
     "execution_count": 164,
     "metadata": {},
     "output_type": "execute_result"
    }
   ],
   "source": [
    "table = get_result_table(staged_probas_df[449])\n",
    "table.to_csv('tables/ga.csv')\n",
    "table"
   ]
  },
  {
   "cell_type": "code",
   "execution_count": 165,
   "id": "operating-learning",
   "metadata": {},
   "outputs": [
    {
     "name": "stderr",
     "output_type": "stream",
     "text": [
      "/home/nikolay/anaconda3/envs/merlin/lib/python3.7/site-packages/sklearn/utils/deprecation.py:86: FutureWarning: Function plot_roc_curve is deprecated; This will be removed in v0.5.0. Please use scikitplot.metrics.plot_roc instead.\n",
      "  warnings.warn(msg, category=FutureWarning)\n"
     ]
    },
    {
     "data": {
      "image/png": "[encoded data removed]",
      "text/plain": [
       "<Figure size 432x288 with 1 Axes>"
      ]
     },
     "metadata": {
      "needs_background": "light"
     },
     "output_type": "display_data"
    }
   ],
   "source": [
    "# Micro is shows more positive result\n",
    "y_proba = staged_probas_df[499]\n",
    "proba = np.array([1-y_proba, y_proba])\n",
    "skplt.metrics.plot_roc_curve(df['target'].astype(int).values, proba.T, curves=['macro'])\n",
    "plt.show()"
   ]
  },
  {
   "cell_type": "markdown",
   "id": "medieval-twenty",
   "metadata": {},
   "source": [
    "# Only anketas"
   ]
  },
  {
   "cell_type": "code",
   "execution_count": 166,
   "id": "pressing-multiple",
   "metadata": {
    "scrolled": true
   },
   "outputs": [
    {
     "name": "stdout",
     "output_type": "stream",
     "text": [
      "26316 8772\n"
     ]
    },
    {
     "data": {
      "application/vnd.jupyter.widget-view+json": {
       "model_id": "458d89023d474d22a1f9cc12ecb774bc",
       "version_major": 2,
       "version_minor": 0
      },
      "text/plain": [
       "MetricVisualizer(layout=Layout(align_self='stretch', height='500px'))"
      ]
     },
     "metadata": {},
     "output_type": "display_data"
    },
    {
     "name": "stdout",
     "output_type": "stream",
     "text": [
      "26316 8772\n"
     ]
    },
    {
     "data": {
      "application/vnd.jupyter.widget-view+json": {
       "model_id": "a87ba51be36d4e5fb00343093d402701",
       "version_major": 2,
       "version_minor": 0
      },
      "text/plain": [
       "MetricVisualizer(layout=Layout(align_self='stretch', height='500px'))"
      ]
     },
     "metadata": {},
     "output_type": "display_data"
    },
    {
     "name": "stdout",
     "output_type": "stream",
     "text": [
      "26316 8772\n"
     ]
    },
    {
     "data": {
      "application/vnd.jupyter.widget-view+json": {
       "model_id": "bc7ca037e2234432974c648fb2720665",
       "version_major": 2,
       "version_minor": 0
      },
      "text/plain": [
       "MetricVisualizer(layout=Layout(align_self='stretch', height='500px'))"
      ]
     },
     "metadata": {},
     "output_type": "display_data"
    },
    {
     "name": "stdout",
     "output_type": "stream",
     "text": [
      "26316 8772\n"
     ]
    },
    {
     "data": {
      "application/vnd.jupyter.widget-view+json": {
       "model_id": "249689ebaa9344729796bc55d8288a68",
       "version_major": 2,
       "version_minor": 0
      },
      "text/plain": [
       "MetricVisualizer(layout=Layout(align_self='stretch', height='500px'))"
      ]
     },
     "metadata": {},
     "output_type": "display_data"
    },
    {
     "data": {
      "text/html": [
       "<div>\n",
       "<style scoped>\n",
       "    .dataframe tbody tr th:only-of-type {\n",
       "        vertical-align: middle;\n",
       "    }\n",
       "\n",
       "    .dataframe tbody tr th {\n",
       "        vertical-align: top;\n",
       "    }\n",
       "\n",
       "    .dataframe thead th {\n",
       "        text-align: right;\n",
       "    }\n",
       "</style>\n",
       "<table border=\"1\" class=\"dataframe\">\n",
       "  <thead>\n",
       "    <tr style=\"text-align: right;\">\n",
       "      <th></th>\n",
       "      <th>Feature Id</th>\n",
       "      <th>Importances</th>\n",
       "    </tr>\n",
       "  </thead>\n",
       "  <tbody>\n",
       "    <tr>\n",
       "      <th>0</th>\n",
       "      <td>source</td>\n",
       "      <td>52.364939</td>\n",
       "    </tr>\n",
       "    <tr>\n",
       "      <th>1</th>\n",
       "      <td>job</td>\n",
       "      <td>24.204021</td>\n",
       "    </tr>\n",
       "    <tr>\n",
       "      <th>2</th>\n",
       "      <td>marital_status</td>\n",
       "      <td>13.691799</td>\n",
       "    </tr>\n",
       "    <tr>\n",
       "      <th>3</th>\n",
       "      <td>education</td>\n",
       "      <td>8.597336</td>\n",
       "    </tr>\n",
       "    <tr>\n",
       "      <th>4</th>\n",
       "      <td>childs</td>\n",
       "      <td>1.141905</td>\n",
       "    </tr>\n",
       "  </tbody>\n",
       "</table>\n",
       "</div>"
      ],
      "text/plain": [
       "       Feature Id  Importances\n",
       "0          source    52.364939\n",
       "1             job    24.204021\n",
       "2  marital_status    13.691799\n",
       "3       education     8.597336\n",
       "4          childs     1.141905"
      ]
     },
     "execution_count": 166,
     "metadata": {},
     "output_type": "execute_result"
    }
   ],
   "source": [
    "staged_probas_df, model_KU = train_model(df=df, cols=anketas,\n",
    "                                          folds = 4, iterations=500, \\\n",
    "                                          depth=4, learning_rate=0.01)\n",
    "\n",
    "table = model_KU.get_feature_importance(prettified=True)\n",
    "table.to_csv('tables/FEATURE_IMPORTANCE_anketas.csv')\n",
    "table"
   ]
  },
  {
   "cell_type": "code",
   "execution_count": 167,
   "id": "classical-chemistry",
   "metadata": {},
   "outputs": [
    {
     "name": "stdout",
     "output_type": "stream",
     "text": [
      "[0.05714183932548, 0.11460297597602896, 0.15072806013112441, 0.2047655608524197, 0.270245552945892, 0.6339587518759644]\n"
     ]
    },
    {
     "data": {
      "text/html": [
       "<div>\n",
       "<style scoped>\n",
       "    .dataframe tbody tr th:only-of-type {\n",
       "        vertical-align: middle;\n",
       "    }\n",
       "\n",
       "    .dataframe tbody tr th {\n",
       "        vertical-align: top;\n",
       "    }\n",
       "\n",
       "    .dataframe thead th {\n",
       "        text-align: right;\n",
       "    }\n",
       "</style>\n",
       "<table border=\"1\" class=\"dataframe\">\n",
       "  <thead>\n",
       "    <tr style=\"text-align: right;\">\n",
       "      <th></th>\n",
       "      <th>y proba</th>\n",
       "      <th>Процент людей, %</th>\n",
       "      <th>Процент мошенников в группе, %</th>\n",
       "      <th>Прибыль, млн.р</th>\n",
       "    </tr>\n",
       "  </thead>\n",
       "  <tbody>\n",
       "    <tr>\n",
       "      <th>0</th>\n",
       "      <td>0.057142</td>\n",
       "      <td>19.909941</td>\n",
       "      <td>2.619525</td>\n",
       "      <td>38.31712</td>\n",
       "    </tr>\n",
       "    <tr>\n",
       "      <th>1</th>\n",
       "      <td>0.114603</td>\n",
       "      <td>19.995440</td>\n",
       "      <td>4.361460</td>\n",
       "      <td>36.57806</td>\n",
       "    </tr>\n",
       "    <tr>\n",
       "      <th>2</th>\n",
       "      <td>0.150728</td>\n",
       "      <td>20.089489</td>\n",
       "      <td>6.227834</td>\n",
       "      <td>35.21422</td>\n",
       "    </tr>\n",
       "    <tr>\n",
       "      <th>3</th>\n",
       "      <td>0.204766</td>\n",
       "      <td>20.003990</td>\n",
       "      <td>9.702237</td>\n",
       "      <td>29.13290</td>\n",
       "    </tr>\n",
       "    <tr>\n",
       "      <th>4</th>\n",
       "      <td>0.270246</td>\n",
       "      <td>19.998290</td>\n",
       "      <td>17.614365</td>\n",
       "      <td>21.29578</td>\n",
       "    </tr>\n",
       "    <tr>\n",
       "      <th>5</th>\n",
       "      <td>0.633959</td>\n",
       "      <td>0.000000</td>\n",
       "      <td>NaN</td>\n",
       "      <td>0.00000</td>\n",
       "    </tr>\n",
       "  </tbody>\n",
       "</table>\n",
       "</div>"
      ],
      "text/plain": [
       "    y proba  Процент людей, %  Процент мошенников в группе, %  Прибыль, млн.р\n",
       "0  0.057142         19.909941                        2.619525        38.31712\n",
       "1  0.114603         19.995440                        4.361460        36.57806\n",
       "2  0.150728         20.089489                        6.227834        35.21422\n",
       "3  0.204766         20.003990                        9.702237        29.13290\n",
       "4  0.270246         19.998290                       17.614365        21.29578\n",
       "5  0.633959          0.000000                             NaN         0.00000"
      ]
     },
     "execution_count": 167,
     "metadata": {},
     "output_type": "execute_result"
    }
   ],
   "source": [
    "table = get_result_table(staged_probas_df[449])\n",
    "table.to_csv('tables/anketas.csv')\n",
    "table"
   ]
  },
  {
   "cell_type": "code",
   "execution_count": 168,
   "id": "compressed-vision",
   "metadata": {},
   "outputs": [
    {
     "name": "stderr",
     "output_type": "stream",
     "text": [
      "/home/nikolay/anaconda3/envs/merlin/lib/python3.7/site-packages/sklearn/utils/deprecation.py:86: FutureWarning: Function plot_roc_curve is deprecated; This will be removed in v0.5.0. Please use scikitplot.metrics.plot_roc instead.\n",
      "  warnings.warn(msg, category=FutureWarning)\n"
     ]
    },
    {
     "data": {
      "image/png": "[encoded data removed]",
      "text/plain": [
       "<Figure size 432x288 with 1 Axes>"
      ]
     },
     "metadata": {
      "needs_background": "light"
     },
     "output_type": "display_data"
    }
   ],
   "source": [
    "# Micro is shows more positive result\n",
    "y_proba = staged_probas_df[499]\n",
    "proba = np.array([1-y_proba, y_proba])\n",
    "skplt.metrics.plot_roc_curve(df['target'].astype(int).values, proba.T, curves=['macro'])\n",
    "plt.show()"
   ]
  },
  {
   "cell_type": "markdown",
   "id": "internal-hurricane",
   "metadata": {},
   "source": [
    "# Features"
   ]
  },
  {
   "cell_type": "code",
   "execution_count": 172,
   "id": "productive-spray",
   "metadata": {
    "scrolled": true
   },
   "outputs": [
    {
     "name": "stdout",
     "output_type": "stream",
     "text": [
      "26316 8772\n"
     ]
    },
    {
     "data": {
      "application/vnd.jupyter.widget-view+json": {
       "model_id": "819a6f81bc0c464696ca6b1740150fa8",
       "version_major": 2,
       "version_minor": 0
      },
      "text/plain": [
       "MetricVisualizer(layout=Layout(align_self='stretch', height='500px'))"
      ]
     },
     "metadata": {},
     "output_type": "display_data"
    },
    {
     "name": "stdout",
     "output_type": "stream",
     "text": [
      "26316 8772\n"
     ]
    },
    {
     "data": {
      "application/vnd.jupyter.widget-view+json": {
       "model_id": "cdc9b1e817f645d5b277f95575e2c5c1",
       "version_major": 2,
       "version_minor": 0
      },
      "text/plain": [
       "MetricVisualizer(layout=Layout(align_self='stretch', height='500px'))"
      ]
     },
     "metadata": {},
     "output_type": "display_data"
    },
    {
     "name": "stdout",
     "output_type": "stream",
     "text": [
      "26316 8772\n"
     ]
    },
    {
     "data": {
      "application/vnd.jupyter.widget-view+json": {
       "model_id": "6ef9bb6bcf4c427e9ccabb3762929143",
       "version_major": 2,
       "version_minor": 0
      },
      "text/plain": [
       "MetricVisualizer(layout=Layout(align_self='stretch', height='500px'))"
      ]
     },
     "metadata": {},
     "output_type": "display_data"
    },
    {
     "name": "stdout",
     "output_type": "stream",
     "text": [
      "26316 8772\n"
     ]
    },
    {
     "data": {
      "application/vnd.jupyter.widget-view+json": {
       "model_id": "f0cea09af8fa48daabe96d50446dc604",
       "version_major": 2,
       "version_minor": 0
      },
      "text/plain": [
       "MetricVisualizer(layout=Layout(align_self='stretch', height='500px'))"
      ]
     },
     "metadata": {},
     "output_type": "display_data"
    },
    {
     "data": {
      "text/html": [
       "<div>\n",
       "<style scoped>\n",
       "    .dataframe tbody tr th:only-of-type {\n",
       "        vertical-align: middle;\n",
       "    }\n",
       "\n",
       "    .dataframe tbody tr th {\n",
       "        vertical-align: top;\n",
       "    }\n",
       "\n",
       "    .dataframe thead th {\n",
       "        text-align: right;\n",
       "    }\n",
       "</style>\n",
       "<table border=\"1\" class=\"dataframe\">\n",
       "  <thead>\n",
       "    <tr style=\"text-align: right;\">\n",
       "      <th></th>\n",
       "      <th>Feature Id</th>\n",
       "      <th>Importances</th>\n",
       "    </tr>\n",
       "  </thead>\n",
       "  <tbody>\n",
       "    <tr>\n",
       "      <th>0</th>\n",
       "      <td>Полнота нижней губы</td>\n",
       "      <td>16.479664</td>\n",
       "    </tr>\n",
       "    <tr>\n",
       "      <th>1</th>\n",
       "      <td>Оттопыренность ушей</td>\n",
       "      <td>9.232384</td>\n",
       "    </tr>\n",
       "    <tr>\n",
       "      <th>2</th>\n",
       "      <td>Ширина челюсти</td>\n",
       "      <td>8.067019</td>\n",
       "    </tr>\n",
       "    <tr>\n",
       "      <th>3</th>\n",
       "      <td>Верхнее веко</td>\n",
       "      <td>7.495177</td>\n",
       "    </tr>\n",
       "    <tr>\n",
       "      <th>4</th>\n",
       "      <td>Скулы</td>\n",
       "      <td>4.860432</td>\n",
       "    </tr>\n",
       "    <tr>\n",
       "      <th>5</th>\n",
       "      <td>Размер рта</td>\n",
       "      <td>4.654621</td>\n",
       "    </tr>\n",
       "    <tr>\n",
       "      <th>6</th>\n",
       "      <td>Высота бровей</td>\n",
       "      <td>4.631543</td>\n",
       "    </tr>\n",
       "    <tr>\n",
       "      <th>7</th>\n",
       "      <td>Размер глаз</td>\n",
       "      <td>4.593112</td>\n",
       "    </tr>\n",
       "    <tr>\n",
       "      <th>8</th>\n",
       "      <td>Асимметрия размера глаз</td>\n",
       "      <td>4.548628</td>\n",
       "    </tr>\n",
       "    <tr>\n",
       "      <th>9</th>\n",
       "      <td>Полнота верхней губы</td>\n",
       "      <td>4.295673</td>\n",
       "    </tr>\n",
       "    <tr>\n",
       "      <th>10</th>\n",
       "      <td>Асимметрия носа</td>\n",
       "      <td>4.021250</td>\n",
       "    </tr>\n",
       "    <tr>\n",
       "      <th>11</th>\n",
       "      <td>Форма головы</td>\n",
       "      <td>3.943966</td>\n",
       "    </tr>\n",
       "    <tr>\n",
       "      <th>12</th>\n",
       "      <td>Асимметрия челюсти</td>\n",
       "      <td>3.785842</td>\n",
       "    </tr>\n",
       "    <tr>\n",
       "      <th>13</th>\n",
       "      <td>Асимметрия брови</td>\n",
       "      <td>3.719738</td>\n",
       "    </tr>\n",
       "    <tr>\n",
       "      <th>14</th>\n",
       "      <td>Уголки рта</td>\n",
       "      <td>3.605636</td>\n",
       "    </tr>\n",
       "    <tr>\n",
       "      <th>15</th>\n",
       "      <td>Наклон бровей</td>\n",
       "      <td>3.490127</td>\n",
       "    </tr>\n",
       "    <tr>\n",
       "      <th>16</th>\n",
       "      <td>Асимметрия наклона глаз</td>\n",
       "      <td>3.332573</td>\n",
       "    </tr>\n",
       "    <tr>\n",
       "      <th>17</th>\n",
       "      <td>Наклон глаз</td>\n",
       "      <td>2.996688</td>\n",
       "    </tr>\n",
       "    <tr>\n",
       "      <th>18</th>\n",
       "      <td>Ширина посадки глаз</td>\n",
       "      <td>2.245925</td>\n",
       "    </tr>\n",
       "  </tbody>\n",
       "</table>\n",
       "</div>"
      ],
      "text/plain": [
       "                 Feature Id  Importances\n",
       "0       Полнота нижней губы    16.479664\n",
       "1       Оттопыренность ушей     9.232384\n",
       "2            Ширина челюсти     8.067019\n",
       "3              Верхнее веко     7.495177\n",
       "4                     Скулы     4.860432\n",
       "5                Размер рта     4.654621\n",
       "6             Высота бровей     4.631543\n",
       "7               Размер глаз     4.593112\n",
       "8   Асимметрия размера глаз     4.548628\n",
       "9      Полнота верхней губы     4.295673\n",
       "10          Асимметрия носа     4.021250\n",
       "11             Форма головы     3.943966\n",
       "12       Асимметрия челюсти     3.785842\n",
       "13         Асимметрия брови     3.719738\n",
       "14               Уголки рта     3.605636\n",
       "15            Наклон бровей     3.490127\n",
       "16  Асимметрия наклона глаз     3.332573\n",
       "17              Наклон глаз     2.996688\n",
       "18      Ширина посадки глаз     2.245925"
      ]
     },
     "execution_count": 172,
     "metadata": {},
     "output_type": "execute_result"
    }
   ],
   "source": [
    "staged_probas_df, model_KU = train_model(df=df, cols=features,\n",
    "                                          folds = 4, iterations=500, \\\n",
    "                                          depth=4, learning_rate=0.01)\n",
    "\n",
    "table = model_KU.get_feature_importance(prettified=True)\n",
    "table.to_csv('tables/FEATURE_IMPORTANCE_features.csv', encoding=\"utf-8\")\n",
    "table"
   ]
  },
  {
   "cell_type": "code",
   "execution_count": 170,
   "id": "mature-swimming",
   "metadata": {},
   "outputs": [
    {
     "name": "stdout",
     "output_type": "stream",
     "text": [
      "[0.10360770743942616, 0.17487917347547421, 0.1964277773021463, 0.2167636734552377, 0.24109101206910774, 0.36038746485021594]\n"
     ]
    },
    {
     "data": {
      "text/html": [
       "<div>\n",
       "<style scoped>\n",
       "    .dataframe tbody tr th:only-of-type {\n",
       "        vertical-align: middle;\n",
       "    }\n",
       "\n",
       "    .dataframe tbody tr th {\n",
       "        vertical-align: top;\n",
       "    }\n",
       "\n",
       "    .dataframe thead th {\n",
       "        text-align: right;\n",
       "    }\n",
       "</style>\n",
       "<table border=\"1\" class=\"dataframe\">\n",
       "  <thead>\n",
       "    <tr style=\"text-align: right;\">\n",
       "      <th></th>\n",
       "      <th>y proba</th>\n",
       "      <th>Процент людей, %</th>\n",
       "      <th>Процент мошенников в группе, %</th>\n",
       "      <th>Прибыль, млн.р</th>\n",
       "    </tr>\n",
       "  </thead>\n",
       "  <tbody>\n",
       "    <tr>\n",
       "      <th>0</th>\n",
       "      <td>0.103608</td>\n",
       "      <td>20.00114</td>\n",
       "      <td>4.972927</td>\n",
       "      <td>39.02994</td>\n",
       "    </tr>\n",
       "    <tr>\n",
       "      <th>1</th>\n",
       "      <td>0.174879</td>\n",
       "      <td>19.99829</td>\n",
       "      <td>6.170728</td>\n",
       "      <td>34.72928</td>\n",
       "    </tr>\n",
       "    <tr>\n",
       "      <th>2</th>\n",
       "      <td>0.196428</td>\n",
       "      <td>20.00114</td>\n",
       "      <td>8.007979</td>\n",
       "      <td>31.27060</td>\n",
       "    </tr>\n",
       "    <tr>\n",
       "      <th>3</th>\n",
       "      <td>0.216764</td>\n",
       "      <td>19.98974</td>\n",
       "      <td>9.538067</td>\n",
       "      <td>30.33244</td>\n",
       "    </tr>\n",
       "    <tr>\n",
       "      <th>4</th>\n",
       "      <td>0.241091</td>\n",
       "      <td>20.00684</td>\n",
       "      <td>11.851852</td>\n",
       "      <td>25.17530</td>\n",
       "    </tr>\n",
       "    <tr>\n",
       "      <th>5</th>\n",
       "      <td>0.360387</td>\n",
       "      <td>0.00000</td>\n",
       "      <td>NaN</td>\n",
       "      <td>0.00000</td>\n",
       "    </tr>\n",
       "  </tbody>\n",
       "</table>\n",
       "</div>"
      ],
      "text/plain": [
       "    y proba  Процент людей, %  Процент мошенников в группе, %  Прибыль, млн.р\n",
       "0  0.103608          20.00114                        4.972927        39.02994\n",
       "1  0.174879          19.99829                        6.170728        34.72928\n",
       "2  0.196428          20.00114                        8.007979        31.27060\n",
       "3  0.216764          19.98974                        9.538067        30.33244\n",
       "4  0.241091          20.00684                       11.851852        25.17530\n",
       "5  0.360387           0.00000                             NaN         0.00000"
      ]
     },
     "execution_count": 170,
     "metadata": {},
     "output_type": "execute_result"
    }
   ],
   "source": [
    "table = get_result_table(staged_probas_df[449])\n",
    "table.to_csv('tables/features.csv')\n",
    "table"
   ]
  },
  {
   "cell_type": "code",
   "execution_count": 171,
   "id": "burning-begin",
   "metadata": {},
   "outputs": [
    {
     "name": "stderr",
     "output_type": "stream",
     "text": [
      "/home/nikolay/anaconda3/envs/merlin/lib/python3.7/site-packages/sklearn/utils/deprecation.py:86: FutureWarning: Function plot_roc_curve is deprecated; This will be removed in v0.5.0. Please use scikitplot.metrics.plot_roc instead.\n",
      "  warnings.warn(msg, category=FutureWarning)\n"
     ]
    },
    {
     "data": {
      "image/png": "[encoded data removed]",
      "text/plain": [
       "<Figure size 432x288 with 1 Axes>"
      ]
     },
     "metadata": {
      "needs_background": "light"
     },
     "output_type": "display_data"
    }
   ],
   "source": [
    "# Micro is shows more positive result\n",
    "y_proba = staged_probas_df[499]\n",
    "proba = np.array([1-y_proba, y_proba])\n",
    "skplt.metrics.plot_roc_curve(df['target'].astype(int).values, proba.T, curves=['macro'])\n",
    "plt.show()"
   ]
  },
  {
   "cell_type": "markdown",
   "id": "welcome-browser",
   "metadata": {},
   "source": [
    "# Try with LinearRegression"
   ]
  },
  {
   "cell_type": "code",
   "execution_count": 131,
   "id": "statistical-garbage",
   "metadata": {},
   "outputs": [],
   "source": [
    "df['gender'] = df['gender'].replace({'Мужской': 1, 'Женский': 0})"
   ]
  },
  {
   "cell_type": "code",
   "execution_count": 132,
   "id": "amateur-somerset",
   "metadata": {
    "scrolled": true
   },
   "outputs": [
    {
     "name": "stderr",
     "output_type": "stream",
     "text": [
      "/home/nikolay/anaconda3/envs/merlin/lib/python3.7/site-packages/sklearn/linear_model/_logistic.py:764: ConvergenceWarning: lbfgs failed to converge (status=1):\n",
      "STOP: TOTAL NO. of ITERATIONS REACHED LIMIT.\n",
      "\n",
      "Increase the number of iterations (max_iter) or scale the data as shown in:\n",
      "    https://scikit-learn.org/stable/modules/preprocessing.html\n",
      "Please also refer to the documentation for alternative solver options:\n",
      "    https://scikit-learn.org/stable/modules/linear_model.html#logistic-regression\n",
      "  extra_warning_msg=_LOGISTIC_SOLVER_CONVERGENCE_MSG)\n",
      "/home/nikolay/anaconda3/envs/merlin/lib/python3.7/site-packages/ipykernel_launcher.py:22: DeprecationWarning: scipy.interp is deprecated and will be removed in SciPy 2.0.0, use numpy.interp instead\n",
      "/home/nikolay/anaconda3/envs/merlin/lib/python3.7/site-packages/sklearn/linear_model/_logistic.py:764: ConvergenceWarning: lbfgs failed to converge (status=1):\n",
      "STOP: TOTAL NO. of ITERATIONS REACHED LIMIT.\n",
      "\n",
      "Increase the number of iterations (max_iter) or scale the data as shown in:\n",
      "    https://scikit-learn.org/stable/modules/preprocessing.html\n",
      "Please also refer to the documentation for alternative solver options:\n",
      "    https://scikit-learn.org/stable/modules/linear_model.html#logistic-regression\n",
      "  extra_warning_msg=_LOGISTIC_SOLVER_CONVERGENCE_MSG)\n",
      "/home/nikolay/anaconda3/envs/merlin/lib/python3.7/site-packages/ipykernel_launcher.py:22: DeprecationWarning: scipy.interp is deprecated and will be removed in SciPy 2.0.0, use numpy.interp instead\n",
      "/home/nikolay/anaconda3/envs/merlin/lib/python3.7/site-packages/sklearn/linear_model/_logistic.py:764: ConvergenceWarning: lbfgs failed to converge (status=1):\n",
      "STOP: TOTAL NO. of ITERATIONS REACHED LIMIT.\n",
      "\n",
      "Increase the number of iterations (max_iter) or scale the data as shown in:\n",
      "    https://scikit-learn.org/stable/modules/preprocessing.html\n",
      "Please also refer to the documentation for alternative solver options:\n",
      "    https://scikit-learn.org/stable/modules/linear_model.html#logistic-regression\n",
      "  extra_warning_msg=_LOGISTIC_SOLVER_CONVERGENCE_MSG)\n",
      "/home/nikolay/anaconda3/envs/merlin/lib/python3.7/site-packages/ipykernel_launcher.py:22: DeprecationWarning: scipy.interp is deprecated and will be removed in SciPy 2.0.0, use numpy.interp instead\n",
      "/home/nikolay/anaconda3/envs/merlin/lib/python3.7/site-packages/sklearn/linear_model/_logistic.py:764: ConvergenceWarning: lbfgs failed to converge (status=1):\n",
      "STOP: TOTAL NO. of ITERATIONS REACHED LIMIT.\n",
      "\n",
      "Increase the number of iterations (max_iter) or scale the data as shown in:\n",
      "    https://scikit-learn.org/stable/modules/preprocessing.html\n",
      "Please also refer to the documentation for alternative solver options:\n",
      "    https://scikit-learn.org/stable/modules/linear_model.html#logistic-regression\n",
      "  extra_warning_msg=_LOGISTIC_SOLVER_CONVERGENCE_MSG)\n",
      "/home/nikolay/anaconda3/envs/merlin/lib/python3.7/site-packages/ipykernel_launcher.py:22: DeprecationWarning: scipy.interp is deprecated and will be removed in SciPy 2.0.0, use numpy.interp instead\n",
      "/home/nikolay/anaconda3/envs/merlin/lib/python3.7/site-packages/sklearn/linear_model/_logistic.py:764: ConvergenceWarning: lbfgs failed to converge (status=1):\n",
      "STOP: TOTAL NO. of ITERATIONS REACHED LIMIT.\n",
      "\n",
      "Increase the number of iterations (max_iter) or scale the data as shown in:\n",
      "    https://scikit-learn.org/stable/modules/preprocessing.html\n",
      "Please also refer to the documentation for alternative solver options:\n",
      "    https://scikit-learn.org/stable/modules/linear_model.html#logistic-regression\n",
      "  extra_warning_msg=_LOGISTIC_SOLVER_CONVERGENCE_MSG)\n",
      "/home/nikolay/anaconda3/envs/merlin/lib/python3.7/site-packages/ipykernel_launcher.py:22: DeprecationWarning: scipy.interp is deprecated and will be removed in SciPy 2.0.0, use numpy.interp instead\n"
     ]
    },
    {
     "data": {
      "image/png": "[encoded data removed]",
      "text/plain": [
       "<Figure size 432x288 with 1 Axes>"
      ]
     },
     "metadata": {
      "needs_background": "light"
     },
     "output_type": "display_data"
    }
   ],
   "source": [
    "from sklearn.metrics import roc_curve, auc\n",
    "from sklearn.model_selection import StratifiedKFold\n",
    "from sklearn import svm\n",
    "from scipy import interp\n",
    "\n",
    "n_samples, n_features = df.shape\n",
    "\n",
    "cv = StratifiedKFold(n_splits=5)\n",
    "classifier = LogisticRegression(class_weight ='balanced', C=2.0, penalty='l2', solver='lbfgs')\n",
    "\n",
    "tprs = []\n",
    "aucs = []\n",
    "mean_fpr = np.linspace(0, 1, 100)\n",
    "columns = features+ga#+anketas\n",
    "\n",
    "i = 0\n",
    "X, y = df[columns].values, df['target'].values\n",
    "for train, test in cv.split(X, y):\n",
    "    probas_ = classifier.fit(X[train], y[train]).predict_proba(X[test])\n",
    "    # Compute ROC curve and area the curve\n",
    "    fpr, tpr, thresholds = roc_curve(y[test], probas_[:, 1])\n",
    "    tprs.append(interp(mean_fpr, fpr, tpr))\n",
    "    tprs[-1][0] = 0.0\n",
    "    roc_auc = auc(fpr, tpr)\n",
    "    aucs.append(roc_auc)\n",
    "    plt.plot(fpr, tpr, lw=1, alpha=0.3,\n",
    "             label='ROC fold %d (AUC = %0.2f)' % (i, roc_auc))\n",
    "\n",
    "    i += 1\n",
    "\n",
    "plt.plot([0, 1], [0, 1], linestyle='--', lw=2, color='r',\n",
    "         label='Chance', alpha=.8)\n",
    "\n",
    "mean_tpr = np.mean(tprs, axis=0)\n",
    "mean_tpr[-1] = 1.0\n",
    "mean_auc = auc(mean_fpr, mean_tpr)\n",
    "std_auc = np.std(aucs)\n",
    "plt.plot(mean_fpr, mean_tpr, color='b',\n",
    "         label=r'Mean ROC (AUC = %0.2f $\\pm$ %0.2f)' % (mean_auc, std_auc),\n",
    "         lw=2, alpha=.8)\n",
    "\n",
    "std_tpr = np.std(tprs, axis=0)\n",
    "tprs_upper = np.minimum(mean_tpr + std_tpr, 1)\n",
    "tprs_lower = np.maximum(mean_tpr - std_tpr, 0)\n",
    "plt.fill_between(mean_fpr, tprs_lower, tprs_upper, color='grey', alpha=.2,\n",
    "                 label=r'$\\pm$ 1 std. dev.')\n",
    "\n",
    "plt.xlim([-0.05, 1.05])\n",
    "plt.ylim([-0.05, 1.05])\n",
    "plt.xlabel('False Positive Rate')\n",
    "plt.ylabel('True Positive Rate')\n",
    "plt.title('Receiver operating characteristic example')\n",
    "plt.legend(loc=\"lower right\")\n",
    "plt.show()\n"
   ]
  },
  {
   "cell_type": "code",
   "execution_count": 24,
   "id": "stable-scanner",
   "metadata": {},
   "outputs": [
    {
     "data": {
      "text/plain": [
       "['Асимметрия челюсти',\n",
       " 'Высота бровей',\n",
       " 'Наклон глаз',\n",
       " 'Полнота верхней губы',\n",
       " 'Полнота нижней губы',\n",
       " 'Асимметрия размера глаз',\n",
       " 'Ширина посадки глаз',\n",
       " 'Скулы',\n",
       " 'Форма головы',\n",
       " 'Верхнее веко',\n",
       " 'Асимметрия брови',\n",
       " 'Наклон бровей',\n",
       " 'Размер рта',\n",
       " 'Асимметрия наклона глаз',\n",
       " 'Асимметрия носа',\n",
       " 'Размер глаз',\n",
       " 'Оттопыренность ушей',\n",
       " 'Ширина челюсти',\n",
       " 'Уголки рта',\n",
       " 'age',\n",
       " 'gender',\n",
       " 'source',\n",
       " 'childs',\n",
       " 'education',\n",
       " 'marital_status',\n",
       " 'job']"
      ]
     },
     "execution_count": 24,
     "metadata": {},
     "output_type": "execute_result"
    }
   ],
   "source": [
    "columns"
   ]
  },
  {
   "cell_type": "code",
   "execution_count": null,
   "id": "instrumental-illinois",
   "metadata": {},
   "outputs": [],
   "source": []
  }
 ],
 "metadata": {
  "kernelspec": {
   "display_name": "Python 3",
   "language": "python",
   "name": "python3"
  },
  "language_info": {
   "codemirror_mode": {
    "name": "ipython",
    "version": 3
   },
   "file_extension": ".py",
   "mimetype": "text/x-python",
   "name": "python",
   "nbconvert_exporter": "python",
   "pygments_lexer": "ipython3",
   "version": "3.8.12"
  }
 },
 "nbformat": 4,
 "nbformat_minor": 5
}
