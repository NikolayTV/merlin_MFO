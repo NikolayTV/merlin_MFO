{
 "cells": [
  {
   "cell_type": "code",
   "execution_count": 4,
   "id": "national-badge",
   "metadata": {},
   "outputs": [],
   "source": [
    "%reload_ext autoreload\n",
    "%autoreload 2\n",
    "\n",
    "import pandas as pd\n",
    "import numpy as np\n",
    "import json\n",
    "import os\n",
    "import shutil \n",
    "from tqdm import tqdm_notebook as tqdm\n",
    "import matplotlib.pyplot as plt\n",
    "import cv2\n",
    "\n",
    "from catboost import CatBoostClassifier, Pool\n",
    "from sklearn.model_selection import train_test_split\n",
    "from sklearn.preprocessing import StandardScaler\n",
    "from sklearn.linear_model import LogisticRegression\n",
    "from sklearn.metrics import roc_auc_score\n",
    "from sklearn.preprocessing import LabelEncoder\n",
    "import scikitplot as skplt\n",
    "\n",
    "from itertools import combinations"
   ]
  },
  {
   "cell_type": "code",
   "execution_count": 83,
   "id": "indie-charm",
   "metadata": {},
   "outputs": [
    {
     "name": "stderr",
     "output_type": "stream",
     "text": [
      "/home/nikolay/anaconda3/envs/merlin/lib/python3.7/site-packages/ipykernel_launcher.py:11: TqdmDeprecationWarning: This function will be removed in tqdm==5.0.0\n",
      "Please use `tqdm.notebook.tqdm` instead of `tqdm.tqdm_notebook`\n",
      "  # This is added back by InteractiveShellApp.init_path()\n"
     ]
    },
    {
     "data": {
      "application/vnd.jupyter.widget-view+json": {
       "model_id": "fb9b39f8100940a3bcf027ca8acdfb72",
       "version_major": 2,
       "version_minor": 0
      },
      "text/plain": [
       "HBox(children=(FloatProgress(value=0.0, max=19.0), HTML(value='')))"
      ]
     },
     "metadata": {},
     "output_type": "display_data"
    },
    {
     "name": "stdout",
     "output_type": "stream",
     "text": [
      "\n"
     ]
    }
   ],
   "source": [
    "df = pd.read_csv('df_total.csv', index_col=0)\n",
    "df['gender'] = df['gender'].fillna('Мужской')\n",
    "cols = ['Асимметрия челюсти', 'Высота бровей', 'Наклон глаз',\n",
    "       'Полнота верхней губы', 'Полнота нижней губы',\n",
    "       'Асимметрия размера глаз', 'Ширина посадки глаз', 'Скулы',\n",
    "       'Форма головы', 'Верхнее веко', 'Асимметрия брови', 'Наклон бровей',\n",
    "       'Размер рта', 'Асимметрия наклона глаз', 'Асимметрия носа',\n",
    "       'Размер глаз', 'Оттопыренность ушей', 'Ширина челюсти', 'Уголки рта',\n",
    "       ]\n",
    "\n",
    "for col in tqdm(cols):\n",
    "    df[col] = (df[col] - df[col].quantile(0.01)) / (df[col].quantile(0.99) - df[col].quantile(0.001))\n",
    "    \n",
    "df['Категория'] = df['fraud'].replace({True: 'Мошенник', False: 'Не мошенник'})\n",
    "features = ['Асимметрия челюсти', 'Высота бровей', 'Наклон глаз',\n",
    "           'Полнота верхней губы', 'Полнота нижней губы',\n",
    "           'Асимметрия размера глаз', 'Ширина посадки глаз', 'Скулы',\n",
    "           'Форма головы', 'Верхнее веко', 'Асимметрия брови', 'Наклон бровей',\n",
    "           'Размер рта', 'Асимметрия наклона глаз', 'Асимметрия носа',\n",
    "           'Размер глаз', 'Оттопыренность ушей', 'Ширина челюсти', 'Уголки рта',\n",
    "           ]\n",
    "\n",
    "anketas = ['source', 'childs', 'education', 'marital_status', 'job']\n",
    "\n",
    "ga = ['age', 'gender']"
   ]
  },
  {
   "cell_type": "code",
   "execution_count": 114,
   "id": "temporal-needle",
   "metadata": {},
   "outputs": [],
   "source": [
    "from sklearn.model_selection import StratifiedKFold \n",
    "\n",
    "def train_model(df, cols, folds, iterations, depth, ):\n",
    "#                 depth, colsample_bylevel, subsample, bagging_temperature, random_strength, l2_leaf_reg):\n",
    "    \n",
    "    X = df[cols]\n",
    "    cat_features = X.select_dtypes('object').columns.tolist()\n",
    "    y = df['Категория']\n",
    "\n",
    "    kf = StratifiedKFold(n_splits=folds, shuffle=True, random_state=6)\n",
    "    staged_probas_df =  pd.DataFrame(np.zeros((X.shape[0],iterations)), index=X.index)\n",
    "\n",
    "    for train_index, test_index in kf.split(X,y):\n",
    "        X_train, X_test = X.iloc[train_index], X.iloc[test_index]\n",
    "        y_train, y_test = y.iloc[train_index], y.iloc[test_index]\n",
    "\n",
    "        model = CatBoostClassifier(iterations=iterations, \n",
    "                                   depth=depth,\n",
    "                                   eval_metric='AUC',\n",
    "#                                    learning_rate=learning_rate,\n",
    "#                                    loss_function='Logloss',\n",
    "#                                    scale_pos_weight=4,\n",
    "#                                    colsample_bylevel=colsample_bylevel,\n",
    "#                                    subsample=subsample,\n",
    "# #                                    bagging_temperature=bagging_temperature,\n",
    "#                                    random_strength=random_strength,\n",
    "#                                    l2_leaf_reg=l2_leaf_reg,\n",
    "#                                    boosting_type='Plain', # 'Plain'\n",
    "#                                    bootstrap_type='Bernoulli',# 'Bernoulli' Bayesian\n",
    "#                                    max_ctr_complexity=2,\n",
    "#                                    task_type='GPU',\n",
    "                                  )\n",
    "\n",
    "        model.fit(\n",
    "            X_train, y_train,\n",
    "            eval_set = (X_test, y_test),\n",
    "            cat_features=cat_features,\n",
    "            verbose=False,\n",
    "            plot=True,\n",
    "            use_best_model=False\n",
    "        );\n",
    "\n",
    "        staged_probas = model.staged_predict_proba(X_test)\n",
    "        for i, staged_proba in enumerate(staged_probas):\n",
    "            staged_probas_df.iloc[test_index, i] = staged_proba[:,1]\n",
    "        \n",
    "    return staged_probas_df, model\n",
    "\n",
    "\n",
    "def get_result_table(y_proba):\n",
    "    df['y_proba'] = y_proba\n",
    "\n",
    "    quantiles = []\n",
    "    step = 0.2\n",
    "\n",
    "    df['target'] = df['Категория'] == 'Мошенник'\n",
    "\n",
    "    for i in np.arange(0, 1+step, step):\n",
    "        if i > 1: i = 1\n",
    "        quant = df['y_proba'].quantile(i)\n",
    "        quantiles.append(quant)\n",
    "\n",
    "    profit_abs = []\n",
    "    loaners_amount = []\n",
    "    good_bad = []\n",
    "\n",
    "    for i, quant in enumerate(quantiles):\n",
    "        if i == 0: quant = 0\n",
    "        i_next = i + 1\n",
    "        if i_next == len(quantiles): i_next = len(quantiles) - 1\n",
    "        q = df[(df['y_proba'] >= quant) & (df['y_proba'] < quantiles[i_next])]\n",
    "        profit_abs.append(round(pd.Series(q['total_given'] - q['total_taken']).sum()/1000000, 5))\n",
    "        loaners_amount.append(q.shape[0])\n",
    "        good_bad.append(q['target'].mean()*100)\n",
    "        i_old = quantiles[i-1]\n",
    "\n",
    "    print(quantiles)\n",
    "    df2 = pd.DataFrame()\n",
    "    df2['y proba'] = quantiles # np.append(np.arange(0, 0.1, 0.02), \n",
    "    df2['Количество людей'] = loaners_amount\n",
    "    df2['Процент людей, %'] = df2['Количество людей'] * 100 / df.shape[0]\n",
    "    df2['Процент мошенников в группе, %'] = good_bad\n",
    "    df2['Прибыль, млн.р'] = np.array(profit_abs)*2\n",
    "\n",
    "    return df2.drop('Количество людей', axis=1)"
   ]
  },
  {
   "cell_type": "code",
   "execution_count": 115,
   "id": "spread-policy",
   "metadata": {},
   "outputs": [
    {
     "data": {
      "application/vnd.jupyter.widget-view+json": {
       "model_id": "afbcf57526164bf3b9fa44e3c065089d",
       "version_major": 2,
       "version_minor": 0
      },
      "text/plain": [
       "MetricVisualizer(layout=Layout(align_self='stretch', height='500px'))"
      ]
     },
     "metadata": {},
     "output_type": "display_data"
    },
    {
     "data": {
      "application/vnd.jupyter.widget-view+json": {
       "model_id": "ab709f8940064e5eb36d862bd28eb164",
       "version_major": 2,
       "version_minor": 0
      },
      "text/plain": [
       "MetricVisualizer(layout=Layout(align_self='stretch', height='500px'))"
      ]
     },
     "metadata": {},
     "output_type": "display_data"
    },
    {
     "data": {
      "application/vnd.jupyter.widget-view+json": {
       "model_id": "2c0f1e6ab2b243c795f206d22a42274a",
       "version_major": 2,
       "version_minor": 0
      },
      "text/plain": [
       "MetricVisualizer(layout=Layout(align_self='stretch', height='500px'))"
      ]
     },
     "metadata": {},
     "output_type": "display_data"
    },
    {
     "data": {
      "application/vnd.jupyter.widget-view+json": {
       "model_id": "27be9ce13702489fbfee8bd8b93fd8ac",
       "version_major": 2,
       "version_minor": 0
      },
      "text/plain": [
       "MetricVisualizer(layout=Layout(align_self='stretch', height='500px'))"
      ]
     },
     "metadata": {},
     "output_type": "display_data"
    },
    {
     "data": {
      "application/vnd.jupyter.widget-view+json": {
       "model_id": "02a481c6fae84788915c14f8b5b8ffe1",
       "version_major": 2,
       "version_minor": 0
      },
      "text/plain": [
       "MetricVisualizer(layout=Layout(align_self='stretch', height='500px'))"
      ]
     },
     "metadata": {},
     "output_type": "display_data"
    },
    {
     "data": {
      "application/vnd.jupyter.widget-view+json": {
       "model_id": "6e50a77f99be4794b32e2cec79f5b456",
       "version_major": 2,
       "version_minor": 0
      },
      "text/plain": [
       "MetricVisualizer(layout=Layout(align_self='stretch', height='500px'))"
      ]
     },
     "metadata": {},
     "output_type": "display_data"
    },
    {
     "data": {
      "application/vnd.jupyter.widget-view+json": {
       "model_id": "d08ba3e122484518b4045cda1cc31292",
       "version_major": 2,
       "version_minor": 0
      },
      "text/plain": [
       "MetricVisualizer(layout=Layout(align_self='stretch', height='500px'))"
      ]
     },
     "metadata": {},
     "output_type": "display_data"
    },
    {
     "data": {
      "application/vnd.jupyter.widget-view+json": {
       "model_id": "752f30e2ee2c46f698d3db553fea34b2",
       "version_major": 2,
       "version_minor": 0
      },
      "text/plain": [
       "MetricVisualizer(layout=Layout(align_self='stretch', height='500px'))"
      ]
     },
     "metadata": {},
     "output_type": "display_data"
    },
    {
     "data": {
      "application/vnd.jupyter.widget-view+json": {
       "model_id": "ce011a3064b74b35b6be9dac0026f138",
       "version_major": 2,
       "version_minor": 0
      },
      "text/plain": [
       "MetricVisualizer(layout=Layout(align_self='stretch', height='500px'))"
      ]
     },
     "metadata": {},
     "output_type": "display_data"
    },
    {
     "data": {
      "application/vnd.jupyter.widget-view+json": {
       "model_id": "03e147fbd0104ca48afd938cf99d3bd1",
       "version_major": 2,
       "version_minor": 0
      },
      "text/plain": [
       "MetricVisualizer(layout=Layout(align_self='stretch', height='500px'))"
      ]
     },
     "metadata": {},
     "output_type": "display_data"
    },
    {
     "data": {
      "text/html": [
       "<div>\n",
       "<style scoped>\n",
       "    .dataframe tbody tr th:only-of-type {\n",
       "        vertical-align: middle;\n",
       "    }\n",
       "\n",
       "    .dataframe tbody tr th {\n",
       "        vertical-align: top;\n",
       "    }\n",
       "\n",
       "    .dataframe thead th {\n",
       "        text-align: right;\n",
       "    }\n",
       "</style>\n",
       "<table border=\"1\" class=\"dataframe\">\n",
       "  <thead>\n",
       "    <tr style=\"text-align: right;\">\n",
       "      <th></th>\n",
       "      <th>Feature Id</th>\n",
       "      <th>Importances</th>\n",
       "    </tr>\n",
       "  </thead>\n",
       "  <tbody>\n",
       "    <tr>\n",
       "      <th>0</th>\n",
       "      <td>Размер рта</td>\n",
       "      <td>7.146778</td>\n",
       "    </tr>\n",
       "    <tr>\n",
       "      <th>1</th>\n",
       "      <td>Форма головы</td>\n",
       "      <td>6.871402</td>\n",
       "    </tr>\n",
       "    <tr>\n",
       "      <th>2</th>\n",
       "      <td>Уголки рта</td>\n",
       "      <td>6.740758</td>\n",
       "    </tr>\n",
       "    <tr>\n",
       "      <th>3</th>\n",
       "      <td>Скулы</td>\n",
       "      <td>5.722430</td>\n",
       "    </tr>\n",
       "    <tr>\n",
       "      <th>4</th>\n",
       "      <td>Оттопыренность ушей</td>\n",
       "      <td>5.707657</td>\n",
       "    </tr>\n",
       "    <tr>\n",
       "      <th>5</th>\n",
       "      <td>Высота бровей</td>\n",
       "      <td>5.527047</td>\n",
       "    </tr>\n",
       "    <tr>\n",
       "      <th>6</th>\n",
       "      <td>Полнота нижней губы</td>\n",
       "      <td>5.493646</td>\n",
       "    </tr>\n",
       "    <tr>\n",
       "      <th>7</th>\n",
       "      <td>Верхнее веко</td>\n",
       "      <td>5.277808</td>\n",
       "    </tr>\n",
       "    <tr>\n",
       "      <th>8</th>\n",
       "      <td>Асимметрия наклона глаз</td>\n",
       "      <td>5.264912</td>\n",
       "    </tr>\n",
       "    <tr>\n",
       "      <th>9</th>\n",
       "      <td>Ширина посадки глаз</td>\n",
       "      <td>5.136842</td>\n",
       "    </tr>\n",
       "    <tr>\n",
       "      <th>10</th>\n",
       "      <td>Асимметрия челюсти</td>\n",
       "      <td>5.047936</td>\n",
       "    </tr>\n",
       "    <tr>\n",
       "      <th>11</th>\n",
       "      <td>Размер глаз</td>\n",
       "      <td>5.012399</td>\n",
       "    </tr>\n",
       "    <tr>\n",
       "      <th>12</th>\n",
       "      <td>Ширина челюсти</td>\n",
       "      <td>4.916896</td>\n",
       "    </tr>\n",
       "    <tr>\n",
       "      <th>13</th>\n",
       "      <td>Асимметрия брови</td>\n",
       "      <td>4.804646</td>\n",
       "    </tr>\n",
       "    <tr>\n",
       "      <th>14</th>\n",
       "      <td>Асимметрия размера глаз</td>\n",
       "      <td>4.632930</td>\n",
       "    </tr>\n",
       "    <tr>\n",
       "      <th>15</th>\n",
       "      <td>Наклон бровей</td>\n",
       "      <td>4.618546</td>\n",
       "    </tr>\n",
       "    <tr>\n",
       "      <th>16</th>\n",
       "      <td>Наклон глаз</td>\n",
       "      <td>4.467456</td>\n",
       "    </tr>\n",
       "    <tr>\n",
       "      <th>17</th>\n",
       "      <td>Полнота верхней губы</td>\n",
       "      <td>4.046392</td>\n",
       "    </tr>\n",
       "    <tr>\n",
       "      <th>18</th>\n",
       "      <td>Асимметрия носа</td>\n",
       "      <td>3.563520</td>\n",
       "    </tr>\n",
       "  </tbody>\n",
       "</table>\n",
       "</div>"
      ],
      "text/plain": [
       "                 Feature Id  Importances\n",
       "0                Размер рта     7.146778\n",
       "1              Форма головы     6.871402\n",
       "2                Уголки рта     6.740758\n",
       "3                     Скулы     5.722430\n",
       "4       Оттопыренность ушей     5.707657\n",
       "5             Высота бровей     5.527047\n",
       "6       Полнота нижней губы     5.493646\n",
       "7              Верхнее веко     5.277808\n",
       "8   Асимметрия наклона глаз     5.264912\n",
       "9       Ширина посадки глаз     5.136842\n",
       "10       Асимметрия челюсти     5.047936\n",
       "11              Размер глаз     5.012399\n",
       "12           Ширина челюсти     4.916896\n",
       "13         Асимметрия брови     4.804646\n",
       "14  Асимметрия размера глаз     4.632930\n",
       "15            Наклон бровей     4.618546\n",
       "16              Наклон глаз     4.467456\n",
       "17     Полнота верхней губы     4.046392\n",
       "18          Асимметрия носа     3.563520"
      ]
     },
     "execution_count": 115,
     "metadata": {},
     "output_type": "execute_result"
    }
   ],
   "source": [
    "staged_probas_df, model_KU = train_model(df=df, cols=features,\n",
    "                                          folds = 10, iterations=500, \\\n",
    "                                          depth=4)\n",
    "\n",
    "model_KU.get_feature_importance(prettified=True)"
   ]
  },
  {
   "cell_type": "code",
   "execution_count": 116,
   "id": "ruled-vacation",
   "metadata": {},
   "outputs": [
    {
     "name": "stdout",
     "output_type": "stream",
     "text": [
      "[0.17749434447079343, 0.6308604241354986, 0.678200771456314, 0.7187916845627053, 0.7656704228238786, 0.9371110141396972]\n"
     ]
    },
    {
     "data": {
      "text/html": [
       "<div>\n",
       "<style scoped>\n",
       "    .dataframe tbody tr th:only-of-type {\n",
       "        vertical-align: middle;\n",
       "    }\n",
       "\n",
       "    .dataframe tbody tr th {\n",
       "        vertical-align: top;\n",
       "    }\n",
       "\n",
       "    .dataframe thead th {\n",
       "        text-align: right;\n",
       "    }\n",
       "</style>\n",
       "<table border=\"1\" class=\"dataframe\">\n",
       "  <thead>\n",
       "    <tr style=\"text-align: right;\">\n",
       "      <th></th>\n",
       "      <th>y proba</th>\n",
       "      <th>Процент людей, %</th>\n",
       "      <th>Процент мошенников в группе, %</th>\n",
       "      <th>Прибыль, млн.р</th>\n",
       "    </tr>\n",
       "  </thead>\n",
       "  <tbody>\n",
       "    <tr>\n",
       "      <th>0</th>\n",
       "      <td>0.177494</td>\n",
       "      <td>20.002426</td>\n",
       "      <td>34.627047</td>\n",
       "      <td>-1.10856</td>\n",
       "    </tr>\n",
       "    <tr>\n",
       "      <th>1</th>\n",
       "      <td>0.630860</td>\n",
       "      <td>20.002426</td>\n",
       "      <td>36.021831</td>\n",
       "      <td>-1.09328</td>\n",
       "    </tr>\n",
       "    <tr>\n",
       "      <th>2</th>\n",
       "      <td>0.678201</td>\n",
       "      <td>19.990296</td>\n",
       "      <td>34.890777</td>\n",
       "      <td>-0.76474</td>\n",
       "    </tr>\n",
       "    <tr>\n",
       "      <th>3</th>\n",
       "      <td>0.718792</td>\n",
       "      <td>20.002426</td>\n",
       "      <td>28.744694</td>\n",
       "      <td>-0.60580</td>\n",
       "    </tr>\n",
       "    <tr>\n",
       "      <th>4</th>\n",
       "      <td>0.765670</td>\n",
       "      <td>19.978166</td>\n",
       "      <td>18.822101</td>\n",
       "      <td>0.37790</td>\n",
       "    </tr>\n",
       "    <tr>\n",
       "      <th>5</th>\n",
       "      <td>0.937111</td>\n",
       "      <td>0.000000</td>\n",
       "      <td>NaN</td>\n",
       "      <td>0.00000</td>\n",
       "    </tr>\n",
       "  </tbody>\n",
       "</table>\n",
       "</div>"
      ],
      "text/plain": [
       "    y proba  Процент людей, %  Процент мошенников в группе, %  Прибыль, млн.р\n",
       "0  0.177494         20.002426                       34.627047        -1.10856\n",
       "1  0.630860         20.002426                       36.021831        -1.09328\n",
       "2  0.678201         19.990296                       34.890777        -0.76474\n",
       "3  0.718792         20.002426                       28.744694        -0.60580\n",
       "4  0.765670         19.978166                       18.822101         0.37790\n",
       "5  0.937111          0.000000                             NaN         0.00000"
      ]
     },
     "execution_count": 116,
     "metadata": {},
     "output_type": "execute_result"
    }
   ],
   "source": [
    "get_result_table(staged_probas_df[449])"
   ]
  },
  {
   "cell_type": "code",
   "execution_count": 117,
   "id": "intelligent-sailing",
   "metadata": {
    "scrolled": true
   },
   "outputs": [
    {
     "name": "stderr",
     "output_type": "stream",
     "text": [
      "/home/nikolay/anaconda3/envs/merlin/lib/python3.7/site-packages/sklearn/utils/deprecation.py:86: FutureWarning: Function plot_roc_curve is deprecated; This will be removed in v0.5.0. Please use scikitplot.metrics.plot_roc instead.\n",
      "  warnings.warn(msg, category=FutureWarning)\n"
     ]
    },
    {
     "data": {
      "image/png": "[encoded data removed]",
      "text/plain": [
       "<Figure size 432x288 with 1 Axes>"
      ]
     },
     "metadata": {
      "needs_background": "light"
     },
     "output_type": "display_data"
    }
   ],
   "source": [
    "# Micro is shows more positive result\n",
    "y_proba = staged_probas_df[499]\n",
    "proba = np.array([y_proba, 1-y_proba])\n",
    "skplt.metrics.plot_roc_curve(df['target'].astype(int).values, proba.T, curves=['macro'])\n",
    "plt.show()"
   ]
  },
  {
   "cell_type": "markdown",
   "id": "pursuant-contamination",
   "metadata": {},
   "source": [
    "### Features + GA"
   ]
  },
  {
   "cell_type": "code",
   "execution_count": 118,
   "id": "south-suite",
   "metadata": {
    "scrolled": true
   },
   "outputs": [
    {
     "data": {
      "application/vnd.jupyter.widget-view+json": {
       "model_id": "57b32f21605044b7aa6a7fa3191e26f9",
       "version_major": 2,
       "version_minor": 0
      },
      "text/plain": [
       "MetricVisualizer(layout=Layout(align_self='stretch', height='500px'))"
      ]
     },
     "metadata": {},
     "output_type": "display_data"
    },
    {
     "data": {
      "application/vnd.jupyter.widget-view+json": {
       "model_id": "afdf6fff208b4b6ab63508a56cd07614",
       "version_major": 2,
       "version_minor": 0
      },
      "text/plain": [
       "MetricVisualizer(layout=Layout(align_self='stretch', height='500px'))"
      ]
     },
     "metadata": {},
     "output_type": "display_data"
    },
    {
     "data": {
      "application/vnd.jupyter.widget-view+json": {
       "model_id": "d571b729ce994fb8a3dca90de3e6de3b",
       "version_major": 2,
       "version_minor": 0
      },
      "text/plain": [
       "MetricVisualizer(layout=Layout(align_self='stretch', height='500px'))"
      ]
     },
     "metadata": {},
     "output_type": "display_data"
    },
    {
     "data": {
      "application/vnd.jupyter.widget-view+json": {
       "model_id": "a007cf0f8a71418f937d7af3dddefc99",
       "version_major": 2,
       "version_minor": 0
      },
      "text/plain": [
       "MetricVisualizer(layout=Layout(align_self='stretch', height='500px'))"
      ]
     },
     "metadata": {},
     "output_type": "display_data"
    },
    {
     "data": {
      "application/vnd.jupyter.widget-view+json": {
       "model_id": "4259f709a9bf43a7a3499cae5cd9db99",
       "version_major": 2,
       "version_minor": 0
      },
      "text/plain": [
       "MetricVisualizer(layout=Layout(align_self='stretch', height='500px'))"
      ]
     },
     "metadata": {},
     "output_type": "display_data"
    },
    {
     "data": {
      "application/vnd.jupyter.widget-view+json": {
       "model_id": "e2bb63bd912c47db9cb09a043f53dfcc",
       "version_major": 2,
       "version_minor": 0
      },
      "text/plain": [
       "MetricVisualizer(layout=Layout(align_self='stretch', height='500px'))"
      ]
     },
     "metadata": {},
     "output_type": "display_data"
    },
    {
     "data": {
      "application/vnd.jupyter.widget-view+json": {
       "model_id": "da8dab1e87ec4fc58be989f84f57d67e",
       "version_major": 2,
       "version_minor": 0
      },
      "text/plain": [
       "MetricVisualizer(layout=Layout(align_self='stretch', height='500px'))"
      ]
     },
     "metadata": {},
     "output_type": "display_data"
    },
    {
     "data": {
      "application/vnd.jupyter.widget-view+json": {
       "model_id": "7894c62e14de43f392664ebd8d7628e3",
       "version_major": 2,
       "version_minor": 0
      },
      "text/plain": [
       "MetricVisualizer(layout=Layout(align_self='stretch', height='500px'))"
      ]
     },
     "metadata": {},
     "output_type": "display_data"
    },
    {
     "data": {
      "application/vnd.jupyter.widget-view+json": {
       "model_id": "0294f6e3547e41da8b508506ef36c28e",
       "version_major": 2,
       "version_minor": 0
      },
      "text/plain": [
       "MetricVisualizer(layout=Layout(align_self='stretch', height='500px'))"
      ]
     },
     "metadata": {},
     "output_type": "display_data"
    },
    {
     "data": {
      "application/vnd.jupyter.widget-view+json": {
       "model_id": "5bcab30ff19a423ca7cc32221276649c",
       "version_major": 2,
       "version_minor": 0
      },
      "text/plain": [
       "MetricVisualizer(layout=Layout(align_self='stretch', height='500px'))"
      ]
     },
     "metadata": {},
     "output_type": "display_data"
    },
    {
     "data": {
      "text/html": [
       "<div>\n",
       "<style scoped>\n",
       "    .dataframe tbody tr th:only-of-type {\n",
       "        vertical-align: middle;\n",
       "    }\n",
       "\n",
       "    .dataframe tbody tr th {\n",
       "        vertical-align: top;\n",
       "    }\n",
       "\n",
       "    .dataframe thead th {\n",
       "        text-align: right;\n",
       "    }\n",
       "</style>\n",
       "<table border=\"1\" class=\"dataframe\">\n",
       "  <thead>\n",
       "    <tr style=\"text-align: right;\">\n",
       "      <th></th>\n",
       "      <th>Feature Id</th>\n",
       "      <th>Importances</th>\n",
       "    </tr>\n",
       "  </thead>\n",
       "  <tbody>\n",
       "    <tr>\n",
       "      <th>0</th>\n",
       "      <td>age</td>\n",
       "      <td>6.716726</td>\n",
       "    </tr>\n",
       "    <tr>\n",
       "      <th>1</th>\n",
       "      <td>Уголки рта</td>\n",
       "      <td>6.547374</td>\n",
       "    </tr>\n",
       "    <tr>\n",
       "      <th>2</th>\n",
       "      <td>Размер рта</td>\n",
       "      <td>6.227347</td>\n",
       "    </tr>\n",
       "    <tr>\n",
       "      <th>3</th>\n",
       "      <td>Скулы</td>\n",
       "      <td>6.224277</td>\n",
       "    </tr>\n",
       "    <tr>\n",
       "      <th>4</th>\n",
       "      <td>Форма головы</td>\n",
       "      <td>5.852507</td>\n",
       "    </tr>\n",
       "    <tr>\n",
       "      <th>5</th>\n",
       "      <td>Высота бровей</td>\n",
       "      <td>5.406071</td>\n",
       "    </tr>\n",
       "    <tr>\n",
       "      <th>6</th>\n",
       "      <td>Асимметрия размера глаз</td>\n",
       "      <td>5.334786</td>\n",
       "    </tr>\n",
       "    <tr>\n",
       "      <th>7</th>\n",
       "      <td>Наклон глаз</td>\n",
       "      <td>5.038115</td>\n",
       "    </tr>\n",
       "    <tr>\n",
       "      <th>8</th>\n",
       "      <td>Асимметрия наклона глаз</td>\n",
       "      <td>4.892505</td>\n",
       "    </tr>\n",
       "    <tr>\n",
       "      <th>9</th>\n",
       "      <td>Асимметрия челюсти</td>\n",
       "      <td>4.840362</td>\n",
       "    </tr>\n",
       "    <tr>\n",
       "      <th>10</th>\n",
       "      <td>Размер глаз</td>\n",
       "      <td>4.585900</td>\n",
       "    </tr>\n",
       "    <tr>\n",
       "      <th>11</th>\n",
       "      <td>Верхнее веко</td>\n",
       "      <td>4.495757</td>\n",
       "    </tr>\n",
       "    <tr>\n",
       "      <th>12</th>\n",
       "      <td>Полнота нижней губы</td>\n",
       "      <td>4.479758</td>\n",
       "    </tr>\n",
       "    <tr>\n",
       "      <th>13</th>\n",
       "      <td>Ширина посадки глаз</td>\n",
       "      <td>4.402906</td>\n",
       "    </tr>\n",
       "    <tr>\n",
       "      <th>14</th>\n",
       "      <td>Наклон бровей</td>\n",
       "      <td>4.328077</td>\n",
       "    </tr>\n",
       "    <tr>\n",
       "      <th>15</th>\n",
       "      <td>Оттопыренность ушей</td>\n",
       "      <td>4.261749</td>\n",
       "    </tr>\n",
       "    <tr>\n",
       "      <th>16</th>\n",
       "      <td>Асимметрия брови</td>\n",
       "      <td>4.058266</td>\n",
       "    </tr>\n",
       "    <tr>\n",
       "      <th>17</th>\n",
       "      <td>Полнота верхней губы</td>\n",
       "      <td>3.721963</td>\n",
       "    </tr>\n",
       "    <tr>\n",
       "      <th>18</th>\n",
       "      <td>Ширина челюсти</td>\n",
       "      <td>3.494259</td>\n",
       "    </tr>\n",
       "    <tr>\n",
       "      <th>19</th>\n",
       "      <td>Асимметрия носа</td>\n",
       "      <td>3.194667</td>\n",
       "    </tr>\n",
       "    <tr>\n",
       "      <th>20</th>\n",
       "      <td>gender</td>\n",
       "      <td>1.896627</td>\n",
       "    </tr>\n",
       "  </tbody>\n",
       "</table>\n",
       "</div>"
      ],
      "text/plain": [
       "                 Feature Id  Importances\n",
       "0                       age     6.716726\n",
       "1                Уголки рта     6.547374\n",
       "2                Размер рта     6.227347\n",
       "3                     Скулы     6.224277\n",
       "4              Форма головы     5.852507\n",
       "5             Высота бровей     5.406071\n",
       "6   Асимметрия размера глаз     5.334786\n",
       "7               Наклон глаз     5.038115\n",
       "8   Асимметрия наклона глаз     4.892505\n",
       "9        Асимметрия челюсти     4.840362\n",
       "10              Размер глаз     4.585900\n",
       "11             Верхнее веко     4.495757\n",
       "12      Полнота нижней губы     4.479758\n",
       "13      Ширина посадки глаз     4.402906\n",
       "14            Наклон бровей     4.328077\n",
       "15      Оттопыренность ушей     4.261749\n",
       "16         Асимметрия брови     4.058266\n",
       "17     Полнота верхней губы     3.721963\n",
       "18           Ширина челюсти     3.494259\n",
       "19          Асимметрия носа     3.194667\n",
       "20                   gender     1.896627"
      ]
     },
     "execution_count": 118,
     "metadata": {},
     "output_type": "execute_result"
    }
   ],
   "source": [
    "staged_probas_df, model_KU = train_model(df=df, cols=features+ga,\n",
    "                                          folds = 10, iterations=500, \\\n",
    "                                          depth=4)\n",
    "\n",
    "model_KU.get_feature_importance(prettified=True)"
   ]
  },
  {
   "cell_type": "code",
   "execution_count": 119,
   "id": "atmospheric-tradition",
   "metadata": {},
   "outputs": [
    {
     "name": "stdout",
     "output_type": "stream",
     "text": [
      "[0.13178716173205723, 0.6289064858174327, 0.6772542752658098, 0.7183066350630248, 0.7660480959836541, 0.9474386444480003]\n"
     ]
    },
    {
     "data": {
      "text/html": [
       "<div>\n",
       "<style scoped>\n",
       "    .dataframe tbody tr th:only-of-type {\n",
       "        vertical-align: middle;\n",
       "    }\n",
       "\n",
       "    .dataframe tbody tr th {\n",
       "        vertical-align: top;\n",
       "    }\n",
       "\n",
       "    .dataframe thead th {\n",
       "        text-align: right;\n",
       "    }\n",
       "</style>\n",
       "<table border=\"1\" class=\"dataframe\">\n",
       "  <thead>\n",
       "    <tr style=\"text-align: right;\">\n",
       "      <th></th>\n",
       "      <th>y proba</th>\n",
       "      <th>Процент людей, %</th>\n",
       "      <th>Процент мошенников в группе, %</th>\n",
       "      <th>Прибыль, млн.р</th>\n",
       "    </tr>\n",
       "  </thead>\n",
       "  <tbody>\n",
       "    <tr>\n",
       "      <th>0</th>\n",
       "      <td>0.131787</td>\n",
       "      <td>20.002426</td>\n",
       "      <td>36.870831</td>\n",
       "      <td>-1.63810</td>\n",
       "    </tr>\n",
       "    <tr>\n",
       "      <th>1</th>\n",
       "      <td>0.628906</td>\n",
       "      <td>20.002426</td>\n",
       "      <td>34.990904</td>\n",
       "      <td>-0.64486</td>\n",
       "    </tr>\n",
       "    <tr>\n",
       "      <th>2</th>\n",
       "      <td>0.677254</td>\n",
       "      <td>19.990296</td>\n",
       "      <td>34.466019</td>\n",
       "      <td>-0.95418</td>\n",
       "    </tr>\n",
       "    <tr>\n",
       "      <th>3</th>\n",
       "      <td>0.718307</td>\n",
       "      <td>20.002426</td>\n",
       "      <td>29.229836</td>\n",
       "      <td>-0.53350</td>\n",
       "    </tr>\n",
       "    <tr>\n",
       "      <th>4</th>\n",
       "      <td>0.766048</td>\n",
       "      <td>19.990296</td>\n",
       "      <td>17.597087</td>\n",
       "      <td>0.54470</td>\n",
       "    </tr>\n",
       "    <tr>\n",
       "      <th>5</th>\n",
       "      <td>0.947439</td>\n",
       "      <td>0.000000</td>\n",
       "      <td>NaN</td>\n",
       "      <td>0.00000</td>\n",
       "    </tr>\n",
       "  </tbody>\n",
       "</table>\n",
       "</div>"
      ],
      "text/plain": [
       "    y proba  Процент людей, %  Процент мошенников в группе, %  Прибыль, млн.р\n",
       "0  0.131787         20.002426                       36.870831        -1.63810\n",
       "1  0.628906         20.002426                       34.990904        -0.64486\n",
       "2  0.677254         19.990296                       34.466019        -0.95418\n",
       "3  0.718307         20.002426                       29.229836        -0.53350\n",
       "4  0.766048         19.990296                       17.597087         0.54470\n",
       "5  0.947439          0.000000                             NaN         0.00000"
      ]
     },
     "execution_count": 119,
     "metadata": {},
     "output_type": "execute_result"
    }
   ],
   "source": [
    "get_result_table(staged_probas_df[449])"
   ]
  },
  {
   "cell_type": "code",
   "execution_count": 120,
   "id": "atmospheric-party",
   "metadata": {},
   "outputs": [
    {
     "name": "stderr",
     "output_type": "stream",
     "text": [
      "/home/nikolay/anaconda3/envs/merlin/lib/python3.7/site-packages/sklearn/utils/deprecation.py:86: FutureWarning: Function plot_roc_curve is deprecated; This will be removed in v0.5.0. Please use scikitplot.metrics.plot_roc instead.\n",
      "  warnings.warn(msg, category=FutureWarning)\n"
     ]
    },
    {
     "data": {
      "image/png": "[encoded data removed]",
      "text/plain": [
       "<Figure size 432x288 with 1 Axes>"
      ]
     },
     "metadata": {
      "needs_background": "light"
     },
     "output_type": "display_data"
    }
   ],
   "source": [
    "# Micro is shows more positive result\n",
    "y_proba = staged_probas_df[499]\n",
    "proba = np.array([y_proba, 1-y_proba])\n",
    "skplt.metrics.plot_roc_curve(df['target'].astype(int).values, proba.T, curves=['macro'])\n",
    "plt.show()"
   ]
  },
  {
   "cell_type": "markdown",
   "id": "sunrise-stack",
   "metadata": {},
   "source": [
    "# Only GA"
   ]
  },
  {
   "cell_type": "code",
   "execution_count": 111,
   "id": "documentary-envelope",
   "metadata": {},
   "outputs": [
    {
     "data": {
      "application/vnd.jupyter.widget-view+json": {
       "model_id": "b4693e26e683459faa628c5ecf0f5189",
       "version_major": 2,
       "version_minor": 0
      },
      "text/plain": [
       "MetricVisualizer(layout=Layout(align_self='stretch', height='500px'))"
      ]
     },
     "metadata": {},
     "output_type": "display_data"
    },
    {
     "data": {
      "application/vnd.jupyter.widget-view+json": {
       "model_id": "b29dc1bccb344373a56fab38628d3cea",
       "version_major": 2,
       "version_minor": 0
      },
      "text/plain": [
       "MetricVisualizer(layout=Layout(align_self='stretch', height='500px'))"
      ]
     },
     "metadata": {},
     "output_type": "display_data"
    },
    {
     "data": {
      "application/vnd.jupyter.widget-view+json": {
       "model_id": "a73cccfcc0e649738aadbd6d995a3dd0",
       "version_major": 2,
       "version_minor": 0
      },
      "text/plain": [
       "MetricVisualizer(layout=Layout(align_self='stretch', height='500px'))"
      ]
     },
     "metadata": {},
     "output_type": "display_data"
    },
    {
     "data": {
      "application/vnd.jupyter.widget-view+json": {
       "model_id": "22365a82caeb418a857b90f034b2093b",
       "version_major": 2,
       "version_minor": 0
      },
      "text/plain": [
       "MetricVisualizer(layout=Layout(align_self='stretch', height='500px'))"
      ]
     },
     "metadata": {},
     "output_type": "display_data"
    },
    {
     "data": {
      "application/vnd.jupyter.widget-view+json": {
       "model_id": "efd332c95eeb4148942b672bf3f54c00",
       "version_major": 2,
       "version_minor": 0
      },
      "text/plain": [
       "MetricVisualizer(layout=Layout(align_self='stretch', height='500px'))"
      ]
     },
     "metadata": {},
     "output_type": "display_data"
    },
    {
     "data": {
      "application/vnd.jupyter.widget-view+json": {
       "model_id": "1fee87663543481784033f5ee1a3a93a",
       "version_major": 2,
       "version_minor": 0
      },
      "text/plain": [
       "MetricVisualizer(layout=Layout(align_self='stretch', height='500px'))"
      ]
     },
     "metadata": {},
     "output_type": "display_data"
    },
    {
     "data": {
      "application/vnd.jupyter.widget-view+json": {
       "model_id": "27da9f403c8b4adbb248a0cd5031b448",
       "version_major": 2,
       "version_minor": 0
      },
      "text/plain": [
       "MetricVisualizer(layout=Layout(align_self='stretch', height='500px'))"
      ]
     },
     "metadata": {},
     "output_type": "display_data"
    },
    {
     "data": {
      "application/vnd.jupyter.widget-view+json": {
       "model_id": "c848df56b02e4a7d9770842d71a20067",
       "version_major": 2,
       "version_minor": 0
      },
      "text/plain": [
       "MetricVisualizer(layout=Layout(align_self='stretch', height='500px'))"
      ]
     },
     "metadata": {},
     "output_type": "display_data"
    },
    {
     "data": {
      "application/vnd.jupyter.widget-view+json": {
       "model_id": "7bf900de9d5b47efbde52bcd72fe8d2d",
       "version_major": 2,
       "version_minor": 0
      },
      "text/plain": [
       "MetricVisualizer(layout=Layout(align_self='stretch', height='500px'))"
      ]
     },
     "metadata": {},
     "output_type": "display_data"
    },
    {
     "data": {
      "application/vnd.jupyter.widget-view+json": {
       "model_id": "1e7f6f9afa3541b0b1429e32ab7370b7",
       "version_major": 2,
       "version_minor": 0
      },
      "text/plain": [
       "MetricVisualizer(layout=Layout(align_self='stretch', height='500px'))"
      ]
     },
     "metadata": {},
     "output_type": "display_data"
    },
    {
     "data": {
      "text/html": [
       "<div>\n",
       "<style scoped>\n",
       "    .dataframe tbody tr th:only-of-type {\n",
       "        vertical-align: middle;\n",
       "    }\n",
       "\n",
       "    .dataframe tbody tr th {\n",
       "        vertical-align: top;\n",
       "    }\n",
       "\n",
       "    .dataframe thead th {\n",
       "        text-align: right;\n",
       "    }\n",
       "</style>\n",
       "<table border=\"1\" class=\"dataframe\">\n",
       "  <thead>\n",
       "    <tr style=\"text-align: right;\">\n",
       "      <th></th>\n",
       "      <th>Feature Id</th>\n",
       "      <th>Importances</th>\n",
       "    </tr>\n",
       "  </thead>\n",
       "  <tbody>\n",
       "    <tr>\n",
       "      <th>0</th>\n",
       "      <td>age</td>\n",
       "      <td>79.972744</td>\n",
       "    </tr>\n",
       "    <tr>\n",
       "      <th>1</th>\n",
       "      <td>gender</td>\n",
       "      <td>20.027256</td>\n",
       "    </tr>\n",
       "  </tbody>\n",
       "</table>\n",
       "</div>"
      ],
      "text/plain": [
       "  Feature Id  Importances\n",
       "0        age    79.972744\n",
       "1     gender    20.027256"
      ]
     },
     "execution_count": 111,
     "metadata": {},
     "output_type": "execute_result"
    }
   ],
   "source": [
    "staged_probas_df, model_KU = train_model(df=df, cols=ga,\n",
    "                                          folds = 10, iterations=500, \\\n",
    "                                          depth=4)\n",
    "\n",
    "model_KU.get_feature_importance(prettified=True)"
   ]
  },
  {
   "cell_type": "code",
   "execution_count": 112,
   "id": "third-provision",
   "metadata": {},
   "outputs": [
    {
     "name": "stdout",
     "output_type": "stream",
     "text": [
      "[0.06860456836416107, 0.655665346352173, 0.6857821118544043, 0.7052279004486985, 0.7275354976130849, 0.9759889863354294]\n"
     ]
    },
    {
     "data": {
      "text/html": [
       "<div>\n",
       "<style scoped>\n",
       "    .dataframe tbody tr th:only-of-type {\n",
       "        vertical-align: middle;\n",
       "    }\n",
       "\n",
       "    .dataframe tbody tr th {\n",
       "        vertical-align: top;\n",
       "    }\n",
       "\n",
       "    .dataframe thead th {\n",
       "        text-align: right;\n",
       "    }\n",
       "</style>\n",
       "<table border=\"1\" class=\"dataframe\">\n",
       "  <thead>\n",
       "    <tr style=\"text-align: right;\">\n",
       "      <th></th>\n",
       "      <th>y proba</th>\n",
       "      <th>Процент людей, %</th>\n",
       "      <th>Процент мошенников в группе, %</th>\n",
       "      <th>Прибыль, млн.р</th>\n",
       "    </tr>\n",
       "  </thead>\n",
       "  <tbody>\n",
       "    <tr>\n",
       "      <th>0</th>\n",
       "      <td>0.068605</td>\n",
       "      <td>19.953906</td>\n",
       "      <td>35.501520</td>\n",
       "      <td>-1.67412</td>\n",
       "    </tr>\n",
       "    <tr>\n",
       "      <th>1</th>\n",
       "      <td>0.655665</td>\n",
       "      <td>20.050946</td>\n",
       "      <td>30.671506</td>\n",
       "      <td>-0.41626</td>\n",
       "    </tr>\n",
       "    <tr>\n",
       "      <th>2</th>\n",
       "      <td>0.685782</td>\n",
       "      <td>19.978166</td>\n",
       "      <td>31.936855</td>\n",
       "      <td>-0.95618</td>\n",
       "    </tr>\n",
       "    <tr>\n",
       "      <th>3</th>\n",
       "      <td>0.705228</td>\n",
       "      <td>19.881126</td>\n",
       "      <td>29.286150</td>\n",
       "      <td>0.32138</td>\n",
       "    </tr>\n",
       "    <tr>\n",
       "      <th>4</th>\n",
       "      <td>0.727535</td>\n",
       "      <td>20.111596</td>\n",
       "      <td>25.753920</td>\n",
       "      <td>-0.49056</td>\n",
       "    </tr>\n",
       "    <tr>\n",
       "      <th>5</th>\n",
       "      <td>0.975989</td>\n",
       "      <td>0.000000</td>\n",
       "      <td>NaN</td>\n",
       "      <td>0.00000</td>\n",
       "    </tr>\n",
       "  </tbody>\n",
       "</table>\n",
       "</div>"
      ],
      "text/plain": [
       "    y proba  Процент людей, %  Процент мошенников в группе, %  Прибыль, млн.р\n",
       "0  0.068605         19.953906                       35.501520        -1.67412\n",
       "1  0.655665         20.050946                       30.671506        -0.41626\n",
       "2  0.685782         19.978166                       31.936855        -0.95618\n",
       "3  0.705228         19.881126                       29.286150         0.32138\n",
       "4  0.727535         20.111596                       25.753920        -0.49056\n",
       "5  0.975989          0.000000                             NaN         0.00000"
      ]
     },
     "execution_count": 112,
     "metadata": {},
     "output_type": "execute_result"
    }
   ],
   "source": [
    "get_result_table(staged_probas_df[499])"
   ]
  },
  {
   "cell_type": "code",
   "execution_count": 113,
   "id": "innocent-caution",
   "metadata": {},
   "outputs": [
    {
     "name": "stderr",
     "output_type": "stream",
     "text": [
      "/home/nikolay/anaconda3/envs/merlin/lib/python3.7/site-packages/sklearn/utils/deprecation.py:86: FutureWarning: Function plot_roc_curve is deprecated; This will be removed in v0.5.0. Please use scikitplot.metrics.plot_roc instead.\n",
      "  warnings.warn(msg, category=FutureWarning)\n"
     ]
    },
    {
     "data": {
      "image/png": "[encoded data removed]",
      "text/plain": [
       "<Figure size 432x288 with 1 Axes>"
      ]
     },
     "metadata": {
      "needs_background": "light"
     },
     "output_type": "display_data"
    }
   ],
   "source": [
    "# Micro is shows more positive result\n",
    "y_proba = staged_probas_df[499]\n",
    "proba = np.array([y_proba, 1-y_proba])\n",
    "skplt.metrics.plot_roc_curve(df['target'].astype(int).values, proba.T, curves=['macro'])\n",
    "plt.show()"
   ]
  },
  {
   "cell_type": "markdown",
   "id": "extraordinary-australian",
   "metadata": {},
   "source": [
    "# All columns"
   ]
  },
  {
   "cell_type": "code",
   "execution_count": 105,
   "id": "marked-separation",
   "metadata": {},
   "outputs": [
    {
     "data": {
      "application/vnd.jupyter.widget-view+json": {
       "model_id": "33189421a4b74f13aba1f74e4683c8ec",
       "version_major": 2,
       "version_minor": 0
      },
      "text/plain": [
       "MetricVisualizer(layout=Layout(align_self='stretch', height='500px'))"
      ]
     },
     "metadata": {},
     "output_type": "display_data"
    },
    {
     "data": {
      "application/vnd.jupyter.widget-view+json": {
       "model_id": "2f5bb6b9ed0d4af3b84c4d3d32c7b847",
       "version_major": 2,
       "version_minor": 0
      },
      "text/plain": [
       "MetricVisualizer(layout=Layout(align_self='stretch', height='500px'))"
      ]
     },
     "metadata": {},
     "output_type": "display_data"
    },
    {
     "data": {
      "application/vnd.jupyter.widget-view+json": {
       "model_id": "a80060a453544556a4378dd18f52464c",
       "version_major": 2,
       "version_minor": 0
      },
      "text/plain": [
       "MetricVisualizer(layout=Layout(align_self='stretch', height='500px'))"
      ]
     },
     "metadata": {},
     "output_type": "display_data"
    },
    {
     "data": {
      "application/vnd.jupyter.widget-view+json": {
       "model_id": "4c9819ef7a33480e83097917d6592088",
       "version_major": 2,
       "version_minor": 0
      },
      "text/plain": [
       "MetricVisualizer(layout=Layout(align_self='stretch', height='500px'))"
      ]
     },
     "metadata": {},
     "output_type": "display_data"
    },
    {
     "data": {
      "application/vnd.jupyter.widget-view+json": {
       "model_id": "71255a29483a4e44962d8c7bf6e2fe5d",
       "version_major": 2,
       "version_minor": 0
      },
      "text/plain": [
       "MetricVisualizer(layout=Layout(align_self='stretch', height='500px'))"
      ]
     },
     "metadata": {},
     "output_type": "display_data"
    },
    {
     "data": {
      "application/vnd.jupyter.widget-view+json": {
       "model_id": "339a093ee71e4dd1b791285bc32cf9a8",
       "version_major": 2,
       "version_minor": 0
      },
      "text/plain": [
       "MetricVisualizer(layout=Layout(align_self='stretch', height='500px'))"
      ]
     },
     "metadata": {},
     "output_type": "display_data"
    },
    {
     "data": {
      "application/vnd.jupyter.widget-view+json": {
       "model_id": "34e674d4d84047dfba376482f32365ec",
       "version_major": 2,
       "version_minor": 0
      },
      "text/plain": [
       "MetricVisualizer(layout=Layout(align_self='stretch', height='500px'))"
      ]
     },
     "metadata": {},
     "output_type": "display_data"
    },
    {
     "data": {
      "application/vnd.jupyter.widget-view+json": {
       "model_id": "0fd13dce423d43648672ce4dd120c91d",
       "version_major": 2,
       "version_minor": 0
      },
      "text/plain": [
       "MetricVisualizer(layout=Layout(align_self='stretch', height='500px'))"
      ]
     },
     "metadata": {},
     "output_type": "display_data"
    },
    {
     "data": {
      "application/vnd.jupyter.widget-view+json": {
       "model_id": "354967a4c8dd4cdc9aa87ba5c99478b8",
       "version_major": 2,
       "version_minor": 0
      },
      "text/plain": [
       "MetricVisualizer(layout=Layout(align_self='stretch', height='500px'))"
      ]
     },
     "metadata": {},
     "output_type": "display_data"
    },
    {
     "data": {
      "application/vnd.jupyter.widget-view+json": {
       "model_id": "de1e638e11d54a69ad646664f0cc84ee",
       "version_major": 2,
       "version_minor": 0
      },
      "text/plain": [
       "MetricVisualizer(layout=Layout(align_self='stretch', height='500px'))"
      ]
     },
     "metadata": {},
     "output_type": "display_data"
    },
    {
     "data": {
      "text/html": [
       "<div>\n",
       "<style scoped>\n",
       "    .dataframe tbody tr th:only-of-type {\n",
       "        vertical-align: middle;\n",
       "    }\n",
       "\n",
       "    .dataframe tbody tr th {\n",
       "        vertical-align: top;\n",
       "    }\n",
       "\n",
       "    .dataframe thead th {\n",
       "        text-align: right;\n",
       "    }\n",
       "</style>\n",
       "<table border=\"1\" class=\"dataframe\">\n",
       "  <thead>\n",
       "    <tr style=\"text-align: right;\">\n",
       "      <th></th>\n",
       "      <th>Feature Id</th>\n",
       "      <th>Importances</th>\n",
       "    </tr>\n",
       "  </thead>\n",
       "  <tbody>\n",
       "    <tr>\n",
       "      <th>0</th>\n",
       "      <td>age</td>\n",
       "      <td>6.249945</td>\n",
       "    </tr>\n",
       "    <tr>\n",
       "      <th>1</th>\n",
       "      <td>Уголки рта</td>\n",
       "      <td>6.147244</td>\n",
       "    </tr>\n",
       "    <tr>\n",
       "      <th>2</th>\n",
       "      <td>Форма головы</td>\n",
       "      <td>6.034807</td>\n",
       "    </tr>\n",
       "    <tr>\n",
       "      <th>3</th>\n",
       "      <td>Размер рта</td>\n",
       "      <td>5.378161</td>\n",
       "    </tr>\n",
       "    <tr>\n",
       "      <th>4</th>\n",
       "      <td>Высота бровей</td>\n",
       "      <td>5.127652</td>\n",
       "    </tr>\n",
       "    <tr>\n",
       "      <th>5</th>\n",
       "      <td>Асимметрия челюсти</td>\n",
       "      <td>4.945523</td>\n",
       "    </tr>\n",
       "    <tr>\n",
       "      <th>6</th>\n",
       "      <td>Скулы</td>\n",
       "      <td>4.656878</td>\n",
       "    </tr>\n",
       "    <tr>\n",
       "      <th>7</th>\n",
       "      <td>Наклон глаз</td>\n",
       "      <td>4.360309</td>\n",
       "    </tr>\n",
       "    <tr>\n",
       "      <th>8</th>\n",
       "      <td>Асимметрия размера глаз</td>\n",
       "      <td>4.255756</td>\n",
       "    </tr>\n",
       "    <tr>\n",
       "      <th>9</th>\n",
       "      <td>Оттопыренность ушей</td>\n",
       "      <td>4.058158</td>\n",
       "    </tr>\n",
       "    <tr>\n",
       "      <th>10</th>\n",
       "      <td>Асимметрия наклона глаз</td>\n",
       "      <td>4.041231</td>\n",
       "    </tr>\n",
       "    <tr>\n",
       "      <th>11</th>\n",
       "      <td>Ширина посадки глаз</td>\n",
       "      <td>4.033904</td>\n",
       "    </tr>\n",
       "    <tr>\n",
       "      <th>12</th>\n",
       "      <td>Полнота нижней губы</td>\n",
       "      <td>3.974112</td>\n",
       "    </tr>\n",
       "    <tr>\n",
       "      <th>13</th>\n",
       "      <td>Размер глаз</td>\n",
       "      <td>3.933111</td>\n",
       "    </tr>\n",
       "    <tr>\n",
       "      <th>14</th>\n",
       "      <td>Верхнее веко</td>\n",
       "      <td>3.724692</td>\n",
       "    </tr>\n",
       "    <tr>\n",
       "      <th>15</th>\n",
       "      <td>Асимметрия брови</td>\n",
       "      <td>3.556876</td>\n",
       "    </tr>\n",
       "    <tr>\n",
       "      <th>16</th>\n",
       "      <td>source</td>\n",
       "      <td>3.552184</td>\n",
       "    </tr>\n",
       "    <tr>\n",
       "      <th>17</th>\n",
       "      <td>Полнота верхней губы</td>\n",
       "      <td>3.500625</td>\n",
       "    </tr>\n",
       "    <tr>\n",
       "      <th>18</th>\n",
       "      <td>Наклон бровей</td>\n",
       "      <td>3.344625</td>\n",
       "    </tr>\n",
       "    <tr>\n",
       "      <th>19</th>\n",
       "      <td>job</td>\n",
       "      <td>2.965289</td>\n",
       "    </tr>\n",
       "    <tr>\n",
       "      <th>20</th>\n",
       "      <td>Ширина челюсти</td>\n",
       "      <td>2.822230</td>\n",
       "    </tr>\n",
       "    <tr>\n",
       "      <th>21</th>\n",
       "      <td>Асимметрия носа</td>\n",
       "      <td>2.362707</td>\n",
       "    </tr>\n",
       "    <tr>\n",
       "      <th>22</th>\n",
       "      <td>education</td>\n",
       "      <td>2.121017</td>\n",
       "    </tr>\n",
       "    <tr>\n",
       "      <th>23</th>\n",
       "      <td>marital_status</td>\n",
       "      <td>1.762983</td>\n",
       "    </tr>\n",
       "    <tr>\n",
       "      <th>24</th>\n",
       "      <td>childs</td>\n",
       "      <td>1.560869</td>\n",
       "    </tr>\n",
       "    <tr>\n",
       "      <th>25</th>\n",
       "      <td>gender</td>\n",
       "      <td>1.529113</td>\n",
       "    </tr>\n",
       "  </tbody>\n",
       "</table>\n",
       "</div>"
      ],
      "text/plain": [
       "                 Feature Id  Importances\n",
       "0                       age     6.249945\n",
       "1                Уголки рта     6.147244\n",
       "2              Форма головы     6.034807\n",
       "3                Размер рта     5.378161\n",
       "4             Высота бровей     5.127652\n",
       "5        Асимметрия челюсти     4.945523\n",
       "6                     Скулы     4.656878\n",
       "7               Наклон глаз     4.360309\n",
       "8   Асимметрия размера глаз     4.255756\n",
       "9       Оттопыренность ушей     4.058158\n",
       "10  Асимметрия наклона глаз     4.041231\n",
       "11      Ширина посадки глаз     4.033904\n",
       "12      Полнота нижней губы     3.974112\n",
       "13              Размер глаз     3.933111\n",
       "14             Верхнее веко     3.724692\n",
       "15         Асимметрия брови     3.556876\n",
       "16                   source     3.552184\n",
       "17     Полнота верхней губы     3.500625\n",
       "18            Наклон бровей     3.344625\n",
       "19                      job     2.965289\n",
       "20           Ширина челюсти     2.822230\n",
       "21          Асимметрия носа     2.362707\n",
       "22                education     2.121017\n",
       "23           marital_status     1.762983\n",
       "24                   childs     1.560869\n",
       "25                   gender     1.529113"
      ]
     },
     "execution_count": 105,
     "metadata": {},
     "output_type": "execute_result"
    }
   ],
   "source": [
    "staged_probas_df, model_KU = train_model(df=df, cols=features+ga+anketas,\n",
    "                                          folds = 10, iterations=500, \\\n",
    "                                          depth=4)\n",
    "\n",
    "model_KU.get_feature_importance(prettified=True)"
   ]
  },
  {
   "cell_type": "code",
   "execution_count": 106,
   "id": "handmade-papua",
   "metadata": {},
   "outputs": [
    {
     "name": "stdout",
     "output_type": "stream",
     "text": [
      "[0.22885762245823732, 0.6302350580179519, 0.6821898703673143, 0.7193253194403825, 0.7654188989774943, 0.9356766601992849]\n"
     ]
    },
    {
     "data": {
      "text/html": [
       "<div>\n",
       "<style scoped>\n",
       "    .dataframe tbody tr th:only-of-type {\n",
       "        vertical-align: middle;\n",
       "    }\n",
       "\n",
       "    .dataframe tbody tr th {\n",
       "        vertical-align: top;\n",
       "    }\n",
       "\n",
       "    .dataframe thead th {\n",
       "        text-align: right;\n",
       "    }\n",
       "</style>\n",
       "<table border=\"1\" class=\"dataframe\">\n",
       "  <thead>\n",
       "    <tr style=\"text-align: right;\">\n",
       "      <th></th>\n",
       "      <th>y proba</th>\n",
       "      <th>Процент людей, %</th>\n",
       "      <th>Процент мошенников в группе, %</th>\n",
       "      <th>Прибыль, млн.р</th>\n",
       "    </tr>\n",
       "  </thead>\n",
       "  <tbody>\n",
       "    <tr>\n",
       "      <th>0</th>\n",
       "      <td>0.228858</td>\n",
       "      <td>20.002426</td>\n",
       "      <td>36.870831</td>\n",
       "      <td>-1.55448</td>\n",
       "    </tr>\n",
       "    <tr>\n",
       "      <th>1</th>\n",
       "      <td>0.630235</td>\n",
       "      <td>20.002426</td>\n",
       "      <td>37.719830</td>\n",
       "      <td>-1.47668</td>\n",
       "    </tr>\n",
       "    <tr>\n",
       "      <th>2</th>\n",
       "      <td>0.682190</td>\n",
       "      <td>19.990296</td>\n",
       "      <td>31.856796</td>\n",
       "      <td>-0.34664</td>\n",
       "    </tr>\n",
       "    <tr>\n",
       "      <th>3</th>\n",
       "      <td>0.719325</td>\n",
       "      <td>20.002426</td>\n",
       "      <td>29.169193</td>\n",
       "      <td>-0.60530</td>\n",
       "    </tr>\n",
       "    <tr>\n",
       "      <th>4</th>\n",
       "      <td>0.765419</td>\n",
       "      <td>19.978166</td>\n",
       "      <td>17.486339</td>\n",
       "      <td>0.78862</td>\n",
       "    </tr>\n",
       "    <tr>\n",
       "      <th>5</th>\n",
       "      <td>0.935677</td>\n",
       "      <td>0.000000</td>\n",
       "      <td>NaN</td>\n",
       "      <td>0.00000</td>\n",
       "    </tr>\n",
       "  </tbody>\n",
       "</table>\n",
       "</div>"
      ],
      "text/plain": [
       "    y proba  Процент людей, %  Процент мошенников в группе, %  Прибыль, млн.р\n",
       "0  0.228858         20.002426                       36.870831        -1.55448\n",
       "1  0.630235         20.002426                       37.719830        -1.47668\n",
       "2  0.682190         19.990296                       31.856796        -0.34664\n",
       "3  0.719325         20.002426                       29.169193        -0.60530\n",
       "4  0.765419         19.978166                       17.486339         0.78862\n",
       "5  0.935677          0.000000                             NaN         0.00000"
      ]
     },
     "execution_count": 106,
     "metadata": {},
     "output_type": "execute_result"
    }
   ],
   "source": [
    "get_result_table(staged_probas_df[499])"
   ]
  },
  {
   "cell_type": "code",
   "execution_count": 125,
   "id": "recorded-reverse",
   "metadata": {},
   "outputs": [
    {
     "name": "stderr",
     "output_type": "stream",
     "text": [
      "/home/nikolay/anaconda3/envs/merlin/lib/python3.7/site-packages/sklearn/utils/deprecation.py:86: FutureWarning: Function plot_roc_curve is deprecated; This will be removed in v0.5.0. Please use scikitplot.metrics.plot_roc instead.\n",
      "  warnings.warn(msg, category=FutureWarning)\n"
     ]
    },
    {
     "data": {
      "image/png": "[encoded data removed]",
      "text/plain": [
       "<Figure size 432x288 with 1 Axes>"
      ]
     },
     "metadata": {
      "needs_background": "light"
     },
     "output_type": "display_data"
    }
   ],
   "source": [
    "# Micro is shows more positive result\n",
    "y_proba = staged_probas_df[499]\n",
    "proba = np.array([y_proba, 1-y_proba])\n",
    "skplt.metrics.plot_roc_curve(df['target'].astype(int).values, proba.T, curves=['macro'])\n",
    "plt.show()"
   ]
  }
 ],
 "metadata": {
  "kernelspec": {
   "display_name": "Python 3",
   "language": "python",
   "name": "python3"
  },
  "language_info": {
   "codemirror_mode": {
    "name": "ipython",
    "version": 3
   },
   "file_extension": ".py",
   "mimetype": "text/x-python",
   "name": "python",
   "nbconvert_exporter": "python",
   "pygments_lexer": "ipython3",
   "version": "3.7.9"
  }
 },
 "nbformat": 4,
 "nbformat_minor": 5
}
